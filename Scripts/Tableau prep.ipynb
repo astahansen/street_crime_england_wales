{
 "cells": [
  {
   "cell_type": "markdown",
   "id": "d929feb2",
   "metadata": {},
   "source": [
    "## 1 Import libraries & data"
   ]
  },
  {
   "cell_type": "code",
   "execution_count": 1,
   "id": "6e707652",
   "metadata": {},
   "outputs": [],
   "source": [
    "#Importing libraries\n",
    "import pandas as pd\n",
    "import numpy as np\n",
    "import os"
   ]
  },
  {
   "cell_type": "code",
   "execution_count": 2,
   "id": "4c968bec",
   "metadata": {},
   "outputs": [],
   "source": [
    "#Define path\n",
    "path = r'C:\\Users\\astat\\Documents\\Final project'"
   ]
  },
  {
   "cell_type": "code",
   "execution_count": 3,
   "id": "68ab6cdd",
   "metadata": {},
   "outputs": [],
   "source": [
    "#Import data\n",
    "df_crime = pd.read_csv(os.path.join(path, 'Data', 'Prepared Data','crime_police_cleaned3.csv'), index_col = False)"
   ]
  },
  {
   "cell_type": "code",
   "execution_count": 4,
   "id": "ada128c8",
   "metadata": {},
   "outputs": [
    {
     "data": {
      "text/html": [
       "<div>\n",
       "<style scoped>\n",
       "    .dataframe tbody tr th:only-of-type {\n",
       "        vertical-align: middle;\n",
       "    }\n",
       "\n",
       "    .dataframe tbody tr th {\n",
       "        vertical-align: top;\n",
       "    }\n",
       "\n",
       "    .dataframe thead th {\n",
       "        text-align: right;\n",
       "    }\n",
       "</style>\n",
       "<table border=\"1\" class=\"dataframe\">\n",
       "  <thead>\n",
       "    <tr style=\"text-align: right;\">\n",
       "      <th></th>\n",
       "      <th>Unnamed: 0</th>\n",
       "      <th>Staff_area_name</th>\n",
       "      <th>crime_area</th>\n",
       "      <th>Geo_boundries_Data_match</th>\n",
       "      <th>number_residents</th>\n",
       "      <th>number_police</th>\n",
       "      <th>year</th>\n",
       "      <th>police_per_1000</th>\n",
       "      <th>number_spc</th>\n",
       "      <th>id</th>\n",
       "      <th>...</th>\n",
       "      <th>crime_type</th>\n",
       "      <th>outcome_cat</th>\n",
       "      <th>month</th>\n",
       "      <th>number_crimes</th>\n",
       "      <th>crime_per_officer</th>\n",
       "      <th>crime_per_residents</th>\n",
       "      <th>crime</th>\n",
       "      <th>area_size</th>\n",
       "      <th>pop_density</th>\n",
       "      <th>urban</th>\n",
       "    </tr>\n",
       "  </thead>\n",
       "  <tbody>\n",
       "    <tr>\n",
       "      <th>0</th>\n",
       "      <td>0</td>\n",
       "      <td>West Yorkshire</td>\n",
       "      <td>37</td>\n",
       "      <td>E23000010</td>\n",
       "      <td>2332500.0</td>\n",
       "      <td>5344.0</td>\n",
       "      <td>2020</td>\n",
       "      <td>2.3</td>\n",
       "      <td>271.0</td>\n",
       "      <td>0</td>\n",
       "      <td>...</td>\n",
       "      <td>14</td>\n",
       "      <td>24.0</td>\n",
       "      <td>1</td>\n",
       "      <td>27252</td>\n",
       "      <td>5.099551</td>\n",
       "      <td>11.683601</td>\n",
       "      <td>Violence &amp; damage</td>\n",
       "      <td>2029.0</td>\n",
       "      <td>1149.581074</td>\n",
       "      <td>0</td>\n",
       "    </tr>\n",
       "    <tr>\n",
       "      <th>1</th>\n",
       "      <td>1</td>\n",
       "      <td>West Yorkshire</td>\n",
       "      <td>37</td>\n",
       "      <td>E23000010</td>\n",
       "      <td>2332500.0</td>\n",
       "      <td>5344.0</td>\n",
       "      <td>2020</td>\n",
       "      <td>2.3</td>\n",
       "      <td>271.0</td>\n",
       "      <td>1</td>\n",
       "      <td>...</td>\n",
       "      <td>8</td>\n",
       "      <td>10.0</td>\n",
       "      <td>1</td>\n",
       "      <td>27252</td>\n",
       "      <td>5.099551</td>\n",
       "      <td>11.683601</td>\n",
       "      <td>Weapons &amp; Drugs</td>\n",
       "      <td>2029.0</td>\n",
       "      <td>1149.581074</td>\n",
       "      <td>0</td>\n",
       "    </tr>\n",
       "    <tr>\n",
       "      <th>2</th>\n",
       "      <td>2</td>\n",
       "      <td>West Yorkshire</td>\n",
       "      <td>37</td>\n",
       "      <td>E23000010</td>\n",
       "      <td>2332500.0</td>\n",
       "      <td>5344.0</td>\n",
       "      <td>2020</td>\n",
       "      <td>2.3</td>\n",
       "      <td>271.0</td>\n",
       "      <td>2</td>\n",
       "      <td>...</td>\n",
       "      <td>2</td>\n",
       "      <td>10.0</td>\n",
       "      <td>1</td>\n",
       "      <td>27252</td>\n",
       "      <td>5.099551</td>\n",
       "      <td>11.683601</td>\n",
       "      <td>Theft</td>\n",
       "      <td>2029.0</td>\n",
       "      <td>1149.581074</td>\n",
       "      <td>0</td>\n",
       "    </tr>\n",
       "    <tr>\n",
       "      <th>3</th>\n",
       "      <td>3</td>\n",
       "      <td>West Yorkshire</td>\n",
       "      <td>37</td>\n",
       "      <td>E23000010</td>\n",
       "      <td>2332500.0</td>\n",
       "      <td>5344.0</td>\n",
       "      <td>2020</td>\n",
       "      <td>2.3</td>\n",
       "      <td>271.0</td>\n",
       "      <td>3</td>\n",
       "      <td>...</td>\n",
       "      <td>3</td>\n",
       "      <td>10.0</td>\n",
       "      <td>1</td>\n",
       "      <td>27252</td>\n",
       "      <td>5.099551</td>\n",
       "      <td>11.683601</td>\n",
       "      <td>Theft</td>\n",
       "      <td>2029.0</td>\n",
       "      <td>1149.581074</td>\n",
       "      <td>0</td>\n",
       "    </tr>\n",
       "    <tr>\n",
       "      <th>4</th>\n",
       "      <td>4</td>\n",
       "      <td>West Yorkshire</td>\n",
       "      <td>37</td>\n",
       "      <td>E23000010</td>\n",
       "      <td>2332500.0</td>\n",
       "      <td>5344.0</td>\n",
       "      <td>2020</td>\n",
       "      <td>2.3</td>\n",
       "      <td>271.0</td>\n",
       "      <td>4</td>\n",
       "      <td>...</td>\n",
       "      <td>4</td>\n",
       "      <td>10.0</td>\n",
       "      <td>1</td>\n",
       "      <td>27252</td>\n",
       "      <td>5.099551</td>\n",
       "      <td>11.683601</td>\n",
       "      <td>Violence &amp; damage</td>\n",
       "      <td>2029.0</td>\n",
       "      <td>1149.581074</td>\n",
       "      <td>0</td>\n",
       "    </tr>\n",
       "  </tbody>\n",
       "</table>\n",
       "<p>5 rows × 26 columns</p>\n",
       "</div>"
      ],
      "text/plain": [
       "   Unnamed: 0 Staff_area_name  crime_area Geo_boundries_Data_match  \\\n",
       "0           0  West Yorkshire          37                E23000010   \n",
       "1           1  West Yorkshire          37                E23000010   \n",
       "2           2  West Yorkshire          37                E23000010   \n",
       "3           3  West Yorkshire          37                E23000010   \n",
       "4           4  West Yorkshire          37                E23000010   \n",
       "\n",
       "   number_residents  number_police  year  police_per_1000  number_spc  id  \\\n",
       "0         2332500.0         5344.0  2020              2.3       271.0   0   \n",
       "1         2332500.0         5344.0  2020              2.3       271.0   1   \n",
       "2         2332500.0         5344.0  2020              2.3       271.0   2   \n",
       "3         2332500.0         5344.0  2020              2.3       271.0   3   \n",
       "4         2332500.0         5344.0  2020              2.3       271.0   4   \n",
       "\n",
       "   ... crime_type  outcome_cat  month  number_crimes crime_per_officer  \\\n",
       "0  ...         14         24.0      1          27252          5.099551   \n",
       "1  ...          8         10.0      1          27252          5.099551   \n",
       "2  ...          2         10.0      1          27252          5.099551   \n",
       "3  ...          3         10.0      1          27252          5.099551   \n",
       "4  ...          4         10.0      1          27252          5.099551   \n",
       "\n",
       "  crime_per_residents              crime  area_size  pop_density  urban  \n",
       "0           11.683601  Violence & damage     2029.0  1149.581074      0  \n",
       "1           11.683601    Weapons & Drugs     2029.0  1149.581074      0  \n",
       "2           11.683601              Theft     2029.0  1149.581074      0  \n",
       "3           11.683601              Theft     2029.0  1149.581074      0  \n",
       "4           11.683601  Violence & damage     2029.0  1149.581074      0  \n",
       "\n",
       "[5 rows x 26 columns]"
      ]
     },
     "execution_count": 4,
     "metadata": {},
     "output_type": "execute_result"
    }
   ],
   "source": [
    "df_crime.head()"
   ]
  },
  {
   "cell_type": "code",
   "execution_count": 5,
   "id": "40dddc6a",
   "metadata": {},
   "outputs": [
    {
     "data": {
      "text/plain": [
       "(18362528, 26)"
      ]
     },
     "execution_count": 5,
     "metadata": {},
     "output_type": "execute_result"
    }
   ],
   "source": [
    "df_crime.shape"
   ]
  },
  {
   "cell_type": "code",
   "execution_count": 6,
   "id": "852d60e0",
   "metadata": {},
   "outputs": [
    {
     "name": "stdout",
     "output_type": "stream",
     "text": [
      "<class 'pandas.core.frame.DataFrame'>\n",
      "RangeIndex: 18362528 entries, 0 to 18362527\n",
      "Data columns (total 26 columns):\n",
      " #   Column                    Dtype  \n",
      "---  ------                    -----  \n",
      " 0   Unnamed: 0                int64  \n",
      " 1   Staff_area_name           object \n",
      " 2   crime_area                int64  \n",
      " 3   Geo_boundries_Data_match  object \n",
      " 4   number_residents          float64\n",
      " 5   number_police             float64\n",
      " 6   year                      int64  \n",
      " 7   police_per_1000           float64\n",
      " 8   number_spc                float64\n",
      " 9   id                        int64  \n",
      " 10  date                      object \n",
      " 11  reported                  int64  \n",
      " 12  Longitude                 float64\n",
      " 13  Latitude                  float64\n",
      " 14  lsoa_code                 object \n",
      " 15  lsoa_name                 object \n",
      " 16  crime_type                int64  \n",
      " 17  outcome_cat               float64\n",
      " 18  month                     int64  \n",
      " 19  number_crimes             int64  \n",
      " 20  crime_per_officer         float64\n",
      " 21  crime_per_residents       float64\n",
      " 22  crime                     object \n",
      " 23  area_size                 float64\n",
      " 24  pop_density               float64\n",
      " 25  urban                     int64  \n",
      "dtypes: float64(11), int64(9), object(6)\n",
      "memory usage: 3.6+ GB\n"
     ]
    }
   ],
   "source": [
    "df_crime.info()"
   ]
  },
  {
   "cell_type": "markdown",
   "id": "72c795f0",
   "metadata": {},
   "source": [
    "## 2 Reduce observations to 15m"
   ]
  },
  {
   "cell_type": "code",
   "execution_count": 14,
   "id": "684b71a1",
   "metadata": {},
   "outputs": [],
   "source": [
    "#Drop Wales\n",
    "df_crime.drop(df_crime[df_crime.crime_area == 40].index, inplace=True)"
   ]
  },
  {
   "cell_type": "code",
   "execution_count": 16,
   "id": "ac739f82",
   "metadata": {},
   "outputs": [],
   "source": [
    "df_crime.drop(df_crime[df_crime.crime_area == 41].index, inplace=True)"
   ]
  },
  {
   "cell_type": "code",
   "execution_count": 17,
   "id": "3a4e4c46",
   "metadata": {},
   "outputs": [],
   "source": [
    "df_crime.drop(df_crime[df_crime.crime_area == 42].index, inplace=True)"
   ]
  },
  {
   "cell_type": "code",
   "execution_count": 18,
   "id": "d62b7711",
   "metadata": {},
   "outputs": [],
   "source": [
    "df_crime.drop(df_crime[df_crime.crime_area == 43].index, inplace=True)"
   ]
  },
  {
   "cell_type": "code",
   "execution_count": 19,
   "id": "d918fc1c",
   "metadata": {},
   "outputs": [
    {
     "data": {
      "text/plain": [
       "(17391831, 26)"
      ]
     },
     "execution_count": 19,
     "metadata": {},
     "output_type": "execute_result"
    }
   ],
   "source": [
    "df_crime.shape"
   ]
  },
  {
   "cell_type": "code",
   "execution_count": 20,
   "id": "c34009be",
   "metadata": {},
   "outputs": [],
   "source": [
    "#Drop 2018\n",
    "df_crime.drop(df_crime[df_crime.year == 2018].index, inplace=True)"
   ]
  },
  {
   "cell_type": "code",
   "execution_count": 21,
   "id": "abb11c05",
   "metadata": {},
   "outputs": [
    {
     "data": {
      "text/plain": [
       "(15877703, 26)"
      ]
     },
     "execution_count": 21,
     "metadata": {},
     "output_type": "execute_result"
    }
   ],
   "source": [
    "df_crime.shape"
   ]
  },
  {
   "cell_type": "code",
   "execution_count": null,
   "id": "e0b7e9be",
   "metadata": {},
   "outputs": [],
   "source": [
    "#Drop crimes located in NI\n",
    "#df_crime.drop(df_crime[df_crime.Longitude<-5.4]) & (df_crime[df_crime.Latitude>54])\n",
    "#df_new = df.drop(df[(df['col_1'] == 1.0) & (df['col_2'] == 0.0)].index)"
   ]
  },
  {
   "cell_type": "code",
   "execution_count": 27,
   "id": "46010728",
   "metadata": {},
   "outputs": [],
   "source": [
    "#Drop last 2 months (Aug & Sep 2021)\n",
    "df_crime.drop(df_crime[df_crime.date >= '2021-08'].index, inplace=True)"
   ]
  },
  {
   "cell_type": "code",
   "execution_count": 28,
   "id": "bc4e05e9",
   "metadata": {},
   "outputs": [
    {
     "data": {
      "text/plain": [
       "(14985980, 26)"
      ]
     },
     "execution_count": 28,
     "metadata": {},
     "output_type": "execute_result"
    }
   ],
   "source": [
    "df_crime.shape"
   ]
  },
  {
   "cell_type": "markdown",
   "id": "3b815d4a",
   "metadata": {},
   "source": [
    "## 3 Export reduced df"
   ]
  },
  {
   "cell_type": "code",
   "execution_count": 29,
   "id": "1f58ff78",
   "metadata": {},
   "outputs": [],
   "source": [
    "df_crime.to_csv(os.path.join(path, 'Data','Prepared Data', 'crime_police_15.csv')) "
   ]
  },
  {
   "cell_type": "code",
   "execution_count": null,
   "id": "aa42ecfd",
   "metadata": {},
   "outputs": [],
   "source": []
  }
 ],
 "metadata": {
  "kernelspec": {
   "display_name": "Python 3 (ipykernel)",
   "language": "python",
   "name": "python3"
  },
  "language_info": {
   "codemirror_mode": {
    "name": "ipython",
    "version": 3
   },
   "file_extension": ".py",
   "mimetype": "text/x-python",
   "name": "python",
   "nbconvert_exporter": "python",
   "pygments_lexer": "ipython3",
   "version": "3.9.12"
  }
 },
 "nbformat": 4,
 "nbformat_minor": 5
}
