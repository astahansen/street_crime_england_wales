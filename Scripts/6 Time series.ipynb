{
 "cells": [
  {
   "cell_type": "markdown",
   "id": "f4e3e038",
   "metadata": {},
   "source": [
    "# 01. Import libraries & data"
   ]
  },
  {
   "cell_type": "code",
   "execution_count": 1,
   "id": "25cf297f",
   "metadata": {},
   "outputs": [],
   "source": [
    "import quandl\n",
    "import pandas as pd\n",
    "import numpy as np\n",
    "import seaborn as sns\n",
    "import matplotlib\n",
    "import matplotlib.pyplot as plt\n",
    "import os\n",
    "import statsmodels.api as sm\n",
    "import warnings\n",
    "\n",
    "\n",
    "warnings.filterwarnings(\"ignore\")\n",
    "\n",
    "plt.style.use('fivethirtyeight')"
   ]
  },
  {
   "cell_type": "code",
   "execution_count": 2,
   "id": "5f03f9ad",
   "metadata": {},
   "outputs": [],
   "source": [
    "%matplotlib inline"
   ]
  },
  {
   "cell_type": "code",
   "execution_count": 3,
   "id": "d06e3842",
   "metadata": {},
   "outputs": [],
   "source": [
    "#Define path\n",
    "path = r'C:\\Users\\astat\\Documents\\Final project'"
   ]
  },
  {
   "cell_type": "code",
   "execution_count": 4,
   "id": "a9038678",
   "metadata": {},
   "outputs": [],
   "source": [
    "#Import data\n",
    "crime_police = pd.read_pickle(os.path.join(path, 'Data', 'Prepared Data', 'crime_police_cleaned3.pkl'))"
   ]
  },
  {
   "cell_type": "code",
   "execution_count": 5,
   "id": "4089a7d0",
   "metadata": {},
   "outputs": [
    {
     "data": {
      "text/html": [
       "<div>\n",
       "<style scoped>\n",
       "    .dataframe tbody tr th:only-of-type {\n",
       "        vertical-align: middle;\n",
       "    }\n",
       "\n",
       "    .dataframe tbody tr th {\n",
       "        vertical-align: top;\n",
       "    }\n",
       "\n",
       "    .dataframe thead th {\n",
       "        text-align: right;\n",
       "    }\n",
       "</style>\n",
       "<table border=\"1\" class=\"dataframe\">\n",
       "  <thead>\n",
       "    <tr style=\"text-align: right;\">\n",
       "      <th></th>\n",
       "      <th>Staff_area_name</th>\n",
       "      <th>crime_area</th>\n",
       "      <th>Geo_boundries_Data_match</th>\n",
       "      <th>number_residents</th>\n",
       "      <th>number_police</th>\n",
       "      <th>year</th>\n",
       "      <th>police_per_1000</th>\n",
       "      <th>number_spc</th>\n",
       "      <th>id</th>\n",
       "      <th>date</th>\n",
       "      <th>...</th>\n",
       "      <th>crime_type</th>\n",
       "      <th>outcome_cat</th>\n",
       "      <th>month</th>\n",
       "      <th>number_crimes</th>\n",
       "      <th>crime_per_officer</th>\n",
       "      <th>crime_per_residents</th>\n",
       "      <th>crime</th>\n",
       "      <th>area_size</th>\n",
       "      <th>pop_density</th>\n",
       "      <th>urban</th>\n",
       "    </tr>\n",
       "  </thead>\n",
       "  <tbody>\n",
       "    <tr>\n",
       "      <th>0</th>\n",
       "      <td>West Yorkshire</td>\n",
       "      <td>37</td>\n",
       "      <td>E23000010</td>\n",
       "      <td>2332500.0</td>\n",
       "      <td>5344.0</td>\n",
       "      <td>2020</td>\n",
       "      <td>2.300781</td>\n",
       "      <td>271.0</td>\n",
       "      <td>0</td>\n",
       "      <td>2020-01</td>\n",
       "      <td>...</td>\n",
       "      <td>14</td>\n",
       "      <td>24.0</td>\n",
       "      <td>1</td>\n",
       "      <td>27252</td>\n",
       "      <td>5.099551</td>\n",
       "      <td>11.683601</td>\n",
       "      <td>Violence &amp; damage</td>\n",
       "      <td>2029.0</td>\n",
       "      <td>1149.581074</td>\n",
       "      <td>0</td>\n",
       "    </tr>\n",
       "    <tr>\n",
       "      <th>1</th>\n",
       "      <td>West Yorkshire</td>\n",
       "      <td>37</td>\n",
       "      <td>E23000010</td>\n",
       "      <td>2332500.0</td>\n",
       "      <td>5344.0</td>\n",
       "      <td>2020</td>\n",
       "      <td>2.300781</td>\n",
       "      <td>271.0</td>\n",
       "      <td>1</td>\n",
       "      <td>2020-01</td>\n",
       "      <td>...</td>\n",
       "      <td>8</td>\n",
       "      <td>10.0</td>\n",
       "      <td>1</td>\n",
       "      <td>27252</td>\n",
       "      <td>5.099551</td>\n",
       "      <td>11.683601</td>\n",
       "      <td>Weapons &amp; Drugs</td>\n",
       "      <td>2029.0</td>\n",
       "      <td>1149.581074</td>\n",
       "      <td>0</td>\n",
       "    </tr>\n",
       "    <tr>\n",
       "      <th>2</th>\n",
       "      <td>West Yorkshire</td>\n",
       "      <td>37</td>\n",
       "      <td>E23000010</td>\n",
       "      <td>2332500.0</td>\n",
       "      <td>5344.0</td>\n",
       "      <td>2020</td>\n",
       "      <td>2.300781</td>\n",
       "      <td>271.0</td>\n",
       "      <td>2</td>\n",
       "      <td>2020-01</td>\n",
       "      <td>...</td>\n",
       "      <td>2</td>\n",
       "      <td>10.0</td>\n",
       "      <td>1</td>\n",
       "      <td>27252</td>\n",
       "      <td>5.099551</td>\n",
       "      <td>11.683601</td>\n",
       "      <td>Theft</td>\n",
       "      <td>2029.0</td>\n",
       "      <td>1149.581074</td>\n",
       "      <td>0</td>\n",
       "    </tr>\n",
       "    <tr>\n",
       "      <th>3</th>\n",
       "      <td>West Yorkshire</td>\n",
       "      <td>37</td>\n",
       "      <td>E23000010</td>\n",
       "      <td>2332500.0</td>\n",
       "      <td>5344.0</td>\n",
       "      <td>2020</td>\n",
       "      <td>2.300781</td>\n",
       "      <td>271.0</td>\n",
       "      <td>3</td>\n",
       "      <td>2020-01</td>\n",
       "      <td>...</td>\n",
       "      <td>3</td>\n",
       "      <td>10.0</td>\n",
       "      <td>1</td>\n",
       "      <td>27252</td>\n",
       "      <td>5.099551</td>\n",
       "      <td>11.683601</td>\n",
       "      <td>Theft</td>\n",
       "      <td>2029.0</td>\n",
       "      <td>1149.581074</td>\n",
       "      <td>0</td>\n",
       "    </tr>\n",
       "    <tr>\n",
       "      <th>4</th>\n",
       "      <td>West Yorkshire</td>\n",
       "      <td>37</td>\n",
       "      <td>E23000010</td>\n",
       "      <td>2332500.0</td>\n",
       "      <td>5344.0</td>\n",
       "      <td>2020</td>\n",
       "      <td>2.300781</td>\n",
       "      <td>271.0</td>\n",
       "      <td>4</td>\n",
       "      <td>2020-01</td>\n",
       "      <td>...</td>\n",
       "      <td>4</td>\n",
       "      <td>10.0</td>\n",
       "      <td>1</td>\n",
       "      <td>27252</td>\n",
       "      <td>5.099551</td>\n",
       "      <td>11.683601</td>\n",
       "      <td>Violence &amp; damage</td>\n",
       "      <td>2029.0</td>\n",
       "      <td>1149.581074</td>\n",
       "      <td>0</td>\n",
       "    </tr>\n",
       "  </tbody>\n",
       "</table>\n",
       "<p>5 rows × 23 columns</p>\n",
       "</div>"
      ],
      "text/plain": [
       "  Staff_area_name  crime_area Geo_boundries_Data_match  number_residents  \\\n",
       "0  West Yorkshire          37                E23000010         2332500.0   \n",
       "1  West Yorkshire          37                E23000010         2332500.0   \n",
       "2  West Yorkshire          37                E23000010         2332500.0   \n",
       "3  West Yorkshire          37                E23000010         2332500.0   \n",
       "4  West Yorkshire          37                E23000010         2332500.0   \n",
       "\n",
       "   number_police  year  police_per_1000  number_spc  id     date  ...  \\\n",
       "0         5344.0  2020         2.300781       271.0   0  2020-01  ...   \n",
       "1         5344.0  2020         2.300781       271.0   1  2020-01  ...   \n",
       "2         5344.0  2020         2.300781       271.0   2  2020-01  ...   \n",
       "3         5344.0  2020         2.300781       271.0   3  2020-01  ...   \n",
       "4         5344.0  2020         2.300781       271.0   4  2020-01  ...   \n",
       "\n",
       "   crime_type outcome_cat month  number_crimes  crime_per_officer  \\\n",
       "0          14        24.0     1          27252           5.099551   \n",
       "1           8        10.0     1          27252           5.099551   \n",
       "2           2        10.0     1          27252           5.099551   \n",
       "3           3        10.0     1          27252           5.099551   \n",
       "4           4        10.0     1          27252           5.099551   \n",
       "\n",
       "   crime_per_residents              crime  area_size  pop_density urban  \n",
       "0            11.683601  Violence & damage     2029.0  1149.581074     0  \n",
       "1            11.683601    Weapons & Drugs     2029.0  1149.581074     0  \n",
       "2            11.683601              Theft     2029.0  1149.581074     0  \n",
       "3            11.683601              Theft     2029.0  1149.581074     0  \n",
       "4            11.683601  Violence & damage     2029.0  1149.581074     0  \n",
       "\n",
       "[5 rows x 23 columns]"
      ]
     },
     "execution_count": 5,
     "metadata": {},
     "output_type": "execute_result"
    }
   ],
   "source": [
    "crime_police.head()"
   ]
  },
  {
   "cell_type": "code",
   "execution_count": 6,
   "id": "a43549f8",
   "metadata": {},
   "outputs": [
    {
     "name": "stdout",
     "output_type": "stream",
     "text": [
      "<class 'pandas.core.frame.DataFrame'>\n",
      "Int64Index: 18362528 entries, 0 to 7893406\n",
      "Data columns (total 23 columns):\n",
      " #   Column                    Dtype  \n",
      "---  ------                    -----  \n",
      " 0   Staff_area_name           object \n",
      " 1   crime_area                int8   \n",
      " 2   Geo_boundries_Data_match  object \n",
      " 3   number_residents          float32\n",
      " 4   number_police             float16\n",
      " 5   year                      int16  \n",
      " 6   police_per_1000           float16\n",
      " 7   number_spc                float16\n",
      " 8   id                        int32  \n",
      " 9   date                      object \n",
      " 10  reported                  int8   \n",
      " 11  lsoa_code                 object \n",
      " 12  lsoa_name                 object \n",
      " 13  crime_type                int8   \n",
      " 14  outcome_cat               float16\n",
      " 15  month                     int8   \n",
      " 16  number_crimes             int32  \n",
      " 17  crime_per_officer         float32\n",
      " 18  crime_per_residents       float32\n",
      " 19  crime                     object \n",
      " 20  area_size                 float64\n",
      " 21  pop_density               float64\n",
      " 22  urban                     object \n",
      "dtypes: float16(4), float32(3), float64(2), int16(1), int32(2), int8(4), object(7)\n",
      "memory usage: 1.9+ GB\n"
     ]
    }
   ],
   "source": [
    "crime_police.info()"
   ]
  },
  {
   "cell_type": "markdown",
   "id": "cbbe5919",
   "metadata": {},
   "source": [
    "# 02. Wrangle data"
   ]
  },
  {
   "cell_type": "code",
   "execution_count": 7,
   "id": "1050d157",
   "metadata": {},
   "outputs": [],
   "source": [
    "#create subset with only date and number_crime\n",
    "crime_police_time = crime_police[['number_crimes', \n",
    "                                  'date']]"
   ]
  },
  {
   "cell_type": "markdown",
   "id": "b19e4df1",
   "metadata": {},
   "source": [
    "In this analysis I am interested in the change in number of crimes over the period prior and during the Covid lockdowns in England and Wales and am keeping early data points from 2019 as control."
   ]
  },
  {
   "cell_type": "code",
   "execution_count": 8,
   "id": "3012b07c",
   "metadata": {},
   "outputs": [],
   "source": [
    "#sort by date\n",
    "crime_police_time=crime_police_time.sort_values(by='date')"
   ]
  },
  {
   "cell_type": "code",
   "execution_count": 9,
   "id": "e627c4ce",
   "metadata": {},
   "outputs": [
    {
     "data": {
      "text/html": [
       "<div>\n",
       "<style scoped>\n",
       "    .dataframe tbody tr th:only-of-type {\n",
       "        vertical-align: middle;\n",
       "    }\n",
       "\n",
       "    .dataframe tbody tr th {\n",
       "        vertical-align: top;\n",
       "    }\n",
       "\n",
       "    .dataframe thead th {\n",
       "        text-align: right;\n",
       "    }\n",
       "</style>\n",
       "<table border=\"1\" class=\"dataframe\">\n",
       "  <thead>\n",
       "    <tr style=\"text-align: right;\">\n",
       "      <th></th>\n",
       "      <th>number_crimes</th>\n",
       "      <th>date</th>\n",
       "    </tr>\n",
       "  </thead>\n",
       "  <tbody>\n",
       "    <tr>\n",
       "      <th>3719887</th>\n",
       "      <td>6611</td>\n",
       "      <td>2018-10</td>\n",
       "    </tr>\n",
       "    <tr>\n",
       "      <th>3548162</th>\n",
       "      <td>8194</td>\n",
       "      <td>2018-10</td>\n",
       "    </tr>\n",
       "    <tr>\n",
       "      <th>3548161</th>\n",
       "      <td>8194</td>\n",
       "      <td>2018-10</td>\n",
       "    </tr>\n",
       "    <tr>\n",
       "      <th>3548160</th>\n",
       "      <td>8194</td>\n",
       "      <td>2018-10</td>\n",
       "    </tr>\n",
       "    <tr>\n",
       "      <th>3548159</th>\n",
       "      <td>8194</td>\n",
       "      <td>2018-10</td>\n",
       "    </tr>\n",
       "  </tbody>\n",
       "</table>\n",
       "</div>"
      ],
      "text/plain": [
       "         number_crimes     date\n",
       "3719887           6611  2018-10\n",
       "3548162           8194  2018-10\n",
       "3548161           8194  2018-10\n",
       "3548160           8194  2018-10\n",
       "3548159           8194  2018-10"
      ]
     },
     "execution_count": 9,
     "metadata": {},
     "output_type": "execute_result"
    }
   ],
   "source": [
    "crime_police_time.head()"
   ]
  },
  {
   "cell_type": "code",
   "execution_count": 10,
   "id": "0fa8509c",
   "metadata": {},
   "outputs": [
    {
     "data": {
      "text/html": [
       "<div>\n",
       "<style scoped>\n",
       "    .dataframe tbody tr th:only-of-type {\n",
       "        vertical-align: middle;\n",
       "    }\n",
       "\n",
       "    .dataframe tbody tr th {\n",
       "        vertical-align: top;\n",
       "    }\n",
       "\n",
       "    .dataframe thead th {\n",
       "        text-align: right;\n",
       "    }\n",
       "</style>\n",
       "<table border=\"1\" class=\"dataframe\">\n",
       "  <thead>\n",
       "    <tr style=\"text-align: right;\">\n",
       "      <th></th>\n",
       "      <th>number_crimes</th>\n",
       "    </tr>\n",
       "    <tr>\n",
       "      <th>datetime</th>\n",
       "      <th></th>\n",
       "    </tr>\n",
       "  </thead>\n",
       "  <tbody>\n",
       "    <tr>\n",
       "      <th>2018-10-01</th>\n",
       "      <td>6611</td>\n",
       "    </tr>\n",
       "    <tr>\n",
       "      <th>2018-10-01</th>\n",
       "      <td>8194</td>\n",
       "    </tr>\n",
       "    <tr>\n",
       "      <th>2018-10-01</th>\n",
       "      <td>8194</td>\n",
       "    </tr>\n",
       "    <tr>\n",
       "      <th>2018-10-01</th>\n",
       "      <td>8194</td>\n",
       "    </tr>\n",
       "    <tr>\n",
       "      <th>2018-10-01</th>\n",
       "      <td>8194</td>\n",
       "    </tr>\n",
       "  </tbody>\n",
       "</table>\n",
       "</div>"
      ],
      "text/plain": [
       "            number_crimes\n",
       "datetime                 \n",
       "2018-10-01           6611\n",
       "2018-10-01           8194\n",
       "2018-10-01           8194\n",
       "2018-10-01           8194\n",
       "2018-10-01           8194"
      ]
     },
     "execution_count": 10,
     "metadata": {},
     "output_type": "execute_result"
    }
   ],
   "source": [
    "from datetime import datetime\n",
    "\n",
    "crime_police_time['datetime'] = pd.to_datetime(crime_police_time['date']) # Create a datetime column from \"Date.\"\"\n",
    "crime_police_time = crime_police_time.set_index('datetime') # Set the datetime as the index of the dataframe.\n",
    "crime_police_time.drop(['date'], axis=1, inplace=True) # Drop the \"Date\" column.\n",
    "crime_police_time.head()"
   ]
  },
  {
   "cell_type": "code",
   "execution_count": 11,
   "id": "ce5ee9fd",
   "metadata": {},
   "outputs": [],
   "source": [
    "#remove duplicates\n",
    "crime_police_time_duplicates = crime_police_time[crime_police_time.duplicated()]"
   ]
  },
  {
   "cell_type": "code",
   "execution_count": 12,
   "id": "5b98d37c",
   "metadata": {},
   "outputs": [
    {
     "name": "stdout",
     "output_type": "stream",
     "text": [
      "            number_crimes\n",
      "datetime                 \n",
      "2018-10-01           8194\n",
      "2018-10-01           8194\n",
      "2018-10-01           8194\n",
      "2018-10-01           8194\n",
      "2018-10-01           8194\n",
      "...                   ...\n",
      "2021-09-01           4739\n",
      "2021-09-01           4739\n",
      "2021-09-01           4739\n",
      "2021-09-01           4739\n",
      "2021-09-01          17303\n",
      "\n",
      "[18361081 rows x 1 columns]\n"
     ]
    }
   ],
   "source": [
    "print(crime_police_time_duplicates)"
   ]
  },
  {
   "cell_type": "code",
   "execution_count": 13,
   "id": "581acf31",
   "metadata": {},
   "outputs": [],
   "source": [
    "#Creating subset without duplicates\n",
    "crime_police_time_clean = crime_police_time.drop_duplicates()"
   ]
  },
  {
   "cell_type": "code",
   "execution_count": 14,
   "id": "4e280351",
   "metadata": {},
   "outputs": [
    {
     "data": {
      "text/html": [
       "<div>\n",
       "<style scoped>\n",
       "    .dataframe tbody tr th:only-of-type {\n",
       "        vertical-align: middle;\n",
       "    }\n",
       "\n",
       "    .dataframe tbody tr th {\n",
       "        vertical-align: top;\n",
       "    }\n",
       "\n",
       "    .dataframe thead th {\n",
       "        text-align: right;\n",
       "    }\n",
       "</style>\n",
       "<table border=\"1\" class=\"dataframe\">\n",
       "  <thead>\n",
       "    <tr style=\"text-align: right;\">\n",
       "      <th></th>\n",
       "      <th>number_crimes</th>\n",
       "    </tr>\n",
       "    <tr>\n",
       "      <th>datetime</th>\n",
       "      <th></th>\n",
       "    </tr>\n",
       "  </thead>\n",
       "  <tbody>\n",
       "    <tr>\n",
       "      <th>2018-10-01</th>\n",
       "      <td>6611</td>\n",
       "    </tr>\n",
       "    <tr>\n",
       "      <th>2018-10-01</th>\n",
       "      <td>8194</td>\n",
       "    </tr>\n",
       "    <tr>\n",
       "      <th>2018-10-01</th>\n",
       "      <td>6705</td>\n",
       "    </tr>\n",
       "    <tr>\n",
       "      <th>2018-10-01</th>\n",
       "      <td>16211</td>\n",
       "    </tr>\n",
       "    <tr>\n",
       "      <th>2018-10-01</th>\n",
       "      <td>5058</td>\n",
       "    </tr>\n",
       "  </tbody>\n",
       "</table>\n",
       "</div>"
      ],
      "text/plain": [
       "            number_crimes\n",
       "datetime                 \n",
       "2018-10-01           6611\n",
       "2018-10-01           8194\n",
       "2018-10-01           6705\n",
       "2018-10-01          16211\n",
       "2018-10-01           5058"
      ]
     },
     "execution_count": 14,
     "metadata": {},
     "output_type": "execute_result"
    }
   ],
   "source": [
    "crime_police_time_clean.head()"
   ]
  },
  {
   "cell_type": "code",
   "execution_count": 15,
   "id": "8af46142",
   "metadata": {},
   "outputs": [],
   "source": [
    "#Sum crime per month across areas\n",
    "crime_police_time_clean['total_crime'] = crime_police_time_clean.groupby('datetime')['number_crimes'].transform('sum')"
   ]
  },
  {
   "cell_type": "code",
   "execution_count": 16,
   "id": "0d28fe7a",
   "metadata": {},
   "outputs": [
    {
     "data": {
      "text/html": [
       "<div>\n",
       "<style scoped>\n",
       "    .dataframe tbody tr th:only-of-type {\n",
       "        vertical-align: middle;\n",
       "    }\n",
       "\n",
       "    .dataframe tbody tr th {\n",
       "        vertical-align: top;\n",
       "    }\n",
       "\n",
       "    .dataframe thead th {\n",
       "        text-align: right;\n",
       "    }\n",
       "</style>\n",
       "<table border=\"1\" class=\"dataframe\">\n",
       "  <thead>\n",
       "    <tr style=\"text-align: right;\">\n",
       "      <th></th>\n",
       "      <th>number_crimes</th>\n",
       "      <th>total_crime</th>\n",
       "    </tr>\n",
       "    <tr>\n",
       "      <th>datetime</th>\n",
       "      <th></th>\n",
       "      <th></th>\n",
       "    </tr>\n",
       "  </thead>\n",
       "  <tbody>\n",
       "    <tr>\n",
       "      <th>2018-10-01</th>\n",
       "      <td>6611</td>\n",
       "      <td>564170</td>\n",
       "    </tr>\n",
       "    <tr>\n",
       "      <th>2018-10-01</th>\n",
       "      <td>8194</td>\n",
       "      <td>564170</td>\n",
       "    </tr>\n",
       "    <tr>\n",
       "      <th>2018-10-01</th>\n",
       "      <td>6705</td>\n",
       "      <td>564170</td>\n",
       "    </tr>\n",
       "    <tr>\n",
       "      <th>2018-10-01</th>\n",
       "      <td>16211</td>\n",
       "      <td>564170</td>\n",
       "    </tr>\n",
       "    <tr>\n",
       "      <th>2018-10-01</th>\n",
       "      <td>5058</td>\n",
       "      <td>564170</td>\n",
       "    </tr>\n",
       "  </tbody>\n",
       "</table>\n",
       "</div>"
      ],
      "text/plain": [
       "            number_crimes  total_crime\n",
       "datetime                              \n",
       "2018-10-01           6611       564170\n",
       "2018-10-01           8194       564170\n",
       "2018-10-01           6705       564170\n",
       "2018-10-01          16211       564170\n",
       "2018-10-01           5058       564170"
      ]
     },
     "execution_count": 16,
     "metadata": {},
     "output_type": "execute_result"
    }
   ],
   "source": [
    "crime_police_time_clean.head()"
   ]
  },
  {
   "cell_type": "code",
   "execution_count": 17,
   "id": "a0b1dbb2",
   "metadata": {},
   "outputs": [],
   "source": [
    "#Drop crime_area and number_crimes\n",
    "crime_police_time_clean=crime_police_time_clean.drop(columns=['number_crimes'])"
   ]
  },
  {
   "cell_type": "code",
   "execution_count": 18,
   "id": "250cb160",
   "metadata": {},
   "outputs": [
    {
     "data": {
      "text/html": [
       "<div>\n",
       "<style scoped>\n",
       "    .dataframe tbody tr th:only-of-type {\n",
       "        vertical-align: middle;\n",
       "    }\n",
       "\n",
       "    .dataframe tbody tr th {\n",
       "        vertical-align: top;\n",
       "    }\n",
       "\n",
       "    .dataframe thead th {\n",
       "        text-align: right;\n",
       "    }\n",
       "</style>\n",
       "<table border=\"1\" class=\"dataframe\">\n",
       "  <thead>\n",
       "    <tr style=\"text-align: right;\">\n",
       "      <th></th>\n",
       "      <th>total_crime</th>\n",
       "    </tr>\n",
       "    <tr>\n",
       "      <th>datetime</th>\n",
       "      <th></th>\n",
       "    </tr>\n",
       "  </thead>\n",
       "  <tbody>\n",
       "    <tr>\n",
       "      <th>2018-10-01</th>\n",
       "      <td>564170</td>\n",
       "    </tr>\n",
       "    <tr>\n",
       "      <th>2018-10-01</th>\n",
       "      <td>564170</td>\n",
       "    </tr>\n",
       "    <tr>\n",
       "      <th>2018-10-01</th>\n",
       "      <td>564170</td>\n",
       "    </tr>\n",
       "    <tr>\n",
       "      <th>2018-10-01</th>\n",
       "      <td>564170</td>\n",
       "    </tr>\n",
       "    <tr>\n",
       "      <th>2018-10-01</th>\n",
       "      <td>564170</td>\n",
       "    </tr>\n",
       "  </tbody>\n",
       "</table>\n",
       "</div>"
      ],
      "text/plain": [
       "            total_crime\n",
       "datetime               \n",
       "2018-10-01       564170\n",
       "2018-10-01       564170\n",
       "2018-10-01       564170\n",
       "2018-10-01       564170\n",
       "2018-10-01       564170"
      ]
     },
     "execution_count": 18,
     "metadata": {},
     "output_type": "execute_result"
    }
   ],
   "source": [
    "crime_police_time_clean.head()"
   ]
  },
  {
   "cell_type": "code",
   "execution_count": 19,
   "id": "7a0ee4a7",
   "metadata": {},
   "outputs": [],
   "source": [
    "#Creating subset without duplicates\n",
    "crime_time = crime_police_time_clean.drop_duplicates()"
   ]
  },
  {
   "cell_type": "code",
   "execution_count": 20,
   "id": "39480a4c",
   "metadata": {},
   "outputs": [
    {
     "data": {
      "text/html": [
       "<div>\n",
       "<style scoped>\n",
       "    .dataframe tbody tr th:only-of-type {\n",
       "        vertical-align: middle;\n",
       "    }\n",
       "\n",
       "    .dataframe tbody tr th {\n",
       "        vertical-align: top;\n",
       "    }\n",
       "\n",
       "    .dataframe thead th {\n",
       "        text-align: right;\n",
       "    }\n",
       "</style>\n",
       "<table border=\"1\" class=\"dataframe\">\n",
       "  <thead>\n",
       "    <tr style=\"text-align: right;\">\n",
       "      <th></th>\n",
       "      <th>total_crime</th>\n",
       "    </tr>\n",
       "    <tr>\n",
       "      <th>datetime</th>\n",
       "      <th></th>\n",
       "    </tr>\n",
       "  </thead>\n",
       "  <tbody>\n",
       "    <tr>\n",
       "      <th>2018-10-01</th>\n",
       "      <td>564170</td>\n",
       "    </tr>\n",
       "    <tr>\n",
       "      <th>2018-11-01</th>\n",
       "      <td>531526</td>\n",
       "    </tr>\n",
       "    <tr>\n",
       "      <th>2018-12-01</th>\n",
       "      <td>494677</td>\n",
       "    </tr>\n",
       "    <tr>\n",
       "      <th>2019-01-01</th>\n",
       "      <td>499324</td>\n",
       "    </tr>\n",
       "    <tr>\n",
       "      <th>2019-02-01</th>\n",
       "      <td>493306</td>\n",
       "    </tr>\n",
       "  </tbody>\n",
       "</table>\n",
       "</div>"
      ],
      "text/plain": [
       "            total_crime\n",
       "datetime               \n",
       "2018-10-01       564170\n",
       "2018-11-01       531526\n",
       "2018-12-01       494677\n",
       "2019-01-01       499324\n",
       "2019-02-01       493306"
      ]
     },
     "execution_count": 20,
     "metadata": {},
     "output_type": "execute_result"
    }
   ],
   "source": [
    "crime_time.head()"
   ]
  },
  {
   "cell_type": "code",
   "execution_count": 21,
   "id": "295bbe38",
   "metadata": {},
   "outputs": [
    {
     "data": {
      "text/plain": [
       "[<matplotlib.lines.Line2D at 0x12036faf7f0>]"
      ]
     },
     "execution_count": 21,
     "metadata": {},
     "output_type": "execute_result"
    },
    {
     "data": {
      "image/png": "[encoded data removed]",
      "text/plain": [
       "<Figure size 1500x500 with 1 Axes>"
      ]
     },
     "metadata": {
      "needs_background": "light"
     },
     "output_type": "display_data"
    }
   ],
   "source": [
    "#Plot total_crime over time\n",
    "plt.figure(figsize=(15,5), dpi=100)\n",
    "plt.plot(crime_time)"
   ]
  },
  {
   "cell_type": "markdown",
   "id": "69b07a63",
   "metadata": {},
   "source": [
    "# 03. Time series analysis"
   ]
  },
  {
   "cell_type": "code",
   "execution_count": 22,
   "id": "798493a9",
   "metadata": {},
   "outputs": [],
   "source": [
    "# Decompose the time series using an additive model\n",
    "\n",
    "decomposition = sm.tsa.seasonal_decompose(crime_time, model='additive')"
   ]
  },
  {
   "cell_type": "code",
   "execution_count": 23,
   "id": "8c1f14b3",
   "metadata": {},
   "outputs": [],
   "source": [
    "from pylab import rcParams # This will define a fixed size for all special charts.\n",
    "\n",
    "rcParams['figure.figsize'] = 18, 7"
   ]
  },
  {
   "cell_type": "code",
   "execution_count": 24,
   "id": "f6790062",
   "metadata": {},
   "outputs": [
    {
     "data": {
      "image/png": "[encoded data removed]",
      "text/plain": [
       "<Figure size 1296x504 with 4 Axes>"
      ]
     },
     "metadata": {
      "needs_background": "light"
     },
     "output_type": "display_data"
    }
   ],
   "source": [
    "# Plot the separate components\n",
    "\n",
    "decomposition.plot()\n",
    "plt.savefig(os.path.join(path, 'Analysis','Visualisations', 'time_components.png'))\n",
    "plt.show()"
   ]
  },
  {
   "cell_type": "markdown",
   "id": "17db05bf",
   "metadata": {},
   "source": [
    "There is strong seasonality present in the number of crimes Where crimes are down over the winter months and are highest around spring summer, when people spend more time outside. As well as an overall downward trend, which could be explained by the 2 lockdowns in spring 2020 and winter 2021, which matches the residual noise around March and August 2020 as well as early 2021. "
   ]
  },
  {
   "cell_type": "markdown",
   "id": "1ae148ce",
   "metadata": {},
   "source": [
    "# 04. Testing for stationarity"
   ]
  },
  {
   "cell_type": "code",
   "execution_count": 26,
   "id": "45e7b761",
   "metadata": {},
   "outputs": [
    {
     "name": "stdout",
     "output_type": "stream",
     "text": [
      "Dickey-Fuller Stationarity test:\n",
      "Test Statistic                 -2.613256\n",
      "p-value                         0.090288\n",
      "Number of Lags Used             0.000000\n",
      "Number of Observations Used    35.000000\n",
      "Critical Value (1%)            -3.632743\n",
      "Critical Value (5%)            -2.948510\n",
      "Critical Value (10%)           -2.613017\n",
      "dtype: float64\n"
     ]
    }
   ],
   "source": [
    "# The adfuller() function will import from the model from statsmodels for the test; however, running it will only return \n",
    "# an array of numbers. This is why you need to also define a function that prints the correct output from that array.\n",
    "\n",
    "from statsmodels.tsa.stattools import adfuller # Import the adfuller() function\n",
    "\n",
    "def dickey_fuller(timeseries): # Define the function\n",
    "    # Perform the Dickey-Fuller test:\n",
    "    print ('Dickey-Fuller Stationarity test:')\n",
    "    test = adfuller(timeseries, autolag='AIC')\n",
    "    result = pd.Series(test[0:4], index=['Test Statistic','p-value','Number of Lags Used','Number of Observations Used'])\n",
    "    for key,value in test[4].items():\n",
    "       result['Critical Value (%s)'%key] = value\n",
    "    print (result)\n",
    "\n",
    "# Apply the test using the function on the time series\n",
    "dickey_fuller(crime_time['total_crime'])"
   ]
  },
  {
   "cell_type": "markdown",
   "id": "190d4c65",
   "metadata": {},
   "source": [
    "The null hypothesis (that there is a unit root and therefore no stationarity in the data) can be rejected at 90% confidence interval. The data can therefore be assumed to be stationary and no further steps are necessary."
   ]
  },
  {
   "cell_type": "code",
   "execution_count": 27,
   "id": "4a8964c1",
   "metadata": {},
   "outputs": [
    {
     "data": {
      "image/png": "[encoded data removed]",
      "text/plain": [
       "<Figure size 1296x504 with 1 Axes>"
      ]
     },
     "metadata": {
      "needs_background": "light"
     },
     "output_type": "display_data"
    }
   ],
   "source": [
    "# Check out a plot of autocorrelations\n",
    "\n",
    "from statsmodels.graphics.tsaplots import plot_acf, plot_pacf # Here, you import the autocorrelation and partial correlation plots\n",
    "\n",
    "plot_acf(crime_time)\n",
    "plt.show()"
   ]
  },
  {
   "cell_type": "code",
   "execution_count": 28,
   "id": "d1c623a3",
   "metadata": {},
   "outputs": [],
   "source": [
    "crime_time.to_csv(os.path.join(path, 'Data','Prepared Data', 'crime_time.csv')) "
   ]
  },
  {
   "cell_type": "code",
   "execution_count": null,
   "id": "2db6c576",
   "metadata": {},
   "outputs": [],
   "source": []
  }
 ],
 "metadata": {
  "kernelspec": {
   "display_name": "Python 3 (ipykernel)",
   "language": "python",
   "name": "python3"
  },
  "language_info": {
   "codemirror_mode": {
    "name": "ipython",
    "version": 3
   },
   "file_extension": ".py",
   "mimetype": "text/x-python",
   "name": "python",
   "nbconvert_exporter": "python",
   "pygments_lexer": "ipython3",
   "version": "3.9.12"
  }
 },
 "nbformat": 4,
 "nbformat_minor": 5
}
