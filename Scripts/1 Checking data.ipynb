{
 "cells": [
  {
   "cell_type": "markdown",
   "id": "e87e6ca1",
   "metadata": {},
   "source": [
    "# 01. Import libraries"
   ]
  },
  {
   "cell_type": "code",
   "execution_count": 1,
   "id": "b13f52ae",
   "metadata": {},
   "outputs": [],
   "source": [
    "#Importing libraries\n",
    "import pandas as pd\n",
    "import numpy as np\n",
    "import os"
   ]
  },
  {
   "cell_type": "markdown",
   "id": "34dba6a4",
   "metadata": {},
   "source": [
    "# 02. Import data"
   ]
  },
  {
   "cell_type": "code",
   "execution_count": 2,
   "id": "50ff2313",
   "metadata": {},
   "outputs": [],
   "source": [
    "#Define path\n",
    "path = r'C:\\Users\\astat\\Documents\\Final project'"
   ]
  },
  {
   "cell_type": "code",
   "execution_count": 3,
   "id": "761c26f6",
   "metadata": {},
   "outputs": [],
   "source": [
    "#Import data\n",
    "df_crime = pd.read_csv(os.path.join(path, 'Data', 'UK_Police_Street_Crime_2018-10-01_to_2021_09_31.csv'), index_col = False)"
   ]
  },
  {
   "cell_type": "code",
   "execution_count": 4,
   "id": "a59750af",
   "metadata": {},
   "outputs": [
    {
     "data": {
      "text/plain": [
       "(18994562, 13)"
      ]
     },
     "execution_count": 4,
     "metadata": {},
     "output_type": "execute_result"
    }
   ],
   "source": [
    "#Check import\n",
    "df_crime.shape"
   ]
  },
  {
   "cell_type": "code",
   "execution_count": 5,
   "id": "35f622e0",
   "metadata": {},
   "outputs": [
    {
     "data": {
      "text/html": [
       "<div>\n",
       "<style scoped>\n",
       "    .dataframe tbody tr th:only-of-type {\n",
       "        vertical-align: middle;\n",
       "    }\n",
       "\n",
       "    .dataframe tbody tr th {\n",
       "        vertical-align: top;\n",
       "    }\n",
       "\n",
       "    .dataframe thead th {\n",
       "        text-align: right;\n",
       "    }\n",
       "</style>\n",
       "<table border=\"1\" class=\"dataframe\">\n",
       "  <thead>\n",
       "    <tr style=\"text-align: right;\">\n",
       "      <th></th>\n",
       "      <th>Unnamed: 0</th>\n",
       "      <th>Crime ID</th>\n",
       "      <th>Month</th>\n",
       "      <th>Reported by</th>\n",
       "      <th>Falls within</th>\n",
       "      <th>Longitude</th>\n",
       "      <th>Latitude</th>\n",
       "      <th>Location</th>\n",
       "      <th>LSOA code</th>\n",
       "      <th>LSOA name</th>\n",
       "      <th>Crime type</th>\n",
       "      <th>Last outcome category</th>\n",
       "      <th>Context</th>\n",
       "    </tr>\n",
       "  </thead>\n",
       "  <tbody>\n",
       "    <tr>\n",
       "      <th>0</th>\n",
       "      <td>0</td>\n",
       "      <td>c7000c41002f19263d4adec66b911f1c3f5e7eeb1302a3...</td>\n",
       "      <td>2020-01</td>\n",
       "      <td>West Yorkshire Police</td>\n",
       "      <td>West Yorkshire Police</td>\n",
       "      <td>-1.570572</td>\n",
       "      <td>53.607792</td>\n",
       "      <td>On or near Park/Open Space</td>\n",
       "      <td>E01007418</td>\n",
       "      <td>Barnsley 016A</td>\n",
       "      <td>Other theft</td>\n",
       "      <td>Status update unavailable</td>\n",
       "      <td>NaN</td>\n",
       "    </tr>\n",
       "    <tr>\n",
       "      <th>1</th>\n",
       "      <td>1</td>\n",
       "      <td>b8bc1b6cf423a9431734982fffb11f803cf82140702cc7...</td>\n",
       "      <td>2020-01</td>\n",
       "      <td>West Yorkshire Police</td>\n",
       "      <td>West Yorkshire Police</td>\n",
       "      <td>-1.670108</td>\n",
       "      <td>53.553629</td>\n",
       "      <td>On or near Huddersfield Road</td>\n",
       "      <td>E01007426</td>\n",
       "      <td>Barnsley 027D</td>\n",
       "      <td>Robbery</td>\n",
       "      <td>Investigation complete; no suspect identified</td>\n",
       "      <td>NaN</td>\n",
       "    </tr>\n",
       "    <tr>\n",
       "      <th>2</th>\n",
       "      <td>2</td>\n",
       "      <td>8c69cefea36edafe5fa3f992ccc31d3cfd0c9af9a81429...</td>\n",
       "      <td>2020-01</td>\n",
       "      <td>West Yorkshire Police</td>\n",
       "      <td>West Yorkshire Police</td>\n",
       "      <td>-1.879031</td>\n",
       "      <td>53.943807</td>\n",
       "      <td>On or near Cross End Fold</td>\n",
       "      <td>E01010646</td>\n",
       "      <td>Bradford 001A</td>\n",
       "      <td>Bicycle theft</td>\n",
       "      <td>Investigation complete; no suspect identified</td>\n",
       "      <td>NaN</td>\n",
       "    </tr>\n",
       "    <tr>\n",
       "      <th>3</th>\n",
       "      <td>3</td>\n",
       "      <td>7236a8fb307214df61ca7a9b93bd309c0524f9bee58d89...</td>\n",
       "      <td>2020-01</td>\n",
       "      <td>West Yorkshire Police</td>\n",
       "      <td>West Yorkshire Police</td>\n",
       "      <td>-1.882746</td>\n",
       "      <td>53.933807</td>\n",
       "      <td>On or near Cocking Lane</td>\n",
       "      <td>E01010646</td>\n",
       "      <td>Bradford 001A</td>\n",
       "      <td>Burglary</td>\n",
       "      <td>Investigation complete; no suspect identified</td>\n",
       "      <td>NaN</td>\n",
       "    </tr>\n",
       "    <tr>\n",
       "      <th>4</th>\n",
       "      <td>4</td>\n",
       "      <td>92803cebdfde14ad870899c45c6bee398331f33a053bf1...</td>\n",
       "      <td>2020-01</td>\n",
       "      <td>West Yorkshire Police</td>\n",
       "      <td>West Yorkshire Police</td>\n",
       "      <td>-1.881467</td>\n",
       "      <td>53.944510</td>\n",
       "      <td>On or near Kilners Croft</td>\n",
       "      <td>E01010646</td>\n",
       "      <td>Bradford 001A</td>\n",
       "      <td>Criminal damage and arson</td>\n",
       "      <td>Investigation complete; no suspect identified</td>\n",
       "      <td>NaN</td>\n",
       "    </tr>\n",
       "  </tbody>\n",
       "</table>\n",
       "</div>"
      ],
      "text/plain": [
       "   Unnamed: 0                                           Crime ID    Month  \\\n",
       "0           0  c7000c41002f19263d4adec66b911f1c3f5e7eeb1302a3...  2020-01   \n",
       "1           1  b8bc1b6cf423a9431734982fffb11f803cf82140702cc7...  2020-01   \n",
       "2           2  8c69cefea36edafe5fa3f992ccc31d3cfd0c9af9a81429...  2020-01   \n",
       "3           3  7236a8fb307214df61ca7a9b93bd309c0524f9bee58d89...  2020-01   \n",
       "4           4  92803cebdfde14ad870899c45c6bee398331f33a053bf1...  2020-01   \n",
       "\n",
       "             Reported by           Falls within  Longitude   Latitude  \\\n",
       "0  West Yorkshire Police  West Yorkshire Police  -1.570572  53.607792   \n",
       "1  West Yorkshire Police  West Yorkshire Police  -1.670108  53.553629   \n",
       "2  West Yorkshire Police  West Yorkshire Police  -1.879031  53.943807   \n",
       "3  West Yorkshire Police  West Yorkshire Police  -1.882746  53.933807   \n",
       "4  West Yorkshire Police  West Yorkshire Police  -1.881467  53.944510   \n",
       "\n",
       "                       Location  LSOA code      LSOA name  \\\n",
       "0    On or near Park/Open Space  E01007418  Barnsley 016A   \n",
       "1  On or near Huddersfield Road  E01007426  Barnsley 027D   \n",
       "2     On or near Cross End Fold  E01010646  Bradford 001A   \n",
       "3       On or near Cocking Lane  E01010646  Bradford 001A   \n",
       "4      On or near Kilners Croft  E01010646  Bradford 001A   \n",
       "\n",
       "                  Crime type                          Last outcome category  \\\n",
       "0                Other theft                      Status update unavailable   \n",
       "1                    Robbery  Investigation complete; no suspect identified   \n",
       "2              Bicycle theft  Investigation complete; no suspect identified   \n",
       "3                   Burglary  Investigation complete; no suspect identified   \n",
       "4  Criminal damage and arson  Investigation complete; no suspect identified   \n",
       "\n",
       "   Context  \n",
       "0      NaN  \n",
       "1      NaN  \n",
       "2      NaN  \n",
       "3      NaN  \n",
       "4      NaN  "
      ]
     },
     "execution_count": 5,
     "metadata": {},
     "output_type": "execute_result"
    }
   ],
   "source": [
    "df_crime.head()"
   ]
  },
  {
   "cell_type": "code",
   "execution_count": 6,
   "id": "1c54ab14",
   "metadata": {},
   "outputs": [
    {
     "name": "stdout",
     "output_type": "stream",
     "text": [
      "<class 'pandas.core.frame.DataFrame'>\n",
      "RangeIndex: 18994562 entries, 0 to 18994561\n",
      "Data columns (total 13 columns):\n",
      " #   Column                 Dtype  \n",
      "---  ------                 -----  \n",
      " 0   Unnamed: 0             int64  \n",
      " 1   Crime ID               object \n",
      " 2   Month                  object \n",
      " 3   Reported by            object \n",
      " 4   Falls within           object \n",
      " 5   Longitude              float64\n",
      " 6   Latitude               float64\n",
      " 7   Location               object \n",
      " 8   LSOA code              object \n",
      " 9   LSOA name              object \n",
      " 10  Crime type             object \n",
      " 11  Last outcome category  object \n",
      " 12  Context                float64\n",
      "dtypes: float64(3), int64(1), object(9)\n",
      "memory usage: 1.8+ GB\n"
     ]
    }
   ],
   "source": [
    "df_crime.info()"
   ]
  },
  {
   "cell_type": "markdown",
   "id": "d4d4ded5",
   "metadata": {},
   "source": [
    "# 03. Quality checks"
   ]
  },
  {
   "cell_type": "code",
   "execution_count": 7,
   "id": "439ef03f",
   "metadata": {},
   "outputs": [],
   "source": [
    "#Creating subset for duplicates\n",
    "df_dups = df_crime[df_crime.duplicated()]"
   ]
  },
  {
   "cell_type": "code",
   "execution_count": 8,
   "id": "841e9ac7",
   "metadata": {},
   "outputs": [
    {
     "data": {
      "text/html": [
       "<div>\n",
       "<style scoped>\n",
       "    .dataframe tbody tr th:only-of-type {\n",
       "        vertical-align: middle;\n",
       "    }\n",
       "\n",
       "    .dataframe tbody tr th {\n",
       "        vertical-align: top;\n",
       "    }\n",
       "\n",
       "    .dataframe thead th {\n",
       "        text-align: right;\n",
       "    }\n",
       "</style>\n",
       "<table border=\"1\" class=\"dataframe\">\n",
       "  <thead>\n",
       "    <tr style=\"text-align: right;\">\n",
       "      <th></th>\n",
       "      <th>Unnamed: 0</th>\n",
       "      <th>Crime ID</th>\n",
       "      <th>Month</th>\n",
       "      <th>Reported by</th>\n",
       "      <th>Falls within</th>\n",
       "      <th>Longitude</th>\n",
       "      <th>Latitude</th>\n",
       "      <th>Location</th>\n",
       "      <th>LSOA code</th>\n",
       "      <th>LSOA name</th>\n",
       "      <th>Crime type</th>\n",
       "      <th>Last outcome category</th>\n",
       "      <th>Context</th>\n",
       "    </tr>\n",
       "  </thead>\n",
       "  <tbody>\n",
       "  </tbody>\n",
       "</table>\n",
       "</div>"
      ],
      "text/plain": [
       "Empty DataFrame\n",
       "Columns: [Unnamed: 0, Crime ID, Month, Reported by, Falls within, Longitude, Latitude, Location, LSOA code, LSOA name, Crime type, Last outcome category, Context]\n",
       "Index: []"
      ]
     },
     "execution_count": 8,
     "metadata": {},
     "output_type": "execute_result"
    }
   ],
   "source": [
    "df_dups.head()"
   ]
  },
  {
   "cell_type": "code",
   "execution_count": 9,
   "id": "e116eee6",
   "metadata": {},
   "outputs": [
    {
     "data": {
      "text/plain": [
       "Unnamed: 0                      0\n",
       "Crime ID                  4679356\n",
       "Month                           0\n",
       "Reported by                     0\n",
       "Falls within                    0\n",
       "Longitude                  378800\n",
       "Latitude                   378800\n",
       "Location                        0\n",
       "LSOA code                  864092\n",
       "LSOA name                  864092\n",
       "Crime type                      0\n",
       "Last outcome category     4972730\n",
       "Context                  18994562\n",
       "dtype: int64"
      ]
     },
     "execution_count": 9,
     "metadata": {},
     "output_type": "execute_result"
    }
   ],
   "source": [
    "#Check for missing values\n",
    "df_crime.isnull().sum()"
   ]
  },
  {
   "cell_type": "code",
   "execution_count": 10,
   "id": "cbd793c7",
   "metadata": {},
   "outputs": [],
   "source": [
    "#Drop Crime ID - due to missing values and no relevance\n",
    "df_crime=df_crime.drop(columns = ['Crime ID'])"
   ]
  },
  {
   "cell_type": "code",
   "execution_count": 11,
   "id": "b4de1023",
   "metadata": {},
   "outputs": [
    {
     "data": {
      "text/plain": [
       "Index(['Unnamed: 0', 'Month', 'Reported by', 'Falls within', 'Longitude',\n",
       "       'Latitude', 'Location', 'LSOA code', 'LSOA name', 'Crime type',\n",
       "       'Last outcome category', 'Context'],\n",
       "      dtype='object')"
      ]
     },
     "execution_count": 11,
     "metadata": {},
     "output_type": "execute_result"
    }
   ],
   "source": [
    "df_crime.columns"
   ]
  },
  {
   "cell_type": "code",
   "execution_count": 12,
   "id": "de5c587f",
   "metadata": {},
   "outputs": [
    {
     "data": {
      "text/plain": [
       "NaN    18994562\n",
       "Name: Context, dtype: int64"
      ]
     },
     "execution_count": 12,
     "metadata": {},
     "output_type": "execute_result"
    }
   ],
   "source": [
    "#checking values for Context\n",
    "df_crime['Context'].value_counts(dropna = False)"
   ]
  },
  {
   "cell_type": "code",
   "execution_count": 13,
   "id": "8081986d",
   "metadata": {},
   "outputs": [],
   "source": [
    "#Drop Context as only missing values\n",
    "df_crime=df_crime.drop(columns = ['Context'])"
   ]
  },
  {
   "cell_type": "code",
   "execution_count": 14,
   "id": "e9b275d0",
   "metadata": {},
   "outputs": [
    {
     "data": {
      "text/plain": [
       "Index(['Unnamed: 0', 'Month', 'Reported by', 'Falls within', 'Longitude',\n",
       "       'Latitude', 'Location', 'LSOA code', 'LSOA name', 'Crime type',\n",
       "       'Last outcome category'],\n",
       "      dtype='object')"
      ]
     },
     "execution_count": 14,
     "metadata": {},
     "output_type": "execute_result"
    }
   ],
   "source": [
    "df_crime.columns"
   ]
  },
  {
   "cell_type": "code",
   "execution_count": 15,
   "id": "c16634ea",
   "metadata": {},
   "outputs": [],
   "source": [
    "#Renaming variables\n",
    "df_crime.rename(columns = {'Unnamed: 0' : 'id'}, inplace = True)\n",
    "df_crime.rename(columns = {'Month' : 'date'}, inplace = True)\n",
    "df_crime.rename(columns = {'Reported by' : 'reported'}, inplace = True)\n",
    "df_crime.rename(columns = {'Falls within' : 'crime_area'}, inplace = True)\n",
    "df_crime.rename(columns = {'LSOA code' : 'lsoa_code'}, inplace = True)\n",
    "df_crime.rename(columns = {'LSOA name' : 'lsoa_name'}, inplace = True)\n",
    "df_crime.rename(columns = {'Crime type' : 'crime_type'}, inplace = True)\n",
    "df_crime.rename(columns = {'Last outcome category' : 'outcome_cat'}, inplace = True)"
   ]
  },
  {
   "cell_type": "code",
   "execution_count": 16,
   "id": "c03e8fbe",
   "metadata": {},
   "outputs": [
    {
     "data": {
      "text/plain": [
       "Index(['id', 'date', 'reported', 'crime_area', 'Longitude', 'Latitude',\n",
       "       'Location', 'lsoa_code', 'lsoa_name', 'crime_type', 'outcome_cat'],\n",
       "      dtype='object')"
      ]
     },
     "execution_count": 16,
     "metadata": {},
     "output_type": "execute_result"
    }
   ],
   "source": [
    "df_crime.columns"
   ]
  },
  {
   "cell_type": "markdown",
   "id": "a7e6cae8",
   "metadata": {},
   "source": [
    "# 04. Deriving new variables"
   ]
  },
  {
   "cell_type": "code",
   "execution_count": 17,
   "id": "e94236a0",
   "metadata": {},
   "outputs": [],
   "source": [
    "#Extracting year and month from date variable\n",
    "df_crime[[\"year\", \"month\"]] = df_crime[\"date\"].str.split(\"-\", expand = True)"
   ]
  },
  {
   "cell_type": "code",
   "execution_count": 18,
   "id": "ae1b4cde",
   "metadata": {},
   "outputs": [
    {
     "data": {
      "text/plain": [
       "Index(['id', 'date', 'reported', 'crime_area', 'Longitude', 'Latitude',\n",
       "       'Location', 'lsoa_code', 'lsoa_name', 'crime_type', 'outcome_cat',\n",
       "       'year', 'month'],\n",
       "      dtype='object')"
      ]
     },
     "execution_count": 18,
     "metadata": {},
     "output_type": "execute_result"
    }
   ],
   "source": [
    "df_crime.columns"
   ]
  },
  {
   "cell_type": "code",
   "execution_count": 19,
   "id": "1733b8f4",
   "metadata": {},
   "outputs": [
    {
     "data": {
      "text/html": [
       "<div>\n",
       "<style scoped>\n",
       "    .dataframe tbody tr th:only-of-type {\n",
       "        vertical-align: middle;\n",
       "    }\n",
       "\n",
       "    .dataframe tbody tr th {\n",
       "        vertical-align: top;\n",
       "    }\n",
       "\n",
       "    .dataframe thead th {\n",
       "        text-align: right;\n",
       "    }\n",
       "</style>\n",
       "<table border=\"1\" class=\"dataframe\">\n",
       "  <thead>\n",
       "    <tr style=\"text-align: right;\">\n",
       "      <th></th>\n",
       "      <th>id</th>\n",
       "      <th>date</th>\n",
       "      <th>reported</th>\n",
       "      <th>crime_area</th>\n",
       "      <th>Longitude</th>\n",
       "      <th>Latitude</th>\n",
       "      <th>Location</th>\n",
       "      <th>lsoa_code</th>\n",
       "      <th>lsoa_name</th>\n",
       "      <th>crime_type</th>\n",
       "      <th>outcome_cat</th>\n",
       "      <th>year</th>\n",
       "      <th>month</th>\n",
       "    </tr>\n",
       "  </thead>\n",
       "  <tbody>\n",
       "    <tr>\n",
       "      <th>0</th>\n",
       "      <td>0</td>\n",
       "      <td>2020-01</td>\n",
       "      <td>West Yorkshire Police</td>\n",
       "      <td>West Yorkshire Police</td>\n",
       "      <td>-1.570572</td>\n",
       "      <td>53.607792</td>\n",
       "      <td>On or near Park/Open Space</td>\n",
       "      <td>E01007418</td>\n",
       "      <td>Barnsley 016A</td>\n",
       "      <td>Other theft</td>\n",
       "      <td>Status update unavailable</td>\n",
       "      <td>2020</td>\n",
       "      <td>01</td>\n",
       "    </tr>\n",
       "    <tr>\n",
       "      <th>1</th>\n",
       "      <td>1</td>\n",
       "      <td>2020-01</td>\n",
       "      <td>West Yorkshire Police</td>\n",
       "      <td>West Yorkshire Police</td>\n",
       "      <td>-1.670108</td>\n",
       "      <td>53.553629</td>\n",
       "      <td>On or near Huddersfield Road</td>\n",
       "      <td>E01007426</td>\n",
       "      <td>Barnsley 027D</td>\n",
       "      <td>Robbery</td>\n",
       "      <td>Investigation complete; no suspect identified</td>\n",
       "      <td>2020</td>\n",
       "      <td>01</td>\n",
       "    </tr>\n",
       "    <tr>\n",
       "      <th>2</th>\n",
       "      <td>2</td>\n",
       "      <td>2020-01</td>\n",
       "      <td>West Yorkshire Police</td>\n",
       "      <td>West Yorkshire Police</td>\n",
       "      <td>-1.879031</td>\n",
       "      <td>53.943807</td>\n",
       "      <td>On or near Cross End Fold</td>\n",
       "      <td>E01010646</td>\n",
       "      <td>Bradford 001A</td>\n",
       "      <td>Bicycle theft</td>\n",
       "      <td>Investigation complete; no suspect identified</td>\n",
       "      <td>2020</td>\n",
       "      <td>01</td>\n",
       "    </tr>\n",
       "    <tr>\n",
       "      <th>3</th>\n",
       "      <td>3</td>\n",
       "      <td>2020-01</td>\n",
       "      <td>West Yorkshire Police</td>\n",
       "      <td>West Yorkshire Police</td>\n",
       "      <td>-1.882746</td>\n",
       "      <td>53.933807</td>\n",
       "      <td>On or near Cocking Lane</td>\n",
       "      <td>E01010646</td>\n",
       "      <td>Bradford 001A</td>\n",
       "      <td>Burglary</td>\n",
       "      <td>Investigation complete; no suspect identified</td>\n",
       "      <td>2020</td>\n",
       "      <td>01</td>\n",
       "    </tr>\n",
       "    <tr>\n",
       "      <th>4</th>\n",
       "      <td>4</td>\n",
       "      <td>2020-01</td>\n",
       "      <td>West Yorkshire Police</td>\n",
       "      <td>West Yorkshire Police</td>\n",
       "      <td>-1.881467</td>\n",
       "      <td>53.944510</td>\n",
       "      <td>On or near Kilners Croft</td>\n",
       "      <td>E01010646</td>\n",
       "      <td>Bradford 001A</td>\n",
       "      <td>Criminal damage and arson</td>\n",
       "      <td>Investigation complete; no suspect identified</td>\n",
       "      <td>2020</td>\n",
       "      <td>01</td>\n",
       "    </tr>\n",
       "  </tbody>\n",
       "</table>\n",
       "</div>"
      ],
      "text/plain": [
       "   id     date               reported             crime_area  Longitude  \\\n",
       "0   0  2020-01  West Yorkshire Police  West Yorkshire Police  -1.570572   \n",
       "1   1  2020-01  West Yorkshire Police  West Yorkshire Police  -1.670108   \n",
       "2   2  2020-01  West Yorkshire Police  West Yorkshire Police  -1.879031   \n",
       "3   3  2020-01  West Yorkshire Police  West Yorkshire Police  -1.882746   \n",
       "4   4  2020-01  West Yorkshire Police  West Yorkshire Police  -1.881467   \n",
       "\n",
       "    Latitude                      Location  lsoa_code      lsoa_name  \\\n",
       "0  53.607792    On or near Park/Open Space  E01007418  Barnsley 016A   \n",
       "1  53.553629  On or near Huddersfield Road  E01007426  Barnsley 027D   \n",
       "2  53.943807     On or near Cross End Fold  E01010646  Bradford 001A   \n",
       "3  53.933807       On or near Cocking Lane  E01010646  Bradford 001A   \n",
       "4  53.944510      On or near Kilners Croft  E01010646  Bradford 001A   \n",
       "\n",
       "                  crime_type                                    outcome_cat  \\\n",
       "0                Other theft                      Status update unavailable   \n",
       "1                    Robbery  Investigation complete; no suspect identified   \n",
       "2              Bicycle theft  Investigation complete; no suspect identified   \n",
       "3                   Burglary  Investigation complete; no suspect identified   \n",
       "4  Criminal damage and arson  Investigation complete; no suspect identified   \n",
       "\n",
       "   year month  \n",
       "0  2020    01  \n",
       "1  2020    01  \n",
       "2  2020    01  \n",
       "3  2020    01  \n",
       "4  2020    01  "
      ]
     },
     "execution_count": 19,
     "metadata": {},
     "output_type": "execute_result"
    }
   ],
   "source": [
    "df_crime.head()"
   ]
  },
  {
   "cell_type": "markdown",
   "id": "abb02f5f",
   "metadata": {},
   "source": [
    "# 05. Categorical variables"
   ]
  },
  {
   "cell_type": "code",
   "execution_count": 20,
   "id": "fed78cfc",
   "metadata": {},
   "outputs": [
    {
     "data": {
      "text/plain": [
       "Investigation complete; no suspect identified          5228532\n",
       "NaN                                                    4972730\n",
       "Unable to prosecute suspect                            4296688\n",
       "Status update unavailable                              1878038\n",
       "Court result unavailable                                727999\n",
       "Under investigation                                     661900\n",
       "Local resolution                                        323805\n",
       "Awaiting court outcome                                  165362\n",
       "Offender given a caution                                159563\n",
       "Further investigation is not in the public interest     148175\n",
       "Action to be taken by another organisation              138150\n",
       "Formal action is not in the public interest              93296\n",
       "Offender given a drugs possession warning                43619\n",
       "Offender given penalty notice                            32917\n",
       "Further action is not in the public interest             32362\n",
       "Offender sent to prison                                  19429\n",
       "Offender given community sentence                        18751\n",
       "Offender fined                                           10562\n",
       "Suspect charged as part of another case                   9475\n",
       "Defendant found not guilty                                7625\n",
       "Offender given conditional discharge                      6706\n",
       "Offender given suspended prison sentence                  6640\n",
       "Court case unable to proceed                              6144\n",
       "Offender otherwise dealt with                             2043\n",
       "Offender ordered to pay compensation                      1847\n",
       "Defendant sent to Crown Court                             1247\n",
       "Offender deprived of property                              791\n",
       "Offender given absolute discharge                          166\n",
       "Name: outcome_cat, dtype: int64"
      ]
     },
     "execution_count": 20,
     "metadata": {},
     "output_type": "execute_result"
    }
   ],
   "source": [
    "#Checking values for Last outcome category\n",
    "df_crime['outcome_cat'].value_counts(dropna = False)"
   ]
  },
  {
   "cell_type": "code",
   "execution_count": 21,
   "id": "0f1029d2",
   "metadata": {},
   "outputs": [
    {
     "data": {
      "text/plain": [
       "Metropolitan Police Service           3371292\n",
       "West Yorkshire Police                  980503\n",
       "West Midlands Police                   785195\n",
       "Lancashire Constabulary                647491\n",
       "Kent Police                            642310\n",
       "Essex Police                           625946\n",
       "Thames Valley Police                   597055\n",
       "Northumbria Police                     592354\n",
       "Hampshire Constabulary                 543272\n",
       "South Yorkshire Police                 526495\n",
       "Merseyside Police                      515578\n",
       "Avon and Somerset Constabulary         502791\n",
       "Police Service of Northern Ireland     486300\n",
       "Sussex Police                          473201\n",
       "South Wales Police                     438326\n",
       "Nottinghamshire Police                 411912\n",
       "Devon & Cornwall Police                402809\n",
       "Derbyshire Constabulary                347457\n",
       "West Mercia Police                     324826\n",
       "Hertfordshire Constabulary             321437\n",
       "Staffordshire Police                   314349\n",
       "Cheshire Constabulary                  313930\n",
       "Humberside Police                      309121\n",
       "Leicestershire Police                  301618\n",
       "Surrey Police                          292186\n",
       "Cleveland Police                       292142\n",
       "Greater Manchester Police              289150\n",
       "Cambridgeshire Constabulary            245127\n",
       "Northamptonshire Police                244725\n",
       "Durham Constabulary                    238367\n",
       "Norfolk Constabulary                   234294\n",
       "Dorset Police                          222867\n",
       "North Wales Police                     214250\n",
       "North Yorkshire Police                 214234\n",
       "Lincolnshire Police                    212153\n",
       "Bedfordshire Police                    195851\n",
       "Gloucestershire Constabulary           188879\n",
       "Gwent Police                           188470\n",
       "Suffolk Constabulary                   185791\n",
       "Wiltshire Police                       168061\n",
       "Warwickshire Police                    161815\n",
       "British Transport Police               145734\n",
       "Cumbria Constabulary                   132691\n",
       "Dyfed-Powys Police                     129651\n",
       "City of London Police                   22556\n",
       "Name: reported, dtype: int64"
      ]
     },
     "execution_count": 21,
     "metadata": {},
     "output_type": "execute_result"
    }
   ],
   "source": [
    "#Checking frequency for reported\n",
    "df_crime['reported'].value_counts(dropna = False)"
   ]
  },
  {
   "cell_type": "code",
   "execution_count": 22,
   "id": "5d42ed0a",
   "metadata": {},
   "outputs": [],
   "source": [
    "#Removing BTP\n",
    "df_crime.drop(df_crime[df_crime.reported == 'British Transport Police'].index, inplace=True)"
   ]
  },
  {
   "cell_type": "code",
   "execution_count": 23,
   "id": "715b5529",
   "metadata": {},
   "outputs": [],
   "source": [
    "#Removing Northern Ireland \n",
    "df_crime.drop(df_crime[df_crime.reported == 'Police Service of Northern Ireland'].index, inplace=True)"
   ]
  },
  {
   "cell_type": "code",
   "execution_count": 24,
   "id": "98eb5676",
   "metadata": {},
   "outputs": [
    {
     "data": {
      "text/plain": [
       "(18362528, 13)"
      ]
     },
     "execution_count": 24,
     "metadata": {},
     "output_type": "execute_result"
    }
   ],
   "source": [
    "df_crime.shape"
   ]
  },
  {
   "cell_type": "code",
   "execution_count": 25,
   "id": "db53cbda",
   "metadata": {},
   "outputs": [
    {
     "data": {
      "text/plain": [
       "Violence and sexual offences    5500918\n",
       "Anti-social behaviour           4340696\n",
       "Criminal damage and arson       1458268\n",
       "Public order                    1330469\n",
       "Other theft                     1235285\n",
       "Vehicle crime                   1125482\n",
       "Burglary                         928342\n",
       "Shoplifting                      849002\n",
       "Drugs                            514224\n",
       "Other crime                      299653\n",
       "Bicycle theft                    225554\n",
       "Theft from the person            224855\n",
       "Robbery                          205784\n",
       "Possession of weapons            123996\n",
       "Name: crime_type, dtype: int64"
      ]
     },
     "execution_count": 25,
     "metadata": {},
     "output_type": "execute_result"
    }
   ],
   "source": [
    "#Checking frequency of crime_type\n",
    "df_crime['crime_type'].value_counts(dropna = False)"
   ]
  },
  {
   "cell_type": "code",
   "execution_count": 26,
   "id": "68719189",
   "metadata": {},
   "outputs": [],
   "source": [
    "#Exporting df_crime to .csv\n",
    "df_crime.to_csv(os.path.join(path, 'Data','Prepared Data', 'crime_wrangled.csv')) "
   ]
  },
  {
   "cell_type": "markdown",
   "id": "5e2a9ebf",
   "metadata": {},
   "source": [
    "# 06. Importing second data set"
   ]
  },
  {
   "cell_type": "code",
   "execution_count": 9,
   "id": "0ee8d88f",
   "metadata": {},
   "outputs": [],
   "source": [
    "#Import data\n",
    "df_police = pd.read_csv(os.path.join(path, 'Data', 'Police_staff_2018-2021.csv'), index_col = False)"
   ]
  },
  {
   "cell_type": "code",
   "execution_count": 10,
   "id": "c711fefe",
   "metadata": {},
   "outputs": [
    {
     "data": {
      "text/plain": [
       "(168, 12)"
      ]
     },
     "execution_count": 10,
     "metadata": {},
     "output_type": "execute_result"
    }
   ],
   "source": [
    "df_police.shape"
   ]
  },
  {
   "cell_type": "code",
   "execution_count": 11,
   "id": "b11760c3",
   "metadata": {},
   "outputs": [
    {
     "data": {
      "text/html": [
       "<div>\n",
       "<style scoped>\n",
       "    .dataframe tbody tr th:only-of-type {\n",
       "        vertical-align: middle;\n",
       "    }\n",
       "\n",
       "    .dataframe tbody tr th {\n",
       "        vertical-align: top;\n",
       "    }\n",
       "\n",
       "    .dataframe thead th {\n",
       "        text-align: right;\n",
       "    }\n",
       "</style>\n",
       "<table border=\"1\" class=\"dataframe\">\n",
       "  <thead>\n",
       "    <tr style=\"text-align: right;\">\n",
       "      <th></th>\n",
       "      <th>Staff_area_name</th>\n",
       "      <th>Crime area name (matches force name on crime data)</th>\n",
       "      <th>Geo_boundries_Data_match</th>\n",
       "      <th>Region citizen population 2021</th>\n",
       "      <th>Number of Police</th>\n",
       "      <th>Year</th>\n",
       "      <th>Police_per 1000 residents</th>\n",
       "      <th>Special Constables</th>\n",
       "      <th>Crimes Sept 2020 - August 2021 (12 months)</th>\n",
       "      <th>crimes per 1000 redsident Sept 2020 - August 2021</th>\n",
       "      <th>Crimes per police officer, Sept 2020 - August 2021</th>\n",
       "      <th>crimes per frontend police officer Sept 2020 - August 2021</th>\n",
       "    </tr>\n",
       "  </thead>\n",
       "  <tbody>\n",
       "    <tr>\n",
       "      <th>0</th>\n",
       "      <td>Avon &amp; Somerset</td>\n",
       "      <td>Avon and Somerset Constabulary</td>\n",
       "      <td>E23000036</td>\n",
       "      <td>1719000</td>\n",
       "      <td>2997</td>\n",
       "      <td>2021</td>\n",
       "      <td>1.7</td>\n",
       "      <td>305</td>\n",
       "      <td>156993.0</td>\n",
       "      <td>91.0</td>\n",
       "      <td>56.0</td>\n",
       "      <td>60.0</td>\n",
       "    </tr>\n",
       "    <tr>\n",
       "      <th>1</th>\n",
       "      <td>Bedfordshire</td>\n",
       "      <td>Bedfordshire Police</td>\n",
       "      <td>E23000026</td>\n",
       "      <td>675000</td>\n",
       "      <td>1335</td>\n",
       "      <td>2021</td>\n",
       "      <td>2.0</td>\n",
       "      <td>155</td>\n",
       "      <td>62203.0</td>\n",
       "      <td>92.0</td>\n",
       "      <td>50.0</td>\n",
       "      <td>55.0</td>\n",
       "    </tr>\n",
       "    <tr>\n",
       "      <th>2</th>\n",
       "      <td>Cambridgeshire</td>\n",
       "      <td>Cambridgeshire Constabulary</td>\n",
       "      <td>E23000023</td>\n",
       "      <td>855800</td>\n",
       "      <td>1620</td>\n",
       "      <td>2021</td>\n",
       "      <td>1.9</td>\n",
       "      <td>169</td>\n",
       "      <td>78874.0</td>\n",
       "      <td>92.0</td>\n",
       "      <td>51.0</td>\n",
       "      <td>54.0</td>\n",
       "    </tr>\n",
       "    <tr>\n",
       "      <th>3</th>\n",
       "      <td>Cheshire</td>\n",
       "      <td>Cheshire Constabulary</td>\n",
       "      <td>E23000006</td>\n",
       "      <td>1066600</td>\n",
       "      <td>2149</td>\n",
       "      <td>2021</td>\n",
       "      <td>2.0</td>\n",
       "      <td>213</td>\n",
       "      <td>102402.0</td>\n",
       "      <td>96.0</td>\n",
       "      <td>49.0</td>\n",
       "      <td>54.0</td>\n",
       "    </tr>\n",
       "    <tr>\n",
       "      <th>4</th>\n",
       "      <td>Cleveland</td>\n",
       "      <td>Cleveland Police</td>\n",
       "      <td>E23000013</td>\n",
       "      <td>569100</td>\n",
       "      <td>1414</td>\n",
       "      <td>2021</td>\n",
       "      <td>2.5</td>\n",
       "      <td>69</td>\n",
       "      <td>94077.0</td>\n",
       "      <td>165.0</td>\n",
       "      <td>70.0</td>\n",
       "      <td>76.0</td>\n",
       "    </tr>\n",
       "  </tbody>\n",
       "</table>\n",
       "</div>"
      ],
      "text/plain": [
       "   Staff_area_name Crime area name (matches force name on crime data)  \\\n",
       "0  Avon & Somerset                     Avon and Somerset Constabulary   \n",
       "1     Bedfordshire                                Bedfordshire Police   \n",
       "2   Cambridgeshire                        Cambridgeshire Constabulary   \n",
       "3         Cheshire                              Cheshire Constabulary   \n",
       "4        Cleveland                                   Cleveland Police   \n",
       "\n",
       "  Geo_boundries_Data_match  Region citizen population 2021  Number of Police  \\\n",
       "0                E23000036                         1719000              2997   \n",
       "1                E23000026                          675000              1335   \n",
       "2                E23000023                          855800              1620   \n",
       "3                E23000006                         1066600              2149   \n",
       "4                E23000013                          569100              1414   \n",
       "\n",
       "   Year  Police_per 1000 residents  Special Constables  \\\n",
       "0  2021                        1.7                 305   \n",
       "1  2021                        2.0                 155   \n",
       "2  2021                        1.9                 169   \n",
       "3  2021                        2.0                 213   \n",
       "4  2021                        2.5                  69   \n",
       "\n",
       "   Crimes Sept 2020 - August 2021 (12 months)  \\\n",
       "0                                    156993.0   \n",
       "1                                     62203.0   \n",
       "2                                     78874.0   \n",
       "3                                    102402.0   \n",
       "4                                     94077.0   \n",
       "\n",
       "   crimes per 1000 redsident Sept 2020 - August 2021  \\\n",
       "0                                               91.0   \n",
       "1                                               92.0   \n",
       "2                                               92.0   \n",
       "3                                               96.0   \n",
       "4                                              165.0   \n",
       "\n",
       "   Crimes per police officer, Sept 2020 - August 2021  \\\n",
       "0                                               56.0    \n",
       "1                                               50.0    \n",
       "2                                               51.0    \n",
       "3                                               49.0    \n",
       "4                                               70.0    \n",
       "\n",
       "   crimes per frontend police officer Sept 2020 - August 2021  \n",
       "0                                               60.0           \n",
       "1                                               55.0           \n",
       "2                                               54.0           \n",
       "3                                               54.0           \n",
       "4                                               76.0           "
      ]
     },
     "execution_count": 11,
     "metadata": {},
     "output_type": "execute_result"
    }
   ],
   "source": [
    "df_police.head()"
   ]
  },
  {
   "cell_type": "markdown",
   "id": "0ced672c",
   "metadata": {},
   "source": [
    "# 07. Rename & Quality checks"
   ]
  },
  {
   "cell_type": "code",
   "execution_count": 12,
   "id": "83916e59",
   "metadata": {},
   "outputs": [],
   "source": [
    "#Renaming variables\n",
    "df_police.rename(columns = {'Crime area name (matches force name on crime data)' : 'crime_area'}, inplace = True)\n",
    "df_police.rename(columns = {'Geo_boundaries_Data_match' : 'pfa_code'}, inplace = True)\n",
    "df_police.rename(columns = {'Region citizen population 2021' : 'number_residents'}, inplace = True)\n",
    "df_police.rename(columns = {'Number of Police' : 'number_police'}, inplace = True)\n",
    "df_police.rename(columns = {'Year' : 'year'}, inplace = True)\n",
    "df_police.rename(columns = {'Police_per 1000 residents' : 'police_per_1000'}, inplace = True)\n",
    "df_police.rename(columns = {'Special Constables' : 'number_spc'}, inplace = True)"
   ]
  },
  {
   "cell_type": "code",
   "execution_count": 13,
   "id": "faa67128",
   "metadata": {},
   "outputs": [
    {
     "data": {
      "text/plain": [
       "Staff_area_name                                                 0\n",
       "crime_area                                                      0\n",
       "Geo_boundries_Data_match                                        0\n",
       "number_residents                                                0\n",
       "number_police                                                   0\n",
       "year                                                            0\n",
       "police_per_1000                                                 0\n",
       "number_spc                                                      0\n",
       "Crimes Sept 2020 - August 2021 (12 months)                    127\n",
       "crimes per 1000 redsident Sept 2020 - August 2021             127\n",
       "Crimes per police officer, Sept 2020 - August 2021            127\n",
       "crimes per frontend police officer Sept 2020 - August 2021    127\n",
       "dtype: int64"
      ]
     },
     "execution_count": 13,
     "metadata": {},
     "output_type": "execute_result"
    }
   ],
   "source": [
    "#Check for missing values\n",
    "df_police.isnull().sum()"
   ]
  },
  {
   "cell_type": "markdown",
   "id": "135bb931",
   "metadata": {},
   "source": [
    "Missing values to be imputed once merge is complete."
   ]
  },
  {
   "cell_type": "code",
   "execution_count": 14,
   "id": "eae2b4be",
   "metadata": {},
   "outputs": [],
   "source": [
    "#Creating subset for duplicates\n",
    "df_dups = df_police[df_police.duplicated()]"
   ]
  },
  {
   "cell_type": "code",
   "execution_count": 15,
   "id": "23be8bed",
   "metadata": {},
   "outputs": [
    {
     "data": {
      "text/html": [
       "<div>\n",
       "<style scoped>\n",
       "    .dataframe tbody tr th:only-of-type {\n",
       "        vertical-align: middle;\n",
       "    }\n",
       "\n",
       "    .dataframe tbody tr th {\n",
       "        vertical-align: top;\n",
       "    }\n",
       "\n",
       "    .dataframe thead th {\n",
       "        text-align: right;\n",
       "    }\n",
       "</style>\n",
       "<table border=\"1\" class=\"dataframe\">\n",
       "  <thead>\n",
       "    <tr style=\"text-align: right;\">\n",
       "      <th></th>\n",
       "      <th>Staff_area_name</th>\n",
       "      <th>crime_area</th>\n",
       "      <th>Geo_boundries_Data_match</th>\n",
       "      <th>number_residents</th>\n",
       "      <th>number_police</th>\n",
       "      <th>year</th>\n",
       "      <th>police_per_1000</th>\n",
       "      <th>number_spc</th>\n",
       "      <th>Crimes Sept 2020 - August 2021 (12 months)</th>\n",
       "      <th>crimes per 1000 redsident Sept 2020 - August 2021</th>\n",
       "      <th>Crimes per police officer, Sept 2020 - August 2021</th>\n",
       "      <th>crimes per frontend police officer Sept 2020 - August 2021</th>\n",
       "    </tr>\n",
       "  </thead>\n",
       "  <tbody>\n",
       "  </tbody>\n",
       "</table>\n",
       "</div>"
      ],
      "text/plain": [
       "Empty DataFrame\n",
       "Columns: [Staff_area_name, crime_area, Geo_boundries_Data_match, number_residents, number_police, year, police_per_1000, number_spc, Crimes Sept 2020 - August 2021 (12 months), crimes per 1000 redsident Sept 2020 - August 2021, Crimes per police officer, Sept 2020 - August 2021, crimes per frontend police officer Sept 2020 - August 2021]\n",
       "Index: []"
      ]
     },
     "execution_count": 15,
     "metadata": {},
     "output_type": "execute_result"
    }
   ],
   "source": [
    "df_dups.head()"
   ]
  },
  {
   "cell_type": "markdown",
   "id": "8381eea4",
   "metadata": {},
   "source": [
    "# 08. Reducing size of dataframe for merge"
   ]
  },
  {
   "cell_type": "code",
   "execution_count": 16,
   "id": "21bb48a2",
   "metadata": {},
   "outputs": [],
   "source": [
    "#Import data\n",
    "df_crime = pd.read_csv(os.path.join(path, 'Data','Prepared Data', 'crime_wrangled.csv'), index_col = False) "
   ]
  },
  {
   "cell_type": "code",
   "execution_count": 17,
   "id": "999facd7",
   "metadata": {},
   "outputs": [
    {
     "name": "stdout",
     "output_type": "stream",
     "text": [
      "<class 'pandas.core.frame.DataFrame'>\n",
      "RangeIndex: 18362528 entries, 0 to 18362527\n",
      "Data columns (total 14 columns):\n",
      " #   Column       Dtype  \n",
      "---  ------       -----  \n",
      " 0   Unnamed: 0   int64  \n",
      " 1   id           int64  \n",
      " 2   date         object \n",
      " 3   reported     object \n",
      " 4   crime_area   object \n",
      " 5   Longitude    float64\n",
      " 6   Latitude     float64\n",
      " 7   Location     object \n",
      " 8   lsoa_code    object \n",
      " 9   lsoa_name    object \n",
      " 10  crime_type   object \n",
      " 11  outcome_cat  object \n",
      " 12  year         int64  \n",
      " 13  month        int64  \n",
      "dtypes: float64(2), int64(4), object(8)\n",
      "memory usage: 1.9+ GB\n"
     ]
    }
   ],
   "source": [
    "df_crime.info()"
   ]
  },
  {
   "cell_type": "code",
   "execution_count": 18,
   "id": "f0a10648",
   "metadata": {},
   "outputs": [],
   "source": [
    "#Adjusting data types\n",
    "df_crime['id'] = df_crime['id'].astype('int32')\n",
    "df_crime['Longitude'] = df_crime['Longitude'].astype('float32')\n",
    "df_crime['Latitude'] = df_crime['Latitude'].astype('float32')\n",
    "df_crime['year'] = df_crime['year'].astype('int16')\n",
    "df_crime['month'] = df_crime['month'].astype('int8')"
   ]
  },
  {
   "cell_type": "code",
   "execution_count": 19,
   "id": "9449247e",
   "metadata": {},
   "outputs": [
    {
     "name": "stdout",
     "output_type": "stream",
     "text": [
      "<class 'pandas.core.frame.DataFrame'>\n",
      "RangeIndex: 18362528 entries, 0 to 18362527\n",
      "Data columns (total 14 columns):\n",
      " #   Column       Dtype  \n",
      "---  ------       -----  \n",
      " 0   Unnamed: 0   int64  \n",
      " 1   id           int32  \n",
      " 2   date         object \n",
      " 3   reported     object \n",
      " 4   crime_area   object \n",
      " 5   Longitude    float32\n",
      " 6   Latitude     float32\n",
      " 7   Location     object \n",
      " 8   lsoa_code    object \n",
      " 9   lsoa_name    object \n",
      " 10  crime_type   object \n",
      " 11  outcome_cat  object \n",
      " 12  year         int16  \n",
      " 13  month        int8   \n",
      "dtypes: float32(2), int16(1), int32(1), int64(1), int8(1), object(8)\n",
      "memory usage: 1.5+ GB\n"
     ]
    }
   ],
   "source": [
    "df_crime.info()"
   ]
  },
  {
   "cell_type": "code",
   "execution_count": 20,
   "id": "1240fd6b",
   "metadata": {},
   "outputs": [
    {
     "data": {
      "text/html": [
       "<div>\n",
       "<style scoped>\n",
       "    .dataframe tbody tr th:only-of-type {\n",
       "        vertical-align: middle;\n",
       "    }\n",
       "\n",
       "    .dataframe tbody tr th {\n",
       "        vertical-align: top;\n",
       "    }\n",
       "\n",
       "    .dataframe thead th {\n",
       "        text-align: right;\n",
       "    }\n",
       "</style>\n",
       "<table border=\"1\" class=\"dataframe\">\n",
       "  <thead>\n",
       "    <tr style=\"text-align: right;\">\n",
       "      <th></th>\n",
       "      <th>Unnamed: 0</th>\n",
       "      <th>id</th>\n",
       "      <th>date</th>\n",
       "      <th>reported</th>\n",
       "      <th>crime_area</th>\n",
       "      <th>Longitude</th>\n",
       "      <th>Latitude</th>\n",
       "      <th>Location</th>\n",
       "      <th>lsoa_code</th>\n",
       "      <th>lsoa_name</th>\n",
       "      <th>crime_type</th>\n",
       "      <th>outcome_cat</th>\n",
       "      <th>year</th>\n",
       "      <th>month</th>\n",
       "    </tr>\n",
       "  </thead>\n",
       "  <tbody>\n",
       "    <tr>\n",
       "      <th>0</th>\n",
       "      <td>0</td>\n",
       "      <td>0</td>\n",
       "      <td>2020-01</td>\n",
       "      <td>West Yorkshire Police</td>\n",
       "      <td>West Yorkshire Police</td>\n",
       "      <td>-1.570572</td>\n",
       "      <td>53.607792</td>\n",
       "      <td>On or near Park/Open Space</td>\n",
       "      <td>E01007418</td>\n",
       "      <td>Barnsley 016A</td>\n",
       "      <td>Other theft</td>\n",
       "      <td>Status update unavailable</td>\n",
       "      <td>2020</td>\n",
       "      <td>1</td>\n",
       "    </tr>\n",
       "    <tr>\n",
       "      <th>1</th>\n",
       "      <td>1</td>\n",
       "      <td>1</td>\n",
       "      <td>2020-01</td>\n",
       "      <td>West Yorkshire Police</td>\n",
       "      <td>West Yorkshire Police</td>\n",
       "      <td>-1.670108</td>\n",
       "      <td>53.553631</td>\n",
       "      <td>On or near Huddersfield Road</td>\n",
       "      <td>E01007426</td>\n",
       "      <td>Barnsley 027D</td>\n",
       "      <td>Robbery</td>\n",
       "      <td>Investigation complete; no suspect identified</td>\n",
       "      <td>2020</td>\n",
       "      <td>1</td>\n",
       "    </tr>\n",
       "    <tr>\n",
       "      <th>2</th>\n",
       "      <td>2</td>\n",
       "      <td>2</td>\n",
       "      <td>2020-01</td>\n",
       "      <td>West Yorkshire Police</td>\n",
       "      <td>West Yorkshire Police</td>\n",
       "      <td>-1.879031</td>\n",
       "      <td>53.943806</td>\n",
       "      <td>On or near Cross End Fold</td>\n",
       "      <td>E01010646</td>\n",
       "      <td>Bradford 001A</td>\n",
       "      <td>Bicycle theft</td>\n",
       "      <td>Investigation complete; no suspect identified</td>\n",
       "      <td>2020</td>\n",
       "      <td>1</td>\n",
       "    </tr>\n",
       "    <tr>\n",
       "      <th>3</th>\n",
       "      <td>3</td>\n",
       "      <td>3</td>\n",
       "      <td>2020-01</td>\n",
       "      <td>West Yorkshire Police</td>\n",
       "      <td>West Yorkshire Police</td>\n",
       "      <td>-1.882746</td>\n",
       "      <td>53.933807</td>\n",
       "      <td>On or near Cocking Lane</td>\n",
       "      <td>E01010646</td>\n",
       "      <td>Bradford 001A</td>\n",
       "      <td>Burglary</td>\n",
       "      <td>Investigation complete; no suspect identified</td>\n",
       "      <td>2020</td>\n",
       "      <td>1</td>\n",
       "    </tr>\n",
       "    <tr>\n",
       "      <th>4</th>\n",
       "      <td>4</td>\n",
       "      <td>4</td>\n",
       "      <td>2020-01</td>\n",
       "      <td>West Yorkshire Police</td>\n",
       "      <td>West Yorkshire Police</td>\n",
       "      <td>-1.881467</td>\n",
       "      <td>53.944511</td>\n",
       "      <td>On or near Kilners Croft</td>\n",
       "      <td>E01010646</td>\n",
       "      <td>Bradford 001A</td>\n",
       "      <td>Criminal damage and arson</td>\n",
       "      <td>Investigation complete; no suspect identified</td>\n",
       "      <td>2020</td>\n",
       "      <td>1</td>\n",
       "    </tr>\n",
       "  </tbody>\n",
       "</table>\n",
       "</div>"
      ],
      "text/plain": [
       "   Unnamed: 0  id     date               reported             crime_area  \\\n",
       "0           0   0  2020-01  West Yorkshire Police  West Yorkshire Police   \n",
       "1           1   1  2020-01  West Yorkshire Police  West Yorkshire Police   \n",
       "2           2   2  2020-01  West Yorkshire Police  West Yorkshire Police   \n",
       "3           3   3  2020-01  West Yorkshire Police  West Yorkshire Police   \n",
       "4           4   4  2020-01  West Yorkshire Police  West Yorkshire Police   \n",
       "\n",
       "   Longitude   Latitude                      Location  lsoa_code  \\\n",
       "0  -1.570572  53.607792    On or near Park/Open Space  E01007418   \n",
       "1  -1.670108  53.553631  On or near Huddersfield Road  E01007426   \n",
       "2  -1.879031  53.943806     On or near Cross End Fold  E01010646   \n",
       "3  -1.882746  53.933807       On or near Cocking Lane  E01010646   \n",
       "4  -1.881467  53.944511      On or near Kilners Croft  E01010646   \n",
       "\n",
       "       lsoa_name                 crime_type  \\\n",
       "0  Barnsley 016A                Other theft   \n",
       "1  Barnsley 027D                    Robbery   \n",
       "2  Bradford 001A              Bicycle theft   \n",
       "3  Bradford 001A                   Burglary   \n",
       "4  Bradford 001A  Criminal damage and arson   \n",
       "\n",
       "                                     outcome_cat  year  month  \n",
       "0                      Status update unavailable  2020      1  \n",
       "1  Investigation complete; no suspect identified  2020      1  \n",
       "2  Investigation complete; no suspect identified  2020      1  \n",
       "3  Investigation complete; no suspect identified  2020      1  \n",
       "4  Investigation complete; no suspect identified  2020      1  "
      ]
     },
     "execution_count": 20,
     "metadata": {},
     "output_type": "execute_result"
    }
   ],
   "source": [
    "df_crime.head()"
   ]
  },
  {
   "cell_type": "code",
   "execution_count": 21,
   "id": "370126b6",
   "metadata": {},
   "outputs": [
    {
     "name": "stdout",
     "output_type": "stream",
     "text": [
      "<class 'pandas.core.frame.DataFrame'>\n",
      "RangeIndex: 168 entries, 0 to 167\n",
      "Data columns (total 12 columns):\n",
      " #   Column                                                      Non-Null Count  Dtype  \n",
      "---  ------                                                      --------------  -----  \n",
      " 0   Staff_area_name                                             168 non-null    object \n",
      " 1   crime_area                                                  168 non-null    object \n",
      " 2   Geo_boundries_Data_match                                    168 non-null    object \n",
      " 3   number_residents                                            168 non-null    int64  \n",
      " 4   number_police                                               168 non-null    int64  \n",
      " 5   year                                                        168 non-null    int64  \n",
      " 6   police_per_1000                                             168 non-null    float64\n",
      " 7   number_spc                                                  168 non-null    int64  \n",
      " 8   Crimes Sept 2020 - August 2021 (12 months)                  41 non-null     float64\n",
      " 9   crimes per 1000 redsident Sept 2020 - August 2021           41 non-null     float64\n",
      " 10  Crimes per police officer, Sept 2020 - August 2021          41 non-null     float64\n",
      " 11  crimes per frontend police officer Sept 2020 - August 2021  41 non-null     float64\n",
      "dtypes: float64(5), int64(4), object(3)\n",
      "memory usage: 15.9+ KB\n"
     ]
    }
   ],
   "source": [
    "df_police.info()"
   ]
  },
  {
   "cell_type": "code",
   "execution_count": 22,
   "id": "306254e4",
   "metadata": {},
   "outputs": [],
   "source": [
    "#changing outcome_cat\n",
    "df_crime['outcome_cat'] = df_crime['outcome_cat'].replace('Action to be taken by another organisation', '1')\n",
    "df_crime['outcome_cat'] = df_crime['outcome_cat'].replace('Awaiting court outcome', '2')\n",
    "df_crime['outcome_cat'] = df_crime['outcome_cat'].replace('Court case unable to proceed', '3')\n",
    "df_crime['outcome_cat'] = df_crime['outcome_cat'].replace('Court result unavailable', '4')\n",
    "df_crime['outcome_cat'] = df_crime['outcome_cat'].replace('Defendant found not guilty', '5')\n",
    "df_crime['outcome_cat'] = df_crime['outcome_cat'].replace('Defendant sent to Crown Court', '6')\n",
    "df_crime['outcome_cat'] = df_crime['outcome_cat'].replace('Formal action is not in the public interest', '7')\n",
    "df_crime['outcome_cat'] = df_crime['outcome_cat'].replace('Further action is not in the public interest', '8')\n",
    "df_crime['outcome_cat'] = df_crime['outcome_cat'].replace('Further investigation is not in the public interest', '9')\n",
    "df_crime['outcome_cat'] = df_crime['outcome_cat'].replace('Investigation complete; no suspect identified', '10')\n",
    "df_crime['outcome_cat'] = df_crime['outcome_cat'].replace('Local resolution', '11')\n",
    "df_crime['outcome_cat'] = df_crime['outcome_cat'].replace('Offender deprived of property', '12')\n",
    "df_crime['outcome_cat'] = df_crime['outcome_cat'].replace('Offender fined', '13')\n",
    "df_crime['outcome_cat'] = df_crime['outcome_cat'].replace('Offender given a caution', '14')\n",
    "df_crime['outcome_cat'] = df_crime['outcome_cat'].replace('Offender given a drugs possession warning', '15')\n",
    "df_crime['outcome_cat'] = df_crime['outcome_cat'].replace('Offender given absolute discharge', '16')\n",
    "df_crime['outcome_cat'] = df_crime['outcome_cat'].replace('Offender given community sentence', '17')\n",
    "df_crime['outcome_cat'] = df_crime['outcome_cat'].replace('Offender given conditional discharge', '18')\n",
    "df_crime['outcome_cat'] = df_crime['outcome_cat'].replace('Offender given penalty notice', '19')\n",
    "df_crime['outcome_cat'] = df_crime['outcome_cat'].replace('Offender given suspended prison sentence', '20')\n",
    "df_crime['outcome_cat'] = df_crime['outcome_cat'].replace('Offender ordered to pay compensation', '21')\n",
    "df_crime['outcome_cat'] = df_crime['outcome_cat'].replace('Offender otherwise dealt with', '22')\n",
    "df_crime['outcome_cat'] = df_crime['outcome_cat'].replace('Offender sent to prison', '23')\n",
    "df_crime['outcome_cat'] = df_crime['outcome_cat'].replace('Status update unavailable', '24')\n",
    "df_crime['outcome_cat'] = df_crime['outcome_cat'].replace('Suspect charged as part of another case', '25')\n",
    "df_crime['outcome_cat'] = df_crime['outcome_cat'].replace('Unable to prosecute suspect', '26')\n",
    "df_crime['outcome_cat'] = df_crime['outcome_cat'].replace('Under investigation', '27')\n",
    "df_crime['outcome_cat'] = df_crime['outcome_cat'].replace('NaN', '')"
   ]
  },
  {
   "cell_type": "code",
   "execution_count": 23,
   "id": "6fe21c13",
   "metadata": {},
   "outputs": [
    {
     "data": {
      "text/plain": [
       "10     5228532\n",
       "NaN    4340696\n",
       "26     4296688\n",
       "24     1878038\n",
       "4       727999\n",
       "27      661900\n",
       "11      323805\n",
       "2       165362\n",
       "14      159563\n",
       "9       148175\n",
       "1       138150\n",
       "7        93296\n",
       "15       43619\n",
       "19       32917\n",
       "8        32362\n",
       "23       19429\n",
       "17       18751\n",
       "13       10562\n",
       "25        9475\n",
       "5         7625\n",
       "18        6706\n",
       "20        6640\n",
       "3         6144\n",
       "22        2043\n",
       "21        1847\n",
       "6         1247\n",
       "12         791\n",
       "16         166\n",
       "Name: outcome_cat, dtype: int64"
      ]
     },
     "execution_count": 23,
     "metadata": {},
     "output_type": "execute_result"
    }
   ],
   "source": [
    "#Checking values for Last outcome category\n",
    "df_crime['outcome_cat'].value_counts(dropna = False)"
   ]
  },
  {
   "cell_type": "code",
   "execution_count": 24,
   "id": "0857a46d",
   "metadata": {},
   "outputs": [],
   "source": [
    "#changing crime_type\n",
    "df_crime['crime_type'] = df_crime['crime_type'].replace('Anti-social behaviour', '1')\n",
    "df_crime['crime_type'] = df_crime['crime_type'].replace('Bicycle theft', '2')\n",
    "df_crime['crime_type'] = df_crime['crime_type'].replace('Burglary', '3')\n",
    "df_crime['crime_type'] = df_crime['crime_type'].replace('Criminal damage and arson', '4')\n",
    "df_crime['crime_type'] = df_crime['crime_type'].replace('Drugs', '5')\n",
    "df_crime['crime_type'] = df_crime['crime_type'].replace('Possession of weapons', '6')\n",
    "df_crime['crime_type'] = df_crime['crime_type'].replace('Public order', '7')\n",
    "df_crime['crime_type'] = df_crime['crime_type'].replace('Robbery', '8')\n",
    "df_crime['crime_type'] = df_crime['crime_type'].replace('Shoplifting', '9')\n",
    "df_crime['crime_type'] = df_crime['crime_type'].replace('Theft from the person', '10')\n",
    "df_crime['crime_type'] = df_crime['crime_type'].replace('Vehicle crime', '11')\n",
    "df_crime['crime_type'] = df_crime['crime_type'].replace('Violence and sexual offences', '12')\n",
    "df_crime['crime_type'] = df_crime['crime_type'].replace('Other crime', '13')\n",
    "df_crime['crime_type'] = df_crime['crime_type'].replace('Other theft', '14')"
   ]
  },
  {
   "cell_type": "code",
   "execution_count": 25,
   "id": "58935152",
   "metadata": {},
   "outputs": [
    {
     "data": {
      "text/plain": [
       "12    5500918\n",
       "1     4340696\n",
       "4     1458268\n",
       "7     1330469\n",
       "14    1235285\n",
       "11    1125482\n",
       "3      928342\n",
       "9      849002\n",
       "5      514224\n",
       "13     299653\n",
       "2      225554\n",
       "10     224855\n",
       "8      205784\n",
       "6      123996\n",
       "Name: crime_type, dtype: int64"
      ]
     },
     "execution_count": 25,
     "metadata": {},
     "output_type": "execute_result"
    }
   ],
   "source": [
    "#Checking values for amended crime_type\n",
    "df_crime['crime_type'].value_counts(dropna = False)"
   ]
  },
  {
   "cell_type": "code",
   "execution_count": 26,
   "id": "811ea0bb",
   "metadata": {},
   "outputs": [],
   "source": [
    "#Adjusting data types\n",
    "df_crime['outcome_cat'] = df_crime['outcome_cat'].astype('float16')\n",
    "df_crime['crime_type'] = df_crime['crime_type'].astype('int8')"
   ]
  },
  {
   "cell_type": "code",
   "execution_count": 27,
   "id": "60c0372b",
   "metadata": {},
   "outputs": [
    {
     "data": {
      "text/html": [
       "<div>\n",
       "<style scoped>\n",
       "    .dataframe tbody tr th:only-of-type {\n",
       "        vertical-align: middle;\n",
       "    }\n",
       "\n",
       "    .dataframe tbody tr th {\n",
       "        vertical-align: top;\n",
       "    }\n",
       "\n",
       "    .dataframe thead th {\n",
       "        text-align: right;\n",
       "    }\n",
       "</style>\n",
       "<table border=\"1\" class=\"dataframe\">\n",
       "  <thead>\n",
       "    <tr style=\"text-align: right;\">\n",
       "      <th></th>\n",
       "      <th>Unnamed: 0</th>\n",
       "      <th>id</th>\n",
       "      <th>date</th>\n",
       "      <th>reported</th>\n",
       "      <th>crime_area</th>\n",
       "      <th>Longitude</th>\n",
       "      <th>Latitude</th>\n",
       "      <th>Location</th>\n",
       "      <th>lsoa_code</th>\n",
       "      <th>lsoa_name</th>\n",
       "      <th>crime_type</th>\n",
       "      <th>outcome_cat</th>\n",
       "      <th>year</th>\n",
       "      <th>month</th>\n",
       "    </tr>\n",
       "  </thead>\n",
       "  <tbody>\n",
       "    <tr>\n",
       "      <th>0</th>\n",
       "      <td>0</td>\n",
       "      <td>0</td>\n",
       "      <td>2020-01</td>\n",
       "      <td>West Yorkshire Police</td>\n",
       "      <td>West Yorkshire Police</td>\n",
       "      <td>-1.570572</td>\n",
       "      <td>53.607792</td>\n",
       "      <td>On or near Park/Open Space</td>\n",
       "      <td>E01007418</td>\n",
       "      <td>Barnsley 016A</td>\n",
       "      <td>14</td>\n",
       "      <td>24.0</td>\n",
       "      <td>2020</td>\n",
       "      <td>1</td>\n",
       "    </tr>\n",
       "    <tr>\n",
       "      <th>1</th>\n",
       "      <td>1</td>\n",
       "      <td>1</td>\n",
       "      <td>2020-01</td>\n",
       "      <td>West Yorkshire Police</td>\n",
       "      <td>West Yorkshire Police</td>\n",
       "      <td>-1.670108</td>\n",
       "      <td>53.553631</td>\n",
       "      <td>On or near Huddersfield Road</td>\n",
       "      <td>E01007426</td>\n",
       "      <td>Barnsley 027D</td>\n",
       "      <td>8</td>\n",
       "      <td>10.0</td>\n",
       "      <td>2020</td>\n",
       "      <td>1</td>\n",
       "    </tr>\n",
       "    <tr>\n",
       "      <th>2</th>\n",
       "      <td>2</td>\n",
       "      <td>2</td>\n",
       "      <td>2020-01</td>\n",
       "      <td>West Yorkshire Police</td>\n",
       "      <td>West Yorkshire Police</td>\n",
       "      <td>-1.879031</td>\n",
       "      <td>53.943806</td>\n",
       "      <td>On or near Cross End Fold</td>\n",
       "      <td>E01010646</td>\n",
       "      <td>Bradford 001A</td>\n",
       "      <td>2</td>\n",
       "      <td>10.0</td>\n",
       "      <td>2020</td>\n",
       "      <td>1</td>\n",
       "    </tr>\n",
       "    <tr>\n",
       "      <th>3</th>\n",
       "      <td>3</td>\n",
       "      <td>3</td>\n",
       "      <td>2020-01</td>\n",
       "      <td>West Yorkshire Police</td>\n",
       "      <td>West Yorkshire Police</td>\n",
       "      <td>-1.882746</td>\n",
       "      <td>53.933807</td>\n",
       "      <td>On or near Cocking Lane</td>\n",
       "      <td>E01010646</td>\n",
       "      <td>Bradford 001A</td>\n",
       "      <td>3</td>\n",
       "      <td>10.0</td>\n",
       "      <td>2020</td>\n",
       "      <td>1</td>\n",
       "    </tr>\n",
       "    <tr>\n",
       "      <th>4</th>\n",
       "      <td>4</td>\n",
       "      <td>4</td>\n",
       "      <td>2020-01</td>\n",
       "      <td>West Yorkshire Police</td>\n",
       "      <td>West Yorkshire Police</td>\n",
       "      <td>-1.881467</td>\n",
       "      <td>53.944511</td>\n",
       "      <td>On or near Kilners Croft</td>\n",
       "      <td>E01010646</td>\n",
       "      <td>Bradford 001A</td>\n",
       "      <td>4</td>\n",
       "      <td>10.0</td>\n",
       "      <td>2020</td>\n",
       "      <td>1</td>\n",
       "    </tr>\n",
       "  </tbody>\n",
       "</table>\n",
       "</div>"
      ],
      "text/plain": [
       "   Unnamed: 0  id     date               reported             crime_area  \\\n",
       "0           0   0  2020-01  West Yorkshire Police  West Yorkshire Police   \n",
       "1           1   1  2020-01  West Yorkshire Police  West Yorkshire Police   \n",
       "2           2   2  2020-01  West Yorkshire Police  West Yorkshire Police   \n",
       "3           3   3  2020-01  West Yorkshire Police  West Yorkshire Police   \n",
       "4           4   4  2020-01  West Yorkshire Police  West Yorkshire Police   \n",
       "\n",
       "   Longitude   Latitude                      Location  lsoa_code  \\\n",
       "0  -1.570572  53.607792    On or near Park/Open Space  E01007418   \n",
       "1  -1.670108  53.553631  On or near Huddersfield Road  E01007426   \n",
       "2  -1.879031  53.943806     On or near Cross End Fold  E01010646   \n",
       "3  -1.882746  53.933807       On or near Cocking Lane  E01010646   \n",
       "4  -1.881467  53.944511      On or near Kilners Croft  E01010646   \n",
       "\n",
       "       lsoa_name  crime_type  outcome_cat  year  month  \n",
       "0  Barnsley 016A          14         24.0  2020      1  \n",
       "1  Barnsley 027D           8         10.0  2020      1  \n",
       "2  Bradford 001A           2         10.0  2020      1  \n",
       "3  Bradford 001A           3         10.0  2020      1  \n",
       "4  Bradford 001A           4         10.0  2020      1  "
      ]
     },
     "execution_count": 27,
     "metadata": {},
     "output_type": "execute_result"
    }
   ],
   "source": [
    "df_crime.head()"
   ]
  },
  {
   "cell_type": "code",
   "execution_count": 28,
   "id": "a40a78b0",
   "metadata": {},
   "outputs": [
    {
     "name": "stdout",
     "output_type": "stream",
     "text": [
      "<class 'pandas.core.frame.DataFrame'>\n",
      "RangeIndex: 18362528 entries, 0 to 18362527\n",
      "Data columns (total 14 columns):\n",
      " #   Column       Dtype  \n",
      "---  ------       -----  \n",
      " 0   Unnamed: 0   int64  \n",
      " 1   id           int32  \n",
      " 2   date         object \n",
      " 3   reported     object \n",
      " 4   crime_area   object \n",
      " 5   Longitude    float32\n",
      " 6   Latitude     float32\n",
      " 7   Location     object \n",
      " 8   lsoa_code    object \n",
      " 9   lsoa_name    object \n",
      " 10  crime_type   int8   \n",
      " 11  outcome_cat  float16\n",
      " 12  year         int16  \n",
      " 13  month        int8   \n",
      "dtypes: float16(1), float32(2), int16(1), int32(1), int64(1), int8(2), object(6)\n",
      "memory usage: 1.3+ GB\n"
     ]
    }
   ],
   "source": [
    "df_crime.info()"
   ]
  },
  {
   "cell_type": "code",
   "execution_count": 29,
   "id": "7a497e4c",
   "metadata": {},
   "outputs": [],
   "source": [
    "#changing reported\n",
    "df_crime['reported'] = df_crime['reported'].replace('Avon and Somerset Constabulary', '1')\n",
    "df_crime['reported'] = df_crime['reported'].replace('Bedfordshire Police', '2')\n",
    "df_crime['reported'] = df_crime['reported'].replace('Cambridgeshire Constabulary', '3')\n",
    "df_crime['reported'] = df_crime['reported'].replace('Cheshire Constabulary', '4')\n",
    "df_crime['reported'] = df_crime['reported'].replace('Cleveland Police', '5')\n",
    "df_crime['reported'] = df_crime['reported'].replace('Cumbria Constabulary', '6')\n",
    "df_crime['reported'] = df_crime['reported'].replace('Derbyshire Constabulary', '7')\n",
    "df_crime['reported'] = df_crime['reported'].replace('Devon & Cornwall Police', '8')\n",
    "df_crime['reported'] = df_crime['reported'].replace('Dorset Police', '9')\n",
    "df_crime['reported'] = df_crime['reported'].replace('Durham Constabulary', '10')\n",
    "df_crime['reported'] = df_crime['reported'].replace('Essex Police', '11')\n",
    "df_crime['reported'] = df_crime['reported'].replace('Gloucestershire Constabulary', '12')\n",
    "df_crime['reported'] = df_crime['reported'].replace('Greater Manchester Police', '13')\n",
    "df_crime['reported'] = df_crime['reported'].replace('Hampshire Constabulary', '14')\n",
    "df_crime['reported'] = df_crime['reported'].replace('Hertfordshire Constabulary', '15')\n",
    "df_crime['reported'] = df_crime['reported'].replace('Humberside Police', '16')\n",
    "df_crime['reported'] = df_crime['reported'].replace('Kent Police', '17')\n",
    "df_crime['reported'] = df_crime['reported'].replace('Lancashire Constabulary', '18')\n",
    "df_crime['reported'] = df_crime['reported'].replace('Leicestershire Police', '19')\n",
    "df_crime['reported'] = df_crime['reported'].replace('Lincolnshire Police', '20')\n",
    "df_crime['reported'] = df_crime['reported'].replace('Merseyside Police', '21')\n",
    "df_crime['reported'] = df_crime['reported'].replace('Metropolitan Police Service', '22')\n",
    "df_crime['reported'] = df_crime['reported'].replace('Norfolk Constabulary', '23')\n",
    "df_crime['reported'] = df_crime['reported'].replace('Northamptonshire Police', '24')\n",
    "df_crime['reported'] = df_crime['reported'].replace('Northumbria Police', '25')\n",
    "df_crime['reported'] = df_crime['reported'].replace('North Yorkshire Police', '26')\n",
    "df_crime['reported'] = df_crime['reported'].replace('Nottinghamshire Police', '27')\n",
    "df_crime['reported'] = df_crime['reported'].replace('South Yorkshire Police', '28')\n",
    "df_crime['reported'] = df_crime['reported'].replace('Staffordshire Police', '29')\n",
    "df_crime['reported'] = df_crime['reported'].replace('Suffolk Constabulary', '30')\n",
    "df_crime['reported'] = df_crime['reported'].replace('Surrey Police', '31')\n",
    "df_crime['reported'] = df_crime['reported'].replace('Sussex Police', '32')\n",
    "df_crime['reported'] = df_crime['reported'].replace('Thames Valley Police', '33')\n",
    "df_crime['reported'] = df_crime['reported'].replace('Warwickshire Police', '34')\n",
    "df_crime['reported'] = df_crime['reported'].replace('West Mercia Police', '35')\n",
    "df_crime['reported'] = df_crime['reported'].replace('West Midlands Police', '36')\n",
    "df_crime['reported'] = df_crime['reported'].replace('West Yorkshire Police', '37')\n",
    "df_crime['reported'] = df_crime['reported'].replace('Wiltshire Police', '38')\n",
    "df_crime['reported'] = df_crime['reported'].replace('City of London Police', '39')\n",
    "df_crime['reported'] = df_crime['reported'].replace('Dyfed-Powys Police', '40')\n",
    "df_crime['reported'] = df_crime['reported'].replace('Gwent Police', '41')\n",
    "df_crime['reported'] = df_crime['reported'].replace('North Wales Police', '42')\n",
    "df_crime['reported'] = df_crime['reported'].replace('South Wales Police', '43')"
   ]
  },
  {
   "cell_type": "code",
   "execution_count": 30,
   "id": "881f176c",
   "metadata": {},
   "outputs": [
    {
     "data": {
      "text/plain": [
       "22    3371292\n",
       "37     980503\n",
       "36     785195\n",
       "18     647491\n",
       "17     642310\n",
       "11     625946\n",
       "33     597055\n",
       "25     592354\n",
       "14     543272\n",
       "28     526495\n",
       "21     515578\n",
       "1      502791\n",
       "32     473201\n",
       "43     438326\n",
       "27     411912\n",
       "8      402809\n",
       "7      347457\n",
       "35     324826\n",
       "15     321437\n",
       "29     314349\n",
       "4      313930\n",
       "16     309121\n",
       "19     301618\n",
       "31     292186\n",
       "5      292142\n",
       "13     289150\n",
       "3      245127\n",
       "24     244725\n",
       "10     238367\n",
       "23     234294\n",
       "9      222867\n",
       "42     214250\n",
       "26     214234\n",
       "20     212153\n",
       "2      195851\n",
       "12     188879\n",
       "41     188470\n",
       "30     185791\n",
       "38     168061\n",
       "34     161815\n",
       "6      132691\n",
       "40     129651\n",
       "39      22556\n",
       "Name: reported, dtype: int64"
      ]
     },
     "execution_count": 30,
     "metadata": {},
     "output_type": "execute_result"
    }
   ],
   "source": [
    "#Checking values for reported\n",
    "df_crime['reported'].value_counts(dropna = False)"
   ]
  },
  {
   "cell_type": "code",
   "execution_count": 31,
   "id": "b94a67fe",
   "metadata": {},
   "outputs": [],
   "source": [
    "#Adjusting data types\n",
    "df_crime['reported'] = df_crime['reported'].astype('int8')"
   ]
  },
  {
   "cell_type": "code",
   "execution_count": 32,
   "id": "583add17",
   "metadata": {},
   "outputs": [
    {
     "name": "stdout",
     "output_type": "stream",
     "text": [
      "<class 'pandas.core.frame.DataFrame'>\n",
      "RangeIndex: 18362528 entries, 0 to 18362527\n",
      "Data columns (total 14 columns):\n",
      " #   Column       Dtype  \n",
      "---  ------       -----  \n",
      " 0   Unnamed: 0   int64  \n",
      " 1   id           int32  \n",
      " 2   date         object \n",
      " 3   reported     int8   \n",
      " 4   crime_area   object \n",
      " 5   Longitude    float32\n",
      " 6   Latitude     float32\n",
      " 7   Location     object \n",
      " 8   lsoa_code    object \n",
      " 9   lsoa_name    object \n",
      " 10  crime_type   int8   \n",
      " 11  outcome_cat  float16\n",
      " 12  year         int16  \n",
      " 13  month        int8   \n",
      "dtypes: float16(1), float32(2), int16(1), int32(1), int64(1), int8(3), object(5)\n",
      "memory usage: 1.1+ GB\n"
     ]
    }
   ],
   "source": [
    "df_crime.info()"
   ]
  },
  {
   "cell_type": "code",
   "execution_count": 33,
   "id": "0d589e73",
   "metadata": {},
   "outputs": [
    {
     "data": {
      "text/html": [
       "<div>\n",
       "<style scoped>\n",
       "    .dataframe tbody tr th:only-of-type {\n",
       "        vertical-align: middle;\n",
       "    }\n",
       "\n",
       "    .dataframe tbody tr th {\n",
       "        vertical-align: top;\n",
       "    }\n",
       "\n",
       "    .dataframe thead th {\n",
       "        text-align: right;\n",
       "    }\n",
       "</style>\n",
       "<table border=\"1\" class=\"dataframe\">\n",
       "  <thead>\n",
       "    <tr style=\"text-align: right;\">\n",
       "      <th></th>\n",
       "      <th>Unnamed: 0</th>\n",
       "      <th>id</th>\n",
       "      <th>date</th>\n",
       "      <th>reported</th>\n",
       "      <th>crime_area</th>\n",
       "      <th>Longitude</th>\n",
       "      <th>Latitude</th>\n",
       "      <th>Location</th>\n",
       "      <th>lsoa_code</th>\n",
       "      <th>lsoa_name</th>\n",
       "      <th>crime_type</th>\n",
       "      <th>outcome_cat</th>\n",
       "      <th>year</th>\n",
       "      <th>month</th>\n",
       "    </tr>\n",
       "  </thead>\n",
       "  <tbody>\n",
       "    <tr>\n",
       "      <th>0</th>\n",
       "      <td>0</td>\n",
       "      <td>0</td>\n",
       "      <td>2020-01</td>\n",
       "      <td>37</td>\n",
       "      <td>West Yorkshire Police</td>\n",
       "      <td>-1.570572</td>\n",
       "      <td>53.607792</td>\n",
       "      <td>On or near Park/Open Space</td>\n",
       "      <td>E01007418</td>\n",
       "      <td>Barnsley 016A</td>\n",
       "      <td>14</td>\n",
       "      <td>24.0</td>\n",
       "      <td>2020</td>\n",
       "      <td>1</td>\n",
       "    </tr>\n",
       "    <tr>\n",
       "      <th>1</th>\n",
       "      <td>1</td>\n",
       "      <td>1</td>\n",
       "      <td>2020-01</td>\n",
       "      <td>37</td>\n",
       "      <td>West Yorkshire Police</td>\n",
       "      <td>-1.670108</td>\n",
       "      <td>53.553631</td>\n",
       "      <td>On or near Huddersfield Road</td>\n",
       "      <td>E01007426</td>\n",
       "      <td>Barnsley 027D</td>\n",
       "      <td>8</td>\n",
       "      <td>10.0</td>\n",
       "      <td>2020</td>\n",
       "      <td>1</td>\n",
       "    </tr>\n",
       "    <tr>\n",
       "      <th>2</th>\n",
       "      <td>2</td>\n",
       "      <td>2</td>\n",
       "      <td>2020-01</td>\n",
       "      <td>37</td>\n",
       "      <td>West Yorkshire Police</td>\n",
       "      <td>-1.879031</td>\n",
       "      <td>53.943806</td>\n",
       "      <td>On or near Cross End Fold</td>\n",
       "      <td>E01010646</td>\n",
       "      <td>Bradford 001A</td>\n",
       "      <td>2</td>\n",
       "      <td>10.0</td>\n",
       "      <td>2020</td>\n",
       "      <td>1</td>\n",
       "    </tr>\n",
       "    <tr>\n",
       "      <th>3</th>\n",
       "      <td>3</td>\n",
       "      <td>3</td>\n",
       "      <td>2020-01</td>\n",
       "      <td>37</td>\n",
       "      <td>West Yorkshire Police</td>\n",
       "      <td>-1.882746</td>\n",
       "      <td>53.933807</td>\n",
       "      <td>On or near Cocking Lane</td>\n",
       "      <td>E01010646</td>\n",
       "      <td>Bradford 001A</td>\n",
       "      <td>3</td>\n",
       "      <td>10.0</td>\n",
       "      <td>2020</td>\n",
       "      <td>1</td>\n",
       "    </tr>\n",
       "    <tr>\n",
       "      <th>4</th>\n",
       "      <td>4</td>\n",
       "      <td>4</td>\n",
       "      <td>2020-01</td>\n",
       "      <td>37</td>\n",
       "      <td>West Yorkshire Police</td>\n",
       "      <td>-1.881467</td>\n",
       "      <td>53.944511</td>\n",
       "      <td>On or near Kilners Croft</td>\n",
       "      <td>E01010646</td>\n",
       "      <td>Bradford 001A</td>\n",
       "      <td>4</td>\n",
       "      <td>10.0</td>\n",
       "      <td>2020</td>\n",
       "      <td>1</td>\n",
       "    </tr>\n",
       "  </tbody>\n",
       "</table>\n",
       "</div>"
      ],
      "text/plain": [
       "   Unnamed: 0  id     date  reported             crime_area  Longitude  \\\n",
       "0           0   0  2020-01        37  West Yorkshire Police  -1.570572   \n",
       "1           1   1  2020-01        37  West Yorkshire Police  -1.670108   \n",
       "2           2   2  2020-01        37  West Yorkshire Police  -1.879031   \n",
       "3           3   3  2020-01        37  West Yorkshire Police  -1.882746   \n",
       "4           4   4  2020-01        37  West Yorkshire Police  -1.881467   \n",
       "\n",
       "    Latitude                      Location  lsoa_code      lsoa_name  \\\n",
       "0  53.607792    On or near Park/Open Space  E01007418  Barnsley 016A   \n",
       "1  53.553631  On or near Huddersfield Road  E01007426  Barnsley 027D   \n",
       "2  53.943806     On or near Cross End Fold  E01010646  Bradford 001A   \n",
       "3  53.933807       On or near Cocking Lane  E01010646  Bradford 001A   \n",
       "4  53.944511      On or near Kilners Croft  E01010646  Bradford 001A   \n",
       "\n",
       "   crime_type  outcome_cat  year  month  \n",
       "0          14         24.0  2020      1  \n",
       "1           8         10.0  2020      1  \n",
       "2           2         10.0  2020      1  \n",
       "3           3         10.0  2020      1  \n",
       "4           4         10.0  2020      1  "
      ]
     },
     "execution_count": 33,
     "metadata": {},
     "output_type": "execute_result"
    }
   ],
   "source": [
    "df_crime.head()"
   ]
  },
  {
   "cell_type": "code",
   "execution_count": 34,
   "id": "c43bea1e",
   "metadata": {},
   "outputs": [],
   "source": [
    "#changing crime_area in df_crime\n",
    "df_crime['crime_area'] = df_crime['crime_area'].replace('Avon and Somerset Constabulary', '1')\n",
    "df_crime['crime_area'] = df_crime['crime_area'].replace('Bedfordshire Police', '2')\n",
    "df_crime['crime_area'] = df_crime['crime_area'].replace('Cambridgeshire Constabulary', '3')\n",
    "df_crime['crime_area'] = df_crime['crime_area'].replace('Cheshire Constabulary', '4')\n",
    "df_crime['crime_area'] = df_crime['crime_area'].replace('Cleveland Police', '5')\n",
    "df_crime['crime_area'] = df_crime['crime_area'].replace('Cumbria Constabulary', '6')\n",
    "df_crime['crime_area'] = df_crime['crime_area'].replace('Derbyshire Constabulary', '7')\n",
    "df_crime['crime_area'] = df_crime['crime_area'].replace('Devon & Cornwall Police', '8')\n",
    "df_crime['crime_area'] = df_crime['crime_area'].replace('Dorset Police', '9')\n",
    "df_crime['crime_area'] = df_crime['crime_area'].replace('Durham Constabulary', '10')\n",
    "df_crime['crime_area'] = df_crime['crime_area'].replace('Essex Police', '11')\n",
    "df_crime['crime_area'] = df_crime['crime_area'].replace('Gloucestershire Constabulary', '12')\n",
    "df_crime['crime_area'] = df_crime['crime_area'].replace('Greater Manchester Police', '13')\n",
    "df_crime['crime_area'] = df_crime['crime_area'].replace('Hampshire Constabulary', '14')\n",
    "df_crime['crime_area'] = df_crime['crime_area'].replace('Hertfordshire Constabulary', '15')\n",
    "df_crime['crime_area'] = df_crime['crime_area'].replace('Humberside Police', '16')\n",
    "df_crime['crime_area'] = df_crime['crime_area'].replace('Kent Police', '17')\n",
    "df_crime['crime_area'] = df_crime['crime_area'].replace('Lancashire Constabulary', '18')\n",
    "df_crime['crime_area'] = df_crime['crime_area'].replace('Leicestershire Police', '19')\n",
    "df_crime['crime_area'] = df_crime['crime_area'].replace('Lincolnshire Police', '20')\n",
    "df_crime['crime_area'] = df_crime['crime_area'].replace('Merseyside Police', '21')\n",
    "df_crime['crime_area'] = df_crime['crime_area'].replace('Metropolitan Police Service', '22')\n",
    "df_crime['crime_area'] = df_crime['crime_area'].replace('Norfolk Constabulary', '23')\n",
    "df_crime['crime_area'] = df_crime['crime_area'].replace('Northamptonshire Police', '24')\n",
    "df_crime['crime_area'] = df_crime['crime_area'].replace('Northumbria Police', '25')\n",
    "df_crime['crime_area'] = df_crime['crime_area'].replace('North Yorkshire Police', '26')\n",
    "df_crime['crime_area'] = df_crime['crime_area'].replace('Nottinghamshire Police', '27')\n",
    "df_crime['crime_area'] = df_crime['crime_area'].replace('South Yorkshire Police', '28')\n",
    "df_crime['crime_area'] = df_crime['crime_area'].replace('Staffordshire Police', '29')\n",
    "df_crime['crime_area'] = df_crime['crime_area'].replace('Suffolk Constabulary', '30')\n",
    "df_crime['crime_area'] = df_crime['crime_area'].replace('Surrey Police', '31')\n",
    "df_crime['crime_area'] = df_crime['crime_area'].replace('Sussex Police', '32')\n",
    "df_crime['crime_area'] = df_crime['crime_area'].replace('Thames Valley Police', '33')\n",
    "df_crime['crime_area'] = df_crime['crime_area'].replace('Warwickshire Police', '34')\n",
    "df_crime['crime_area'] = df_crime['crime_area'].replace('West Mercia Police', '35')\n",
    "df_crime['crime_area'] = df_crime['crime_area'].replace('West Midlands Police', '36')\n",
    "df_crime['crime_area'] = df_crime['crime_area'].replace('West Yorkshire Police', '37')\n",
    "df_crime['crime_area'] = df_crime['crime_area'].replace('Wiltshire Police', '38')\n",
    "df_crime['crime_area'] = df_crime['crime_area'].replace('City of London Police', '39')\n",
    "df_crime['crime_area'] = df_crime['crime_area'].replace('Dyfed-Powys Police', '40')\n",
    "df_crime['crime_area'] = df_crime['crime_area'].replace('Gwent Police', '41')\n",
    "df_crime['crime_area'] = df_crime['crime_area'].replace('North Wales Police', '42')\n",
    "df_crime['crime_area'] = df_crime['crime_area'].replace('South Wales Police', '43')"
   ]
  },
  {
   "cell_type": "code",
   "execution_count": 35,
   "id": "ff88ca6a",
   "metadata": {},
   "outputs": [
    {
     "data": {
      "text/plain": [
       "22    3371292\n",
       "37     980503\n",
       "36     785195\n",
       "18     647491\n",
       "17     642310\n",
       "11     625946\n",
       "33     597055\n",
       "25     592354\n",
       "14     543272\n",
       "28     526495\n",
       "21     515578\n",
       "1      502791\n",
       "32     473201\n",
       "43     438326\n",
       "27     411912\n",
       "8      402809\n",
       "7      347457\n",
       "35     324826\n",
       "15     321437\n",
       "29     314349\n",
       "4      313930\n",
       "16     309121\n",
       "19     301618\n",
       "31     292186\n",
       "5      292142\n",
       "13     289150\n",
       "3      245127\n",
       "24     244725\n",
       "10     238367\n",
       "23     234294\n",
       "9      222867\n",
       "42     214250\n",
       "26     214234\n",
       "20     212153\n",
       "2      195851\n",
       "12     188879\n",
       "41     188470\n",
       "30     185791\n",
       "38     168061\n",
       "34     161815\n",
       "6      132691\n",
       "40     129651\n",
       "39      22556\n",
       "Name: crime_area, dtype: int64"
      ]
     },
     "execution_count": 35,
     "metadata": {},
     "output_type": "execute_result"
    }
   ],
   "source": [
    "#Checking values for crime_area\n",
    "df_crime['crime_area'].value_counts(dropna = False)"
   ]
  },
  {
   "cell_type": "code",
   "execution_count": 36,
   "id": "37497621",
   "metadata": {},
   "outputs": [],
   "source": [
    "#Adjusting data types\n",
    "df_crime['crime_area'] = df_crime['crime_area'].astype('int8')"
   ]
  },
  {
   "cell_type": "code",
   "execution_count": 37,
   "id": "96728b2d",
   "metadata": {},
   "outputs": [
    {
     "name": "stdout",
     "output_type": "stream",
     "text": [
      "<class 'pandas.core.frame.DataFrame'>\n",
      "RangeIndex: 18362528 entries, 0 to 18362527\n",
      "Data columns (total 14 columns):\n",
      " #   Column       Dtype  \n",
      "---  ------       -----  \n",
      " 0   Unnamed: 0   int64  \n",
      " 1   id           int32  \n",
      " 2   date         object \n",
      " 3   reported     int8   \n",
      " 4   crime_area   int8   \n",
      " 5   Longitude    float32\n",
      " 6   Latitude     float32\n",
      " 7   Location     object \n",
      " 8   lsoa_code    object \n",
      " 9   lsoa_name    object \n",
      " 10  crime_type   int8   \n",
      " 11  outcome_cat  float16\n",
      " 12  year         int16  \n",
      " 13  month        int8   \n",
      "dtypes: float16(1), float32(2), int16(1), int32(1), int64(1), int8(4), object(4)\n",
      "memory usage: 1.0+ GB\n"
     ]
    }
   ],
   "source": [
    "df_crime.info()"
   ]
  },
  {
   "cell_type": "code",
   "execution_count": 38,
   "id": "09325ae8",
   "metadata": {},
   "outputs": [
    {
     "data": {
      "text/html": [
       "<div>\n",
       "<style scoped>\n",
       "    .dataframe tbody tr th:only-of-type {\n",
       "        vertical-align: middle;\n",
       "    }\n",
       "\n",
       "    .dataframe tbody tr th {\n",
       "        vertical-align: top;\n",
       "    }\n",
       "\n",
       "    .dataframe thead th {\n",
       "        text-align: right;\n",
       "    }\n",
       "</style>\n",
       "<table border=\"1\" class=\"dataframe\">\n",
       "  <thead>\n",
       "    <tr style=\"text-align: right;\">\n",
       "      <th></th>\n",
       "      <th>Unnamed: 0</th>\n",
       "      <th>id</th>\n",
       "      <th>date</th>\n",
       "      <th>reported</th>\n",
       "      <th>crime_area</th>\n",
       "      <th>Longitude</th>\n",
       "      <th>Latitude</th>\n",
       "      <th>Location</th>\n",
       "      <th>lsoa_code</th>\n",
       "      <th>lsoa_name</th>\n",
       "      <th>crime_type</th>\n",
       "      <th>outcome_cat</th>\n",
       "      <th>year</th>\n",
       "      <th>month</th>\n",
       "    </tr>\n",
       "  </thead>\n",
       "  <tbody>\n",
       "    <tr>\n",
       "      <th>0</th>\n",
       "      <td>0</td>\n",
       "      <td>0</td>\n",
       "      <td>2020-01</td>\n",
       "      <td>37</td>\n",
       "      <td>37</td>\n",
       "      <td>-1.570572</td>\n",
       "      <td>53.607792</td>\n",
       "      <td>On or near Park/Open Space</td>\n",
       "      <td>E01007418</td>\n",
       "      <td>Barnsley 016A</td>\n",
       "      <td>14</td>\n",
       "      <td>24.0</td>\n",
       "      <td>2020</td>\n",
       "      <td>1</td>\n",
       "    </tr>\n",
       "    <tr>\n",
       "      <th>1</th>\n",
       "      <td>1</td>\n",
       "      <td>1</td>\n",
       "      <td>2020-01</td>\n",
       "      <td>37</td>\n",
       "      <td>37</td>\n",
       "      <td>-1.670108</td>\n",
       "      <td>53.553631</td>\n",
       "      <td>On or near Huddersfield Road</td>\n",
       "      <td>E01007426</td>\n",
       "      <td>Barnsley 027D</td>\n",
       "      <td>8</td>\n",
       "      <td>10.0</td>\n",
       "      <td>2020</td>\n",
       "      <td>1</td>\n",
       "    </tr>\n",
       "    <tr>\n",
       "      <th>2</th>\n",
       "      <td>2</td>\n",
       "      <td>2</td>\n",
       "      <td>2020-01</td>\n",
       "      <td>37</td>\n",
       "      <td>37</td>\n",
       "      <td>-1.879031</td>\n",
       "      <td>53.943806</td>\n",
       "      <td>On or near Cross End Fold</td>\n",
       "      <td>E01010646</td>\n",
       "      <td>Bradford 001A</td>\n",
       "      <td>2</td>\n",
       "      <td>10.0</td>\n",
       "      <td>2020</td>\n",
       "      <td>1</td>\n",
       "    </tr>\n",
       "    <tr>\n",
       "      <th>3</th>\n",
       "      <td>3</td>\n",
       "      <td>3</td>\n",
       "      <td>2020-01</td>\n",
       "      <td>37</td>\n",
       "      <td>37</td>\n",
       "      <td>-1.882746</td>\n",
       "      <td>53.933807</td>\n",
       "      <td>On or near Cocking Lane</td>\n",
       "      <td>E01010646</td>\n",
       "      <td>Bradford 001A</td>\n",
       "      <td>3</td>\n",
       "      <td>10.0</td>\n",
       "      <td>2020</td>\n",
       "      <td>1</td>\n",
       "    </tr>\n",
       "    <tr>\n",
       "      <th>4</th>\n",
       "      <td>4</td>\n",
       "      <td>4</td>\n",
       "      <td>2020-01</td>\n",
       "      <td>37</td>\n",
       "      <td>37</td>\n",
       "      <td>-1.881467</td>\n",
       "      <td>53.944511</td>\n",
       "      <td>On or near Kilners Croft</td>\n",
       "      <td>E01010646</td>\n",
       "      <td>Bradford 001A</td>\n",
       "      <td>4</td>\n",
       "      <td>10.0</td>\n",
       "      <td>2020</td>\n",
       "      <td>1</td>\n",
       "    </tr>\n",
       "  </tbody>\n",
       "</table>\n",
       "</div>"
      ],
      "text/plain": [
       "   Unnamed: 0  id     date  reported  crime_area  Longitude   Latitude  \\\n",
       "0           0   0  2020-01        37          37  -1.570572  53.607792   \n",
       "1           1   1  2020-01        37          37  -1.670108  53.553631   \n",
       "2           2   2  2020-01        37          37  -1.879031  53.943806   \n",
       "3           3   3  2020-01        37          37  -1.882746  53.933807   \n",
       "4           4   4  2020-01        37          37  -1.881467  53.944511   \n",
       "\n",
       "                       Location  lsoa_code      lsoa_name  crime_type  \\\n",
       "0    On or near Park/Open Space  E01007418  Barnsley 016A          14   \n",
       "1  On or near Huddersfield Road  E01007426  Barnsley 027D           8   \n",
       "2     On or near Cross End Fold  E01010646  Bradford 001A           2   \n",
       "3       On or near Cocking Lane  E01010646  Bradford 001A           3   \n",
       "4      On or near Kilners Croft  E01010646  Bradford 001A           4   \n",
       "\n",
       "   outcome_cat  year  month  \n",
       "0         24.0  2020      1  \n",
       "1         10.0  2020      1  \n",
       "2         10.0  2020      1  \n",
       "3         10.0  2020      1  \n",
       "4         10.0  2020      1  "
      ]
     },
     "execution_count": 38,
     "metadata": {},
     "output_type": "execute_result"
    }
   ],
   "source": [
    "df_crime.head()"
   ]
  },
  {
   "cell_type": "code",
   "execution_count": 39,
   "id": "5707923c",
   "metadata": {},
   "outputs": [],
   "source": [
    "#Drop Location \n",
    "df_crime=df_crime.drop(columns = ['Location'])"
   ]
  },
  {
   "cell_type": "code",
   "execution_count": 40,
   "id": "160edcea",
   "metadata": {},
   "outputs": [
    {
     "name": "stdout",
     "output_type": "stream",
     "text": [
      "<class 'pandas.core.frame.DataFrame'>\n",
      "RangeIndex: 18362528 entries, 0 to 18362527\n",
      "Data columns (total 13 columns):\n",
      " #   Column       Dtype  \n",
      "---  ------       -----  \n",
      " 0   Unnamed: 0   int64  \n",
      " 1   id           int32  \n",
      " 2   date         object \n",
      " 3   reported     int8   \n",
      " 4   crime_area   int8   \n",
      " 5   Longitude    float32\n",
      " 6   Latitude     float32\n",
      " 7   lsoa_code    object \n",
      " 8   lsoa_name    object \n",
      " 9   crime_type   int8   \n",
      " 10  outcome_cat  float16\n",
      " 11  year         int16  \n",
      " 12  month        int8   \n",
      "dtypes: float16(1), float32(2), int16(1), int32(1), int64(1), int8(4), object(3)\n",
      "memory usage: 910.6+ MB\n"
     ]
    }
   ],
   "source": [
    "df_crime.info()"
   ]
  },
  {
   "cell_type": "code",
   "execution_count": 41,
   "id": "9e158a42",
   "metadata": {},
   "outputs": [],
   "source": [
    "#changing crime_area in df_police\n",
    "df_police['crime_area'] = df_police['crime_area'].replace('Avon and Somerset Constabulary', '1')\n",
    "df_police['crime_area'] = df_police['crime_area'].replace('Bedfordshire Police', '2')\n",
    "df_police['crime_area'] = df_police['crime_area'].replace('Cambridgeshire Constabulary', '3')\n",
    "df_police['crime_area'] = df_police['crime_area'].replace('Cheshire Constabulary', '4')\n",
    "df_police['crime_area'] = df_police['crime_area'].replace('Cleveland Police', '5')\n",
    "df_police['crime_area'] = df_police['crime_area'].replace('Cumbria Constabulary', '6')\n",
    "df_police['crime_area'] = df_police['crime_area'].replace('Derbyshire Constabulary', '7')\n",
    "df_police['crime_area'] = df_police['crime_area'].replace('Devon & Cornwall Police', '8')\n",
    "df_police['crime_area'] = df_police['crime_area'].replace('Dorset Police', '9')\n",
    "df_police['crime_area'] = df_police['crime_area'].replace('Durham Constabulary', '10')\n",
    "df_police['crime_area'] = df_police['crime_area'].replace('Essex Police', '11')\n",
    "df_police['crime_area'] = df_police['crime_area'].replace('Gloucestershire Constabulary', '12')\n",
    "df_police['crime_area'] = df_police['crime_area'].replace('Greater Manchester Police', '13')\n",
    "df_police['crime_area'] = df_police['crime_area'].replace('Hampshire Constabulary', '14')\n",
    "df_police['crime_area'] = df_police['crime_area'].replace('Hertfordshire Constabulary', '15')\n",
    "df_police['crime_area'] = df_police['crime_area'].replace('Humberside Police', '16')\n",
    "df_police['crime_area'] = df_police['crime_area'].replace('Kent Police', '17')\n",
    "df_police['crime_area'] = df_police['crime_area'].replace('Lancashire Constabulary', '18')\n",
    "df_police['crime_area'] = df_police['crime_area'].replace('Leicestershire Police', '19')\n",
    "df_police['crime_area'] = df_police['crime_area'].replace('Lincolnshire Police', '20')\n",
    "df_police['crime_area'] = df_police['crime_area'].replace('Merseyside Police', '21')\n",
    "df_police['crime_area'] = df_police['crime_area'].replace('Metropolitan Police Service', '22')\n",
    "df_police['crime_area'] = df_police['crime_area'].replace('Norfolk Constabulary', '23')\n",
    "df_police['crime_area'] = df_police['crime_area'].replace('Northamptonshire Police', '24')\n",
    "df_police['crime_area'] = df_police['crime_area'].replace('Northumbria Police', '25')\n",
    "df_police['crime_area'] = df_police['crime_area'].replace('North Yorkshire Police', '26')\n",
    "df_police['crime_area'] = df_police['crime_area'].replace('Nottinghamshire Police', '27')\n",
    "df_police['crime_area'] = df_police['crime_area'].replace('South Yorkshire Police', '28')\n",
    "df_police['crime_area'] = df_police['crime_area'].replace('Staffordshire Police', '29')\n",
    "df_police['crime_area'] = df_police['crime_area'].replace('Suffolk Constabulary', '30')\n",
    "df_police['crime_area'] = df_police['crime_area'].replace('Surrey Police', '31')\n",
    "df_police['crime_area'] = df_police['crime_area'].replace('Sussex Police', '32')\n",
    "df_police['crime_area'] = df_police['crime_area'].replace('Thames Valley Police', '33')\n",
    "df_police['crime_area'] = df_police['crime_area'].replace('Warwickshire Police', '34')\n",
    "df_police['crime_area'] = df_police['crime_area'].replace('West Mercia Police', '35')\n",
    "df_police['crime_area'] = df_police['crime_area'].replace('West Midlands Police', '36')\n",
    "df_police['crime_area'] = df_police['crime_area'].replace('West Yorkshire Police', '37')\n",
    "df_police['crime_area'] = df_police['crime_area'].replace('Wiltshire Police', '38')\n",
    "df_police['crime_area'] = df_police['crime_area'].replace('Dyfed-Powys Police', '40')\n",
    "df_police['crime_area'] = df_police['crime_area'].replace('Gwent Police', '41')\n",
    "df_police['crime_area'] = df_police['crime_area'].replace('North Wales Police', '42')\n",
    "df_police['crime_area'] = df_police['crime_area'].replace('South Wales Police', '43')"
   ]
  },
  {
   "cell_type": "code",
   "execution_count": 42,
   "id": "539715e6",
   "metadata": {},
   "outputs": [
    {
     "data": {
      "text/plain": [
       "1     4\n",
       "32    4\n",
       "24    4\n",
       "25    4\n",
       "26    4\n",
       "27    4\n",
       "28    4\n",
       "29    4\n",
       "30    4\n",
       "31    4\n",
       "33    4\n",
       "2     4\n",
       "34    4\n",
       "35    4\n",
       "36    4\n",
       "37    4\n",
       "38    4\n",
       "40    4\n",
       "41    4\n",
       "42    4\n",
       "23    4\n",
       "22    4\n",
       "21    4\n",
       "20    4\n",
       "3     4\n",
       "4     4\n",
       "5     4\n",
       "6     4\n",
       "7     4\n",
       "8     4\n",
       "9     4\n",
       "10    4\n",
       "11    4\n",
       "12    4\n",
       "13    4\n",
       "14    4\n",
       "15    4\n",
       "16    4\n",
       "17    4\n",
       "18    4\n",
       "19    4\n",
       "43    4\n",
       "Name: crime_area, dtype: int64"
      ]
     },
     "execution_count": 42,
     "metadata": {},
     "output_type": "execute_result"
    }
   ],
   "source": [
    "df_police['crime_area'].value_counts(dropna = False)"
   ]
  },
  {
   "cell_type": "code",
   "execution_count": 43,
   "id": "1607b7a3",
   "metadata": {},
   "outputs": [],
   "source": [
    "#Adjusting data types\n",
    "df_police['crime_area'] = df_police['crime_area'].astype('int8')\n",
    "df_police['year'] = df_police['year'].astype('int16')"
   ]
  },
  {
   "cell_type": "code",
   "execution_count": 44,
   "id": "3b26c27c",
   "metadata": {},
   "outputs": [],
   "source": [
    "#splitting both sets into 2 by year\n",
    "df_crime1 =  df_crime[df_crime['year']>=2020]\n",
    "df_crime2 =  df_crime[df_crime['year']<=2019]\n",
    "df_police1 =  df_police[df_police['year']>=2020]\n",
    "df_police2 =  df_police[df_police['year']<=2019]"
   ]
  },
  {
   "cell_type": "code",
   "execution_count": 45,
   "id": "8b03fdfd",
   "metadata": {},
   "outputs": [
    {
     "data": {
      "text/plain": [
       "(10469121, 13)"
      ]
     },
     "execution_count": 45,
     "metadata": {},
     "output_type": "execute_result"
    }
   ],
   "source": [
    "df_crime1.shape"
   ]
  },
  {
   "cell_type": "code",
   "execution_count": 46,
   "id": "c5805020",
   "metadata": {},
   "outputs": [
    {
     "data": {
      "text/plain": [
       "(7893407, 13)"
      ]
     },
     "execution_count": 46,
     "metadata": {},
     "output_type": "execute_result"
    }
   ],
   "source": [
    "df_crime2.shape"
   ]
  },
  {
   "cell_type": "code",
   "execution_count": 47,
   "id": "b0334196",
   "metadata": {},
   "outputs": [
    {
     "name": "stdout",
     "output_type": "stream",
     "text": [
      "<class 'pandas.core.frame.DataFrame'>\n",
      "Int64Index: 10469121 entries, 0 to 17867850\n",
      "Data columns (total 13 columns):\n",
      " #   Column       Dtype  \n",
      "---  ------       -----  \n",
      " 0   Unnamed: 0   int64  \n",
      " 1   id           int32  \n",
      " 2   date         object \n",
      " 3   reported     int8   \n",
      " 4   crime_area   int8   \n",
      " 5   Longitude    float32\n",
      " 6   Latitude     float32\n",
      " 7   lsoa_code    object \n",
      " 8   lsoa_name    object \n",
      " 9   crime_type   int8   \n",
      " 10  outcome_cat  float16\n",
      " 11  year         int16  \n",
      " 12  month        int8   \n",
      "dtypes: float16(1), float32(2), int16(1), int32(1), int64(1), int8(4), object(3)\n",
      "memory usage: 599.0+ MB\n"
     ]
    }
   ],
   "source": [
    "df_crime1.info()"
   ]
  },
  {
   "cell_type": "code",
   "execution_count": 48,
   "id": "a092f61c",
   "metadata": {},
   "outputs": [
    {
     "name": "stdout",
     "output_type": "stream",
     "text": [
      "<class 'pandas.core.frame.DataFrame'>\n",
      "Int64Index: 7893407 entries, 3636329 to 18362527\n",
      "Data columns (total 13 columns):\n",
      " #   Column       Dtype  \n",
      "---  ------       -----  \n",
      " 0   Unnamed: 0   int64  \n",
      " 1   id           int32  \n",
      " 2   date         object \n",
      " 3   reported     int8   \n",
      " 4   crime_area   int8   \n",
      " 5   Longitude    float32\n",
      " 6   Latitude     float32\n",
      " 7   lsoa_code    object \n",
      " 8   lsoa_name    object \n",
      " 9   crime_type   int8   \n",
      " 10  outcome_cat  float16\n",
      " 11  year         int16  \n",
      " 12  month        int8   \n",
      "dtypes: float16(1), float32(2), int16(1), int32(1), int64(1), int8(4), object(3)\n",
      "memory usage: 451.7+ MB\n"
     ]
    }
   ],
   "source": [
    "df_crime2.info()"
   ]
  },
  {
   "cell_type": "markdown",
   "id": "a0474211",
   "metadata": {},
   "source": [
    "# 09. Merge"
   ]
  },
  {
   "cell_type": "code",
   "execution_count": 49,
   "id": "4ad3974c",
   "metadata": {},
   "outputs": [],
   "source": [
    "#Merge police and crime1\n",
    "crime_police1 = df_police1.merge(df_crime1, on = ['crime_area','year'], how = 'right', indicator = True)"
   ]
  },
  {
   "cell_type": "code",
   "execution_count": 50,
   "id": "702f1c5e",
   "metadata": {},
   "outputs": [
    {
     "data": {
      "text/plain": [
       "both          10458938\n",
       "right_only       10183\n",
       "left_only            0\n",
       "Name: _merge, dtype: int64"
      ]
     },
     "execution_count": 50,
     "metadata": {},
     "output_type": "execute_result"
    }
   ],
   "source": [
    "#Checking match\n",
    "crime_police1['_merge'].value_counts()"
   ]
  },
  {
   "cell_type": "code",
   "execution_count": 51,
   "id": "aa43647c",
   "metadata": {},
   "outputs": [
    {
     "data": {
      "text/html": [
       "<div>\n",
       "<style scoped>\n",
       "    .dataframe tbody tr th:only-of-type {\n",
       "        vertical-align: middle;\n",
       "    }\n",
       "\n",
       "    .dataframe tbody tr th {\n",
       "        vertical-align: top;\n",
       "    }\n",
       "\n",
       "    .dataframe thead th {\n",
       "        text-align: right;\n",
       "    }\n",
       "</style>\n",
       "<table border=\"1\" class=\"dataframe\">\n",
       "  <thead>\n",
       "    <tr style=\"text-align: right;\">\n",
       "      <th></th>\n",
       "      <th>Staff_area_name</th>\n",
       "      <th>crime_area</th>\n",
       "      <th>Geo_boundries_Data_match</th>\n",
       "      <th>number_residents</th>\n",
       "      <th>number_police</th>\n",
       "      <th>year</th>\n",
       "      <th>police_per_1000</th>\n",
       "      <th>number_spc</th>\n",
       "      <th>Crimes Sept 2020 - August 2021 (12 months)</th>\n",
       "      <th>crimes per 1000 redsident Sept 2020 - August 2021</th>\n",
       "      <th>...</th>\n",
       "      <th>date</th>\n",
       "      <th>reported</th>\n",
       "      <th>Longitude</th>\n",
       "      <th>Latitude</th>\n",
       "      <th>lsoa_code</th>\n",
       "      <th>lsoa_name</th>\n",
       "      <th>crime_type</th>\n",
       "      <th>outcome_cat</th>\n",
       "      <th>month</th>\n",
       "      <th>_merge</th>\n",
       "    </tr>\n",
       "  </thead>\n",
       "  <tbody>\n",
       "    <tr>\n",
       "      <th>0</th>\n",
       "      <td>West Yorkshire</td>\n",
       "      <td>37</td>\n",
       "      <td>E23000010</td>\n",
       "      <td>2332500.0</td>\n",
       "      <td>5342.0</td>\n",
       "      <td>2020</td>\n",
       "      <td>2.3</td>\n",
       "      <td>271.0</td>\n",
       "      <td>NaN</td>\n",
       "      <td>NaN</td>\n",
       "      <td>...</td>\n",
       "      <td>2020-01</td>\n",
       "      <td>37</td>\n",
       "      <td>-1.570572</td>\n",
       "      <td>53.607792</td>\n",
       "      <td>E01007418</td>\n",
       "      <td>Barnsley 016A</td>\n",
       "      <td>14</td>\n",
       "      <td>24.0</td>\n",
       "      <td>1</td>\n",
       "      <td>both</td>\n",
       "    </tr>\n",
       "    <tr>\n",
       "      <th>1</th>\n",
       "      <td>West Yorkshire</td>\n",
       "      <td>37</td>\n",
       "      <td>E23000010</td>\n",
       "      <td>2332500.0</td>\n",
       "      <td>5342.0</td>\n",
       "      <td>2020</td>\n",
       "      <td>2.3</td>\n",
       "      <td>271.0</td>\n",
       "      <td>NaN</td>\n",
       "      <td>NaN</td>\n",
       "      <td>...</td>\n",
       "      <td>2020-01</td>\n",
       "      <td>37</td>\n",
       "      <td>-1.670108</td>\n",
       "      <td>53.553631</td>\n",
       "      <td>E01007426</td>\n",
       "      <td>Barnsley 027D</td>\n",
       "      <td>8</td>\n",
       "      <td>10.0</td>\n",
       "      <td>1</td>\n",
       "      <td>both</td>\n",
       "    </tr>\n",
       "    <tr>\n",
       "      <th>2</th>\n",
       "      <td>West Yorkshire</td>\n",
       "      <td>37</td>\n",
       "      <td>E23000010</td>\n",
       "      <td>2332500.0</td>\n",
       "      <td>5342.0</td>\n",
       "      <td>2020</td>\n",
       "      <td>2.3</td>\n",
       "      <td>271.0</td>\n",
       "      <td>NaN</td>\n",
       "      <td>NaN</td>\n",
       "      <td>...</td>\n",
       "      <td>2020-01</td>\n",
       "      <td>37</td>\n",
       "      <td>-1.879031</td>\n",
       "      <td>53.943806</td>\n",
       "      <td>E01010646</td>\n",
       "      <td>Bradford 001A</td>\n",
       "      <td>2</td>\n",
       "      <td>10.0</td>\n",
       "      <td>1</td>\n",
       "      <td>both</td>\n",
       "    </tr>\n",
       "    <tr>\n",
       "      <th>3</th>\n",
       "      <td>West Yorkshire</td>\n",
       "      <td>37</td>\n",
       "      <td>E23000010</td>\n",
       "      <td>2332500.0</td>\n",
       "      <td>5342.0</td>\n",
       "      <td>2020</td>\n",
       "      <td>2.3</td>\n",
       "      <td>271.0</td>\n",
       "      <td>NaN</td>\n",
       "      <td>NaN</td>\n",
       "      <td>...</td>\n",
       "      <td>2020-01</td>\n",
       "      <td>37</td>\n",
       "      <td>-1.882746</td>\n",
       "      <td>53.933807</td>\n",
       "      <td>E01010646</td>\n",
       "      <td>Bradford 001A</td>\n",
       "      <td>3</td>\n",
       "      <td>10.0</td>\n",
       "      <td>1</td>\n",
       "      <td>both</td>\n",
       "    </tr>\n",
       "    <tr>\n",
       "      <th>4</th>\n",
       "      <td>West Yorkshire</td>\n",
       "      <td>37</td>\n",
       "      <td>E23000010</td>\n",
       "      <td>2332500.0</td>\n",
       "      <td>5342.0</td>\n",
       "      <td>2020</td>\n",
       "      <td>2.3</td>\n",
       "      <td>271.0</td>\n",
       "      <td>NaN</td>\n",
       "      <td>NaN</td>\n",
       "      <td>...</td>\n",
       "      <td>2020-01</td>\n",
       "      <td>37</td>\n",
       "      <td>-1.881467</td>\n",
       "      <td>53.944511</td>\n",
       "      <td>E01010646</td>\n",
       "      <td>Bradford 001A</td>\n",
       "      <td>4</td>\n",
       "      <td>10.0</td>\n",
       "      <td>1</td>\n",
       "      <td>both</td>\n",
       "    </tr>\n",
       "  </tbody>\n",
       "</table>\n",
       "<p>5 rows × 24 columns</p>\n",
       "</div>"
      ],
      "text/plain": [
       "  Staff_area_name  crime_area Geo_boundries_Data_match  number_residents  \\\n",
       "0  West Yorkshire          37                E23000010         2332500.0   \n",
       "1  West Yorkshire          37                E23000010         2332500.0   \n",
       "2  West Yorkshire          37                E23000010         2332500.0   \n",
       "3  West Yorkshire          37                E23000010         2332500.0   \n",
       "4  West Yorkshire          37                E23000010         2332500.0   \n",
       "\n",
       "   number_police  year  police_per_1000  number_spc  \\\n",
       "0         5342.0  2020              2.3       271.0   \n",
       "1         5342.0  2020              2.3       271.0   \n",
       "2         5342.0  2020              2.3       271.0   \n",
       "3         5342.0  2020              2.3       271.0   \n",
       "4         5342.0  2020              2.3       271.0   \n",
       "\n",
       "   Crimes Sept 2020 - August 2021 (12 months)  \\\n",
       "0                                         NaN   \n",
       "1                                         NaN   \n",
       "2                                         NaN   \n",
       "3                                         NaN   \n",
       "4                                         NaN   \n",
       "\n",
       "   crimes per 1000 redsident Sept 2020 - August 2021  ...     date  reported  \\\n",
       "0                                                NaN  ...  2020-01        37   \n",
       "1                                                NaN  ...  2020-01        37   \n",
       "2                                                NaN  ...  2020-01        37   \n",
       "3                                                NaN  ...  2020-01        37   \n",
       "4                                                NaN  ...  2020-01        37   \n",
       "\n",
       "   Longitude   Latitude  lsoa_code      lsoa_name  crime_type  outcome_cat  \\\n",
       "0  -1.570572  53.607792  E01007418  Barnsley 016A          14         24.0   \n",
       "1  -1.670108  53.553631  E01007426  Barnsley 027D           8         10.0   \n",
       "2  -1.879031  53.943806  E01010646  Bradford 001A           2         10.0   \n",
       "3  -1.882746  53.933807  E01010646  Bradford 001A           3         10.0   \n",
       "4  -1.881467  53.944511  E01010646  Bradford 001A           4         10.0   \n",
       "\n",
       "  month _merge  \n",
       "0     1   both  \n",
       "1     1   both  \n",
       "2     1   both  \n",
       "3     1   both  \n",
       "4     1   both  \n",
       "\n",
       "[5 rows x 24 columns]"
      ]
     },
     "execution_count": 51,
     "metadata": {},
     "output_type": "execute_result"
    }
   ],
   "source": [
    "crime_police1.head()"
   ]
  },
  {
   "cell_type": "code",
   "execution_count": 52,
   "id": "5fc20247",
   "metadata": {},
   "outputs": [],
   "source": [
    "#Merge police and crime2\n",
    "crime_police2 = df_police2.merge(df_crime2, on = ['crime_area','year'], how = 'right', indicator = True)"
   ]
  },
  {
   "cell_type": "code",
   "execution_count": 53,
   "id": "3554cb8d",
   "metadata": {},
   "outputs": [
    {
     "data": {
      "text/plain": [
       "both          7881034\n",
       "right_only      12373\n",
       "left_only           0\n",
       "Name: _merge, dtype: int64"
      ]
     },
     "execution_count": 53,
     "metadata": {},
     "output_type": "execute_result"
    }
   ],
   "source": [
    "#Checking match\n",
    "crime_police2['_merge'].value_counts()"
   ]
  },
  {
   "cell_type": "markdown",
   "id": "78d9a653",
   "metadata": {},
   "source": [
    "# 10.1 Export merged data"
   ]
  },
  {
   "cell_type": "code",
   "execution_count": 54,
   "id": "4522d3dc",
   "metadata": {},
   "outputs": [],
   "source": [
    "# Export data to pkl\n",
    "crime_police1.to_pickle(os.path.join(path, 'Data','Prepared Data', 'crime_police1.pkl'))"
   ]
  },
  {
   "cell_type": "code",
   "execution_count": 55,
   "id": "ff62890a",
   "metadata": {},
   "outputs": [],
   "source": [
    "crime_police2.to_pickle(os.path.join(path, 'Data','Prepared Data', 'crime_police2.pkl'))"
   ]
  },
  {
   "cell_type": "code",
   "execution_count": 56,
   "id": "5299f34c",
   "metadata": {},
   "outputs": [],
   "source": [
    "del df_crime"
   ]
  },
  {
   "cell_type": "code",
   "execution_count": 57,
   "id": "8a0136f4",
   "metadata": {},
   "outputs": [],
   "source": [
    "del df_crime1"
   ]
  },
  {
   "cell_type": "code",
   "execution_count": 58,
   "id": "1122cc74",
   "metadata": {},
   "outputs": [],
   "source": [
    "del df_crime2"
   ]
  },
  {
   "cell_type": "markdown",
   "id": "9aa7efc8",
   "metadata": {},
   "source": [
    "# 10.2 Re-load crime_police sets for Concat"
   ]
  },
  {
   "cell_type": "code",
   "execution_count": 59,
   "id": "64b6c4d4",
   "metadata": {},
   "outputs": [],
   "source": [
    "#Concat both parts\n",
    "frames = [crime_police1, crime_police2]\n",
    "crime_police = pd.concat(frames) \n",
    "#crime_police = crime_police1.append(crime_police2)"
   ]
  },
  {
   "cell_type": "code",
   "execution_count": 60,
   "id": "8ffb54ad",
   "metadata": {},
   "outputs": [
    {
     "data": {
      "text/plain": [
       "(18362528, 24)"
      ]
     },
     "execution_count": 60,
     "metadata": {},
     "output_type": "execute_result"
    }
   ],
   "source": [
    "crime_police.shape"
   ]
  },
  {
   "cell_type": "code",
   "execution_count": 61,
   "id": "6ccc0779",
   "metadata": {},
   "outputs": [],
   "source": [
    "crime_police = crime_police.drop(columns=['_merge'])"
   ]
  },
  {
   "cell_type": "markdown",
   "id": "458044dd",
   "metadata": {},
   "source": [
    "# 10. Export concat data"
   ]
  },
  {
   "cell_type": "code",
   "execution_count": 62,
   "id": "998720ca",
   "metadata": {},
   "outputs": [],
   "source": [
    "# Export data to pkl\n",
    "crime_police.to_pickle(os.path.join(path, 'Data','Prepared Data', 'crime_police_combined.pkl'))"
   ]
  },
  {
   "cell_type": "markdown",
   "id": "6bc826dc",
   "metadata": {},
   "source": [
    "# 11. Quality checks"
   ]
  },
  {
   "cell_type": "code",
   "execution_count": 3,
   "id": "d4f55776",
   "metadata": {},
   "outputs": [],
   "source": [
    "crime_police = pd.read_pickle(os.path.join(path, 'Data','Prepared Data', 'crime_police_combined.pkl'))"
   ]
  },
  {
   "cell_type": "code",
   "execution_count": 4,
   "id": "fa3912cd",
   "metadata": {},
   "outputs": [
    {
     "name": "stdout",
     "output_type": "stream",
     "text": [
      "Staff_area_name\n",
      "Geo_boundries_Data_match\n",
      "lsoa_code\n",
      "lsoa_name\n"
     ]
    }
   ],
   "source": [
    "#Find columns with mixed data types\n",
    "for col in crime_police.columns.tolist():\n",
    "  weird = (crime_police[[col]].applymap(type) != crime_police[[col]].iloc[0].apply(type)).any(axis = 1)\n",
    "  if len (crime_police[weird]) > 0:\n",
    "    print (col)"
   ]
  },
  {
   "cell_type": "code",
   "execution_count": 12,
   "id": "6a6e8011",
   "metadata": {},
   "outputs": [
    {
     "data": {
      "text/html": [
       "<div>\n",
       "<style scoped>\n",
       "    .dataframe tbody tr th:only-of-type {\n",
       "        vertical-align: middle;\n",
       "    }\n",
       "\n",
       "    .dataframe tbody tr th {\n",
       "        vertical-align: top;\n",
       "    }\n",
       "\n",
       "    .dataframe thead th {\n",
       "        text-align: right;\n",
       "    }\n",
       "</style>\n",
       "<table border=\"1\" class=\"dataframe\">\n",
       "  <thead>\n",
       "    <tr style=\"text-align: right;\">\n",
       "      <th></th>\n",
       "      <th>Staff_area_name</th>\n",
       "      <th>crime_area</th>\n",
       "      <th>Geo_boundries_Data_match</th>\n",
       "      <th>number_residents</th>\n",
       "      <th>number_police</th>\n",
       "      <th>year</th>\n",
       "      <th>police_per_1000</th>\n",
       "      <th>number_spc</th>\n",
       "      <th>Unnamed: 0</th>\n",
       "      <th>id</th>\n",
       "      <th>date</th>\n",
       "      <th>reported</th>\n",
       "      <th>Longitude</th>\n",
       "      <th>Latitude</th>\n",
       "      <th>lsoa_code</th>\n",
       "      <th>lsoa_name</th>\n",
       "      <th>crime_type</th>\n",
       "      <th>outcome_cat</th>\n",
       "      <th>month</th>\n",
       "    </tr>\n",
       "  </thead>\n",
       "  <tbody>\n",
       "    <tr>\n",
       "      <th>0</th>\n",
       "      <td>West Yorkshire</td>\n",
       "      <td>37</td>\n",
       "      <td>E23000010</td>\n",
       "      <td>2332500.0</td>\n",
       "      <td>5342.0</td>\n",
       "      <td>2020</td>\n",
       "      <td>2.3</td>\n",
       "      <td>271.0</td>\n",
       "      <td>0</td>\n",
       "      <td>0</td>\n",
       "      <td>2020-01</td>\n",
       "      <td>37</td>\n",
       "      <td>-1.570572</td>\n",
       "      <td>53.607792</td>\n",
       "      <td>E01007418</td>\n",
       "      <td>Barnsley 016A</td>\n",
       "      <td>14</td>\n",
       "      <td>24.0</td>\n",
       "      <td>1</td>\n",
       "    </tr>\n",
       "    <tr>\n",
       "      <th>1</th>\n",
       "      <td>West Yorkshire</td>\n",
       "      <td>37</td>\n",
       "      <td>E23000010</td>\n",
       "      <td>2332500.0</td>\n",
       "      <td>5342.0</td>\n",
       "      <td>2020</td>\n",
       "      <td>2.3</td>\n",
       "      <td>271.0</td>\n",
       "      <td>1</td>\n",
       "      <td>1</td>\n",
       "      <td>2020-01</td>\n",
       "      <td>37</td>\n",
       "      <td>-1.670108</td>\n",
       "      <td>53.553631</td>\n",
       "      <td>E01007426</td>\n",
       "      <td>Barnsley 027D</td>\n",
       "      <td>8</td>\n",
       "      <td>10.0</td>\n",
       "      <td>1</td>\n",
       "    </tr>\n",
       "    <tr>\n",
       "      <th>2</th>\n",
       "      <td>West Yorkshire</td>\n",
       "      <td>37</td>\n",
       "      <td>E23000010</td>\n",
       "      <td>2332500.0</td>\n",
       "      <td>5342.0</td>\n",
       "      <td>2020</td>\n",
       "      <td>2.3</td>\n",
       "      <td>271.0</td>\n",
       "      <td>2</td>\n",
       "      <td>2</td>\n",
       "      <td>2020-01</td>\n",
       "      <td>37</td>\n",
       "      <td>-1.879031</td>\n",
       "      <td>53.943806</td>\n",
       "      <td>E01010646</td>\n",
       "      <td>Bradford 001A</td>\n",
       "      <td>2</td>\n",
       "      <td>10.0</td>\n",
       "      <td>1</td>\n",
       "    </tr>\n",
       "    <tr>\n",
       "      <th>3</th>\n",
       "      <td>West Yorkshire</td>\n",
       "      <td>37</td>\n",
       "      <td>E23000010</td>\n",
       "      <td>2332500.0</td>\n",
       "      <td>5342.0</td>\n",
       "      <td>2020</td>\n",
       "      <td>2.3</td>\n",
       "      <td>271.0</td>\n",
       "      <td>3</td>\n",
       "      <td>3</td>\n",
       "      <td>2020-01</td>\n",
       "      <td>37</td>\n",
       "      <td>-1.882746</td>\n",
       "      <td>53.933807</td>\n",
       "      <td>E01010646</td>\n",
       "      <td>Bradford 001A</td>\n",
       "      <td>3</td>\n",
       "      <td>10.0</td>\n",
       "      <td>1</td>\n",
       "    </tr>\n",
       "    <tr>\n",
       "      <th>4</th>\n",
       "      <td>West Yorkshire</td>\n",
       "      <td>37</td>\n",
       "      <td>E23000010</td>\n",
       "      <td>2332500.0</td>\n",
       "      <td>5342.0</td>\n",
       "      <td>2020</td>\n",
       "      <td>2.3</td>\n",
       "      <td>271.0</td>\n",
       "      <td>4</td>\n",
       "      <td>4</td>\n",
       "      <td>2020-01</td>\n",
       "      <td>37</td>\n",
       "      <td>-1.881467</td>\n",
       "      <td>53.944511</td>\n",
       "      <td>E01010646</td>\n",
       "      <td>Bradford 001A</td>\n",
       "      <td>4</td>\n",
       "      <td>10.0</td>\n",
       "      <td>1</td>\n",
       "    </tr>\n",
       "  </tbody>\n",
       "</table>\n",
       "</div>"
      ],
      "text/plain": [
       "  Staff_area_name  crime_area Geo_boundries_Data_match  number_residents  \\\n",
       "0  West Yorkshire          37                E23000010         2332500.0   \n",
       "1  West Yorkshire          37                E23000010         2332500.0   \n",
       "2  West Yorkshire          37                E23000010         2332500.0   \n",
       "3  West Yorkshire          37                E23000010         2332500.0   \n",
       "4  West Yorkshire          37                E23000010         2332500.0   \n",
       "\n",
       "   number_police  year  police_per_1000  number_spc  Unnamed: 0  id     date  \\\n",
       "0         5342.0  2020              2.3       271.0           0   0  2020-01   \n",
       "1         5342.0  2020              2.3       271.0           1   1  2020-01   \n",
       "2         5342.0  2020              2.3       271.0           2   2  2020-01   \n",
       "3         5342.0  2020              2.3       271.0           3   3  2020-01   \n",
       "4         5342.0  2020              2.3       271.0           4   4  2020-01   \n",
       "\n",
       "   reported  Longitude   Latitude  lsoa_code      lsoa_name  crime_type  \\\n",
       "0        37  -1.570572  53.607792  E01007418  Barnsley 016A          14   \n",
       "1        37  -1.670108  53.553631  E01007426  Barnsley 027D           8   \n",
       "2        37  -1.879031  53.943806  E01010646  Bradford 001A           2   \n",
       "3        37  -1.882746  53.933807  E01010646  Bradford 001A           3   \n",
       "4        37  -1.881467  53.944511  E01010646  Bradford 001A           4   \n",
       "\n",
       "   outcome_cat  month  \n",
       "0         24.0      1  \n",
       "1         10.0      1  \n",
       "2         10.0      1  \n",
       "3         10.0      1  \n",
       "4         10.0      1  "
      ]
     },
     "execution_count": 12,
     "metadata": {},
     "output_type": "execute_result"
    }
   ],
   "source": [
    "crime_police.head()"
   ]
  },
  {
   "cell_type": "code",
   "execution_count": 6,
   "id": "188c4425",
   "metadata": {},
   "outputs": [],
   "source": [
    "#Adjusting data types\n",
    "crime_police['Staff_area_name'] = crime_police['Staff_area_name'].astype('str')\n",
    "crime_police['Geo_boundries_Data_match'] = crime_police['Geo_boundries_Data_match'].astype('str')\n",
    "crime_police['lsoa_code'] = crime_police['lsoa_code'].astype('str')\n",
    "crime_police['lsoa_name'] = crime_police['lsoa_name'].astype('str')"
   ]
  },
  {
   "cell_type": "code",
   "execution_count": 7,
   "id": "23973aaa",
   "metadata": {},
   "outputs": [
    {
     "data": {
      "text/plain": [
       "Staff_area_name                                                      0\n",
       "crime_area                                                           0\n",
       "Geo_boundries_Data_match                                             0\n",
       "number_residents                                                 22556\n",
       "number_police                                                    22556\n",
       "year                                                                 0\n",
       "police_per_1000                                                  22556\n",
       "number_spc                                                       22556\n",
       "Crimes Sept 2020 - August 2021 (12 months)                    14054648\n",
       "crimes per 1000 redsident Sept 2020 - August 2021             14054648\n",
       "Crimes per police officer, Sept 2020 - August 2021            14054648\n",
       "crimes per frontend police officer Sept 2020 - August 2021    14054648\n",
       "Unnamed: 0                                                           0\n",
       "id                                                                   0\n",
       "date                                                                 0\n",
       "reported                                                             0\n",
       "Longitude                                                       373411\n",
       "Latitude                                                        373411\n",
       "lsoa_code                                                            0\n",
       "lsoa_name                                                            0\n",
       "crime_type                                                           0\n",
       "outcome_cat                                                    4340696\n",
       "month                                                                0\n",
       "dtype: int64"
      ]
     },
     "execution_count": 7,
     "metadata": {},
     "output_type": "execute_result"
    }
   ],
   "source": [
    "#Check for missing values\n",
    "crime_police.isnull().sum()"
   ]
  },
  {
   "cell_type": "markdown",
   "id": "4508f4f4",
   "metadata": {},
   "source": [
    "# 11.1 Recalculating Crimes variables\n",
    "Dropping variables with over 14m missing observations and will recalculate per month."
   ]
  },
  {
   "cell_type": "code",
   "execution_count": 10,
   "id": "f83080ae",
   "metadata": {},
   "outputs": [],
   "source": [
    "#Drop Crimes variables as will be recalculated, rather than imputing missing values\n",
    "crime_police=crime_police.drop(columns = ['Crimes Sept 2020 - August 2021 (12 months)'])\n",
    "crime_police = crime_police.drop(columns=['crimes per frontend police officer Sept 2020 - August 2021'])\n",
    "crime_police = crime_police.drop(columns=['crimes per 1000 redsident Sept 2020 - August 2021'])\n",
    "crime_police = crime_police.drop(columns=['Crimes per police officer, Sept 2020 - August 2021']) \n",
    "crime_police = crime_police.drop(columns=['Unnamed: 0'])"
   ]
  },
  {
   "cell_type": "code",
   "execution_count": null,
   "id": "3f1c3899",
   "metadata": {},
   "outputs": [],
   "source": [
    "#crime_police.join(crime_police.groupby(['crime_area','date']).transform('count').reset_index(),on=['crime_area','date'])"
   ]
  },
  {
   "cell_type": "code",
   "execution_count": 47,
   "id": "99135821",
   "metadata": {},
   "outputs": [],
   "source": [
    "#Grouping crimes by date and constabulary\n",
    "crime_police['number_crimes']=crime_police.groupby(['crime_area','date'])['id'].transform('count')"
   ]
  },
  {
   "cell_type": "code",
   "execution_count": 44,
   "id": "4ddcdac5",
   "metadata": {},
   "outputs": [],
   "source": [
    "#Grouping crimes by date and constabulary\n",
    "#crime_police['number_crimes']=\n",
    "#number_of_crimes = crime_police.groupby(['crime_area','date'])['id'].transform('count')"
   ]
  },
  {
   "cell_type": "code",
   "execution_count": 45,
   "id": "9ce1c1f2",
   "metadata": {},
   "outputs": [
    {
     "data": {
      "text/plain": [
       "0    27252\n",
       "1    27252\n",
       "2    27252\n",
       "3    27252\n",
       "4    27252\n",
       "Name: id, dtype: int64"
      ]
     },
     "execution_count": 45,
     "metadata": {},
     "output_type": "execute_result"
    }
   ],
   "source": [
    "#number_of_crimes.head()"
   ]
  },
  {
   "cell_type": "code",
   "execution_count": 46,
   "id": "aa22d3ba",
   "metadata": {},
   "outputs": [
    {
     "name": "stdout",
     "output_type": "stream",
     "text": [
      "<class 'pandas.core.series.Series'>\n",
      "Int64Index: 18362528 entries, 0 to 7893406\n",
      "Series name: id\n",
      "Non-Null Count     Dtype\n",
      "--------------     -----\n",
      "18362528 non-null  int64\n",
      "dtypes: int64(1)\n",
      "memory usage: 280.2 MB\n"
     ]
    }
   ],
   "source": [
    "#number_of_crimes.info()"
   ]
  },
  {
   "cell_type": "code",
   "execution_count": 57,
   "id": "9c1b0806",
   "metadata": {},
   "outputs": [
    {
     "data": {
      "text/plain": [
       "Index(['Staff_area_name', 'crime_area', 'Geo_boundries_Data_match',\n",
       "       'number_residents', 'number_police', 'year', 'police_per_1000',\n",
       "       'number_spc', 'id', 'date', 'reported', 'Longitude', 'Latitude',\n",
       "       'lsoa_code', 'lsoa_name', 'crime_type', 'outcome_cat', 'month',\n",
       "       'number_crimes', 'crime_per_officer', 'crime_per_residents'],\n",
       "      dtype='object')"
      ]
     },
     "execution_count": 57,
     "metadata": {},
     "output_type": "execute_result"
    }
   ],
   "source": [
    "crime_police.columns"
   ]
  },
  {
   "cell_type": "code",
   "execution_count": 27,
   "id": "32b91372",
   "metadata": {},
   "outputs": [],
   "source": [
    "crime_police['number_residents'] = crime_police['number_residents'].astype('float32')\n",
    "crime_police['number_police'] = crime_police['number_police'].astype('float16')\n",
    "crime_police['police_per_1000'] = crime_police['police_per_1000'].astype('float16')\n",
    "crime_police['number_spc'] = crime_police['number_spc'].astype('float16')"
   ]
  },
  {
   "cell_type": "code",
   "execution_count": 28,
   "id": "c89b26cf",
   "metadata": {},
   "outputs": [
    {
     "name": "stdout",
     "output_type": "stream",
     "text": [
      "<class 'pandas.core.frame.DataFrame'>\n",
      "Int64Index: 18362528 entries, 0 to 7893406\n",
      "Data columns (total 18 columns):\n",
      " #   Column                    Dtype  \n",
      "---  ------                    -----  \n",
      " 0   Staff_area_name           object \n",
      " 1   crime_area                int8   \n",
      " 2   Geo_boundries_Data_match  object \n",
      " 3   number_residents          float32\n",
      " 4   number_police             float16\n",
      " 5   year                      int16  \n",
      " 6   police_per_1000           float16\n",
      " 7   number_spc                float16\n",
      " 8   id                        int32  \n",
      " 9   date                      object \n",
      " 10  reported                  int8   \n",
      " 11  Longitude                 float32\n",
      " 12  Latitude                  float32\n",
      " 13  lsoa_code                 object \n",
      " 14  lsoa_name                 object \n",
      " 15  crime_type                int8   \n",
      " 16  outcome_cat               float16\n",
      " 17  month                     int8   \n",
      "dtypes: float16(4), float32(3), int16(1), int32(1), int8(4), object(5)\n",
      "memory usage: 1.3+ GB\n"
     ]
    }
   ],
   "source": [
    "crime_police.info()"
   ]
  },
  {
   "cell_type": "code",
   "execution_count": 49,
   "id": "264188f5",
   "metadata": {},
   "outputs": [
    {
     "data": {
      "text/html": [
       "<div>\n",
       "<style scoped>\n",
       "    .dataframe tbody tr th:only-of-type {\n",
       "        vertical-align: middle;\n",
       "    }\n",
       "\n",
       "    .dataframe tbody tr th {\n",
       "        vertical-align: top;\n",
       "    }\n",
       "\n",
       "    .dataframe thead th {\n",
       "        text-align: right;\n",
       "    }\n",
       "</style>\n",
       "<table border=\"1\" class=\"dataframe\">\n",
       "  <thead>\n",
       "    <tr style=\"text-align: right;\">\n",
       "      <th></th>\n",
       "      <th>Staff_area_name</th>\n",
       "      <th>crime_area</th>\n",
       "      <th>Geo_boundries_Data_match</th>\n",
       "      <th>number_residents</th>\n",
       "      <th>number_police</th>\n",
       "      <th>year</th>\n",
       "      <th>police_per_1000</th>\n",
       "      <th>number_spc</th>\n",
       "      <th>id</th>\n",
       "      <th>date</th>\n",
       "      <th>reported</th>\n",
       "      <th>Longitude</th>\n",
       "      <th>Latitude</th>\n",
       "      <th>lsoa_code</th>\n",
       "      <th>lsoa_name</th>\n",
       "      <th>crime_type</th>\n",
       "      <th>outcome_cat</th>\n",
       "      <th>month</th>\n",
       "      <th>number_crimes</th>\n",
       "    </tr>\n",
       "  </thead>\n",
       "  <tbody>\n",
       "    <tr>\n",
       "      <th>0</th>\n",
       "      <td>West Yorkshire</td>\n",
       "      <td>37</td>\n",
       "      <td>E23000010</td>\n",
       "      <td>2332500.0</td>\n",
       "      <td>5344.0</td>\n",
       "      <td>2020</td>\n",
       "      <td>2.300781</td>\n",
       "      <td>271.0</td>\n",
       "      <td>0</td>\n",
       "      <td>2020-01</td>\n",
       "      <td>37</td>\n",
       "      <td>-1.570572</td>\n",
       "      <td>53.607792</td>\n",
       "      <td>E01007418</td>\n",
       "      <td>Barnsley 016A</td>\n",
       "      <td>14</td>\n",
       "      <td>24.0</td>\n",
       "      <td>1</td>\n",
       "      <td>27252</td>\n",
       "    </tr>\n",
       "    <tr>\n",
       "      <th>1</th>\n",
       "      <td>West Yorkshire</td>\n",
       "      <td>37</td>\n",
       "      <td>E23000010</td>\n",
       "      <td>2332500.0</td>\n",
       "      <td>5344.0</td>\n",
       "      <td>2020</td>\n",
       "      <td>2.300781</td>\n",
       "      <td>271.0</td>\n",
       "      <td>1</td>\n",
       "      <td>2020-01</td>\n",
       "      <td>37</td>\n",
       "      <td>-1.670108</td>\n",
       "      <td>53.553631</td>\n",
       "      <td>E01007426</td>\n",
       "      <td>Barnsley 027D</td>\n",
       "      <td>8</td>\n",
       "      <td>10.0</td>\n",
       "      <td>1</td>\n",
       "      <td>27252</td>\n",
       "    </tr>\n",
       "    <tr>\n",
       "      <th>2</th>\n",
       "      <td>West Yorkshire</td>\n",
       "      <td>37</td>\n",
       "      <td>E23000010</td>\n",
       "      <td>2332500.0</td>\n",
       "      <td>5344.0</td>\n",
       "      <td>2020</td>\n",
       "      <td>2.300781</td>\n",
       "      <td>271.0</td>\n",
       "      <td>2</td>\n",
       "      <td>2020-01</td>\n",
       "      <td>37</td>\n",
       "      <td>-1.879031</td>\n",
       "      <td>53.943806</td>\n",
       "      <td>E01010646</td>\n",
       "      <td>Bradford 001A</td>\n",
       "      <td>2</td>\n",
       "      <td>10.0</td>\n",
       "      <td>1</td>\n",
       "      <td>27252</td>\n",
       "    </tr>\n",
       "    <tr>\n",
       "      <th>3</th>\n",
       "      <td>West Yorkshire</td>\n",
       "      <td>37</td>\n",
       "      <td>E23000010</td>\n",
       "      <td>2332500.0</td>\n",
       "      <td>5344.0</td>\n",
       "      <td>2020</td>\n",
       "      <td>2.300781</td>\n",
       "      <td>271.0</td>\n",
       "      <td>3</td>\n",
       "      <td>2020-01</td>\n",
       "      <td>37</td>\n",
       "      <td>-1.882746</td>\n",
       "      <td>53.933807</td>\n",
       "      <td>E01010646</td>\n",
       "      <td>Bradford 001A</td>\n",
       "      <td>3</td>\n",
       "      <td>10.0</td>\n",
       "      <td>1</td>\n",
       "      <td>27252</td>\n",
       "    </tr>\n",
       "    <tr>\n",
       "      <th>4</th>\n",
       "      <td>West Yorkshire</td>\n",
       "      <td>37</td>\n",
       "      <td>E23000010</td>\n",
       "      <td>2332500.0</td>\n",
       "      <td>5344.0</td>\n",
       "      <td>2020</td>\n",
       "      <td>2.300781</td>\n",
       "      <td>271.0</td>\n",
       "      <td>4</td>\n",
       "      <td>2020-01</td>\n",
       "      <td>37</td>\n",
       "      <td>-1.881467</td>\n",
       "      <td>53.944511</td>\n",
       "      <td>E01010646</td>\n",
       "      <td>Bradford 001A</td>\n",
       "      <td>4</td>\n",
       "      <td>10.0</td>\n",
       "      <td>1</td>\n",
       "      <td>27252</td>\n",
       "    </tr>\n",
       "  </tbody>\n",
       "</table>\n",
       "</div>"
      ],
      "text/plain": [
       "  Staff_area_name  crime_area Geo_boundries_Data_match  number_residents  \\\n",
       "0  West Yorkshire          37                E23000010         2332500.0   \n",
       "1  West Yorkshire          37                E23000010         2332500.0   \n",
       "2  West Yorkshire          37                E23000010         2332500.0   \n",
       "3  West Yorkshire          37                E23000010         2332500.0   \n",
       "4  West Yorkshire          37                E23000010         2332500.0   \n",
       "\n",
       "   number_police  year  police_per_1000  number_spc  id     date  reported  \\\n",
       "0         5344.0  2020         2.300781       271.0   0  2020-01        37   \n",
       "1         5344.0  2020         2.300781       271.0   1  2020-01        37   \n",
       "2         5344.0  2020         2.300781       271.0   2  2020-01        37   \n",
       "3         5344.0  2020         2.300781       271.0   3  2020-01        37   \n",
       "4         5344.0  2020         2.300781       271.0   4  2020-01        37   \n",
       "\n",
       "   Longitude   Latitude  lsoa_code      lsoa_name  crime_type  outcome_cat  \\\n",
       "0  -1.570572  53.607792  E01007418  Barnsley 016A          14         24.0   \n",
       "1  -1.670108  53.553631  E01007426  Barnsley 027D           8         10.0   \n",
       "2  -1.879031  53.943806  E01010646  Bradford 001A           2         10.0   \n",
       "3  -1.882746  53.933807  E01010646  Bradford 001A           3         10.0   \n",
       "4  -1.881467  53.944511  E01010646  Bradford 001A           4         10.0   \n",
       "\n",
       "   month  number_crimes  \n",
       "0      1          27252  \n",
       "1      1          27252  \n",
       "2      1          27252  \n",
       "3      1          27252  \n",
       "4      1          27252  "
      ]
     },
     "execution_count": 49,
     "metadata": {},
     "output_type": "execute_result"
    }
   ],
   "source": [
    "crime_police.head()"
   ]
  },
  {
   "cell_type": "code",
   "execution_count": 9,
   "id": "deafcfb2",
   "metadata": {},
   "outputs": [],
   "source": [
    "#Calculate Crimes per officer\n",
    "crime_police['crime_per_officer'] = crime_police['number_crimes']/crime_police['number_police']"
   ]
  },
  {
   "cell_type": "code",
   "execution_count": 10,
   "id": "7c748bf9",
   "metadata": {},
   "outputs": [],
   "source": [
    "#Calculate crimes per 1000 residents\n",
    "crime_police['crime_per_residents'] = crime_police['number_crimes']/(crime_police['number_residents']/1000)"
   ]
  },
  {
   "cell_type": "code",
   "execution_count": 18,
   "id": "8633040d",
   "metadata": {},
   "outputs": [
    {
     "data": {
      "text/html": [
       "<div>\n",
       "<style scoped>\n",
       "    .dataframe tbody tr th:only-of-type {\n",
       "        vertical-align: middle;\n",
       "    }\n",
       "\n",
       "    .dataframe tbody tr th {\n",
       "        vertical-align: top;\n",
       "    }\n",
       "\n",
       "    .dataframe thead th {\n",
       "        text-align: right;\n",
       "    }\n",
       "</style>\n",
       "<table border=\"1\" class=\"dataframe\">\n",
       "  <thead>\n",
       "    <tr style=\"text-align: right;\">\n",
       "      <th></th>\n",
       "      <th>Staff_area_name</th>\n",
       "      <th>crime_area</th>\n",
       "      <th>Geo_boundries_Data_match</th>\n",
       "      <th>number_residents</th>\n",
       "      <th>number_police</th>\n",
       "      <th>year</th>\n",
       "      <th>police_per_1000</th>\n",
       "      <th>number_spc</th>\n",
       "      <th>id</th>\n",
       "      <th>date</th>\n",
       "      <th>...</th>\n",
       "      <th>Longitude</th>\n",
       "      <th>Latitude</th>\n",
       "      <th>lsoa_code</th>\n",
       "      <th>lsoa_name</th>\n",
       "      <th>crime_type</th>\n",
       "      <th>outcome_cat</th>\n",
       "      <th>month</th>\n",
       "      <th>number_crimes</th>\n",
       "      <th>crime_per_officer</th>\n",
       "      <th>crime_per_residents</th>\n",
       "    </tr>\n",
       "  </thead>\n",
       "  <tbody>\n",
       "    <tr>\n",
       "      <th>0</th>\n",
       "      <td>West Yorkshire</td>\n",
       "      <td>37</td>\n",
       "      <td>E23000010</td>\n",
       "      <td>2332500.00</td>\n",
       "      <td>5344.00</td>\n",
       "      <td>2020</td>\n",
       "      <td>2.30</td>\n",
       "      <td>271.00</td>\n",
       "      <td>0</td>\n",
       "      <td>2020-01</td>\n",
       "      <td>...</td>\n",
       "      <td>-1.57</td>\n",
       "      <td>53.61</td>\n",
       "      <td>E01007418</td>\n",
       "      <td>Barnsley 016A</td>\n",
       "      <td>14</td>\n",
       "      <td>24.00</td>\n",
       "      <td>1</td>\n",
       "      <td>27252</td>\n",
       "      <td>5.10</td>\n",
       "      <td>11.68</td>\n",
       "    </tr>\n",
       "    <tr>\n",
       "      <th>1</th>\n",
       "      <td>West Yorkshire</td>\n",
       "      <td>37</td>\n",
       "      <td>E23000010</td>\n",
       "      <td>2332500.00</td>\n",
       "      <td>5344.00</td>\n",
       "      <td>2020</td>\n",
       "      <td>2.30</td>\n",
       "      <td>271.00</td>\n",
       "      <td>1</td>\n",
       "      <td>2020-01</td>\n",
       "      <td>...</td>\n",
       "      <td>-1.67</td>\n",
       "      <td>53.55</td>\n",
       "      <td>E01007426</td>\n",
       "      <td>Barnsley 027D</td>\n",
       "      <td>8</td>\n",
       "      <td>10.00</td>\n",
       "      <td>1</td>\n",
       "      <td>27252</td>\n",
       "      <td>5.10</td>\n",
       "      <td>11.68</td>\n",
       "    </tr>\n",
       "    <tr>\n",
       "      <th>2</th>\n",
       "      <td>West Yorkshire</td>\n",
       "      <td>37</td>\n",
       "      <td>E23000010</td>\n",
       "      <td>2332500.00</td>\n",
       "      <td>5344.00</td>\n",
       "      <td>2020</td>\n",
       "      <td>2.30</td>\n",
       "      <td>271.00</td>\n",
       "      <td>2</td>\n",
       "      <td>2020-01</td>\n",
       "      <td>...</td>\n",
       "      <td>-1.88</td>\n",
       "      <td>53.94</td>\n",
       "      <td>E01010646</td>\n",
       "      <td>Bradford 001A</td>\n",
       "      <td>2</td>\n",
       "      <td>10.00</td>\n",
       "      <td>1</td>\n",
       "      <td>27252</td>\n",
       "      <td>5.10</td>\n",
       "      <td>11.68</td>\n",
       "    </tr>\n",
       "    <tr>\n",
       "      <th>3</th>\n",
       "      <td>West Yorkshire</td>\n",
       "      <td>37</td>\n",
       "      <td>E23000010</td>\n",
       "      <td>2332500.00</td>\n",
       "      <td>5344.00</td>\n",
       "      <td>2020</td>\n",
       "      <td>2.30</td>\n",
       "      <td>271.00</td>\n",
       "      <td>3</td>\n",
       "      <td>2020-01</td>\n",
       "      <td>...</td>\n",
       "      <td>-1.88</td>\n",
       "      <td>53.93</td>\n",
       "      <td>E01010646</td>\n",
       "      <td>Bradford 001A</td>\n",
       "      <td>3</td>\n",
       "      <td>10.00</td>\n",
       "      <td>1</td>\n",
       "      <td>27252</td>\n",
       "      <td>5.10</td>\n",
       "      <td>11.68</td>\n",
       "    </tr>\n",
       "    <tr>\n",
       "      <th>4</th>\n",
       "      <td>West Yorkshire</td>\n",
       "      <td>37</td>\n",
       "      <td>E23000010</td>\n",
       "      <td>2332500.00</td>\n",
       "      <td>5344.00</td>\n",
       "      <td>2020</td>\n",
       "      <td>2.30</td>\n",
       "      <td>271.00</td>\n",
       "      <td>4</td>\n",
       "      <td>2020-01</td>\n",
       "      <td>...</td>\n",
       "      <td>-1.88</td>\n",
       "      <td>53.94</td>\n",
       "      <td>E01010646</td>\n",
       "      <td>Bradford 001A</td>\n",
       "      <td>4</td>\n",
       "      <td>10.00</td>\n",
       "      <td>1</td>\n",
       "      <td>27252</td>\n",
       "      <td>5.10</td>\n",
       "      <td>11.68</td>\n",
       "    </tr>\n",
       "  </tbody>\n",
       "</table>\n",
       "<p>5 rows × 21 columns</p>\n",
       "</div>"
      ],
      "text/plain": [
       "  Staff_area_name  crime_area Geo_boundries_Data_match  number_residents  \\\n",
       "0  West Yorkshire          37                E23000010        2332500.00   \n",
       "1  West Yorkshire          37                E23000010        2332500.00   \n",
       "2  West Yorkshire          37                E23000010        2332500.00   \n",
       "3  West Yorkshire          37                E23000010        2332500.00   \n",
       "4  West Yorkshire          37                E23000010        2332500.00   \n",
       "\n",
       "   number_police  year  police_per_1000  number_spc  id     date  ...  \\\n",
       "0        5344.00  2020             2.30      271.00   0  2020-01  ...   \n",
       "1        5344.00  2020             2.30      271.00   1  2020-01  ...   \n",
       "2        5344.00  2020             2.30      271.00   2  2020-01  ...   \n",
       "3        5344.00  2020             2.30      271.00   3  2020-01  ...   \n",
       "4        5344.00  2020             2.30      271.00   4  2020-01  ...   \n",
       "\n",
       "   Longitude  Latitude  lsoa_code      lsoa_name crime_type  outcome_cat  \\\n",
       "0      -1.57     53.61  E01007418  Barnsley 016A         14        24.00   \n",
       "1      -1.67     53.55  E01007426  Barnsley 027D          8        10.00   \n",
       "2      -1.88     53.94  E01010646  Bradford 001A          2        10.00   \n",
       "3      -1.88     53.93  E01010646  Bradford 001A          3        10.00   \n",
       "4      -1.88     53.94  E01010646  Bradford 001A          4        10.00   \n",
       "\n",
       "   month  number_crimes  crime_per_officer  crime_per_residents  \n",
       "0      1          27252               5.10                11.68  \n",
       "1      1          27252               5.10                11.68  \n",
       "2      1          27252               5.10                11.68  \n",
       "3      1          27252               5.10                11.68  \n",
       "4      1          27252               5.10                11.68  \n",
       "\n",
       "[5 rows x 21 columns]"
      ]
     },
     "execution_count": 18,
     "metadata": {},
     "output_type": "execute_result"
    }
   ],
   "source": [
    "crime_police.head()"
   ]
  },
  {
   "cell_type": "markdown",
   "id": "03f1f1e7",
   "metadata": {},
   "source": [
    "# 12. Imputing other missing values"
   ]
  },
  {
   "cell_type": "code",
   "execution_count": 4,
   "id": "80e57831",
   "metadata": {},
   "outputs": [
    {
     "data": {
      "text/plain": [
       "crime_area  number_residents\n",
       "22          8962000.0           3371292\n",
       "37          2332500.0            980503\n",
       "36          2928600.0            785195\n",
       "18          1508900.0            647491\n",
       "17          1860100.0            642310\n",
       "11          1846700.0            625946\n",
       "33          2420000.0            597055\n",
       "25          1463900.0            592354\n",
       "14          1991700.0            543272\n",
       "28          1409000.0            526495\n",
       "21          1429900.0            515578\n",
       "1           1719000.0            502791\n",
       "32          1712100.0            473201\n",
       "43          1339400.0            438326\n",
       "27          1161100.0            411912\n",
       "8           1772500.0            402809\n",
       "7           1060000.0            347457\n",
       "35          1291600.0            324826\n",
       "15          1189500.0            321437\n",
       "29          1135900.0            314349\n",
       "4           1066600.0            313930\n",
       "16          932800.0             309121\n",
       "19          1100300.0            301618\n",
       "31          1196200.0            292186\n",
       "5           569100.0             292142\n",
       "13          2835700.0            289150\n",
       "3           855800.0             245127\n",
       "24          753300.0             244725\n",
       "10          636900.0             238367\n",
       "23          907800.0             234294\n",
       "9           773800.0             222867\n",
       "42          699600.0             214250\n",
       "26          828700.0             214234\n",
       "20          761200.0             212153\n",
       "2           675000.0             195851\n",
       "12          637100.0             188879\n",
       "41          594200.0             188470\n",
       "30          761400.0             185791\n",
       "38          722200.0             168061\n",
       "34          577900.0             161815\n",
       "6           500000.0             132691\n",
       "40          519700.0             129651\n",
       "39          NaN                   22556\n",
       "dtype: int64"
      ]
     },
     "execution_count": 4,
     "metadata": {},
     "output_type": "execute_result"
    }
   ],
   "source": [
    "#Show which contabulary has missing residence data missing values\n",
    "crime_police[['crime_area','number_residents']].value_counts(dropna = False)"
   ]
  },
  {
   "cell_type": "markdown",
   "id": "f0cad8a7",
   "metadata": {},
   "source": [
    "Constabulary with missing residents numbers is City of London. "
   ]
  },
  {
   "cell_type": "code",
   "execution_count": 5,
   "id": "d368e4cf",
   "metadata": {},
   "outputs": [],
   "source": [
    "#Imputing residents numbers\n",
    "#crime_police['number_residents'] = crime_police['number_residents'].fillna(8000, inplace = True)\n",
    "crime_police['number_residents'] = crime_police['number_residents'].replace(np.nan, 8000)"
   ]
  },
  {
   "cell_type": "code",
   "execution_count": 4,
   "id": "b0c80b1e",
   "metadata": {},
   "outputs": [
    {
     "data": {
      "text/plain": [
       "number_residents\n",
       "8962000.0           3371292\n",
       "2332500.0            980503\n",
       "2928600.0            785195\n",
       "1508900.0            647491\n",
       "1860100.0            642310\n",
       "1846700.0            625946\n",
       "2420000.0            597055\n",
       "1463900.0            592354\n",
       "1991700.0            543272\n",
       "1409000.0            526495\n",
       "1429900.0            515578\n",
       "1719000.0            502791\n",
       "1712100.0            473201\n",
       "1339400.0            438326\n",
       "1161100.0            411912\n",
       "1772500.0            402809\n",
       "1060000.0            347457\n",
       "1291600.0            324826\n",
       "1189500.0            321437\n",
       "1135900.0            314349\n",
       "1066600.0            313930\n",
       "932800.0             309121\n",
       "1100300.0            301618\n",
       "1196200.0            292186\n",
       "569100.0             292142\n",
       "2835700.0            289150\n",
       "855800.0             245127\n",
       "753300.0             244725\n",
       "636900.0             238367\n",
       "907800.0             234294\n",
       "773800.0             222867\n",
       "699600.0             214250\n",
       "828700.0             214234\n",
       "761200.0             212153\n",
       "675000.0             195851\n",
       "637100.0             188879\n",
       "594200.0             188470\n",
       "761400.0             185791\n",
       "722200.0             168061\n",
       "577900.0             161815\n",
       "500000.0             132691\n",
       "519700.0             129651\n",
       "8000.0                22556\n",
       "dtype: int64"
      ]
     },
     "execution_count": 4,
     "metadata": {},
     "output_type": "execute_result"
    }
   ],
   "source": [
    "#Checking imputed values\n",
    "crime_police[['number_residents']].value_counts(dropna = False)"
   ]
  },
  {
   "cell_type": "code",
   "execution_count": 5,
   "id": "a8a6d8ab",
   "metadata": {},
   "outputs": [],
   "source": [
    "#Imputing officer numbers for City of London with Median value\n",
    "crime_police['number_police'] = crime_police['number_police'].replace(np.nan, 782)\n",
    "#Defining label/function\n",
    "#def officer_label(row):\n",
    "\n",
    " # if (row['crime_area'] == 39) and (row['year']==2018):\n",
    "#    return '734'\n",
    "#  elif (row['crime_area'] == 39) and (row['year'] == 2019):\n",
    "#    return '753'\n",
    "#  elif (row['crime_area'] == 39) and (row['year'] == 2020):\n",
    "#    return '811'\n",
    "#  elif (row['crime_area'] == 39) and (row['year'] == 2021):\n",
    "#    return '851'\n"
   ]
  },
  {
   "cell_type": "code",
   "execution_count": null,
   "id": "cc620d88",
   "metadata": {},
   "outputs": [],
   "source": [
    "#Apply label/function to df\n",
    "#crime_police['number_police'] = crime_police.apply(officer_label, axis=1)"
   ]
  },
  {
   "cell_type": "code",
   "execution_count": 6,
   "id": "7b03487a",
   "metadata": {},
   "outputs": [
    {
     "data": {
      "text/plain": [
       "number_police\n",
       "32960.0          1181922\n",
       "31168.0          1108042\n",
       "33792.0           806165\n",
       "3000.0            360636\n",
       "5136.0            339686\n",
       "                  ...   \n",
       "994.0              14607\n",
       "1267.0             14588\n",
       "806.0              14131\n",
       "1095.0             11476\n",
       "1186.0              9715\n",
       "Length: 159, dtype: int64"
      ]
     },
     "execution_count": 6,
     "metadata": {},
     "output_type": "execute_result"
    }
   ],
   "source": [
    "crime_police[['number_police']].value_counts(dropna = False)"
   ]
  },
  {
   "cell_type": "code",
   "execution_count": 7,
   "id": "3cd36112",
   "metadata": {},
   "outputs": [
    {
     "data": {
      "text/plain": [
       "1.700195     2736263\n",
       "1.799805     2188670\n",
       "2.199219     2106785\n",
       "3.500000     1383205\n",
       "1.599609     1195781\n",
       "3.699219     1181922\n",
       "1.900391     1102739\n",
       "2.300781      934851\n",
       "2.099609      916502\n",
       "2.000000      905461\n",
       "1.400391      900630\n",
       "1.500000      879667\n",
       "3.800781      806165\n",
       "2.400391      599894\n",
       "2.500000      364220\n",
       "2.800781      137217\n",
       "97.750000      22556\n",
       "Name: police_per_1000, dtype: int64"
      ]
     },
     "execution_count": 7,
     "metadata": {},
     "output_type": "execute_result"
    }
   ],
   "source": [
    "crime_police['police_per_1000'].value_counts(dropna = False)"
   ]
  },
  {
   "cell_type": "code",
   "execution_count": 7,
   "id": "a6ec2d52",
   "metadata": {},
   "outputs": [],
   "source": [
    "#Imputing police_per_1000 for City of London with ratio of previously imputed values\n",
    "crime_police['police_per_1000'] = crime_police['police_per_1000'].replace(np.nan, 97.75)"
   ]
  },
  {
   "cell_type": "code",
   "execution_count": 8,
   "id": "0bfb1c12",
   "metadata": {},
   "outputs": [
    {
     "data": {
      "text/plain": [
       "1.700195     2736263\n",
       "1.799805     2188670\n",
       "2.199219     2106785\n",
       "3.500000     1383205\n",
       "1.599609     1195781\n",
       "3.699219     1181922\n",
       "1.900391     1102739\n",
       "2.300781      934851\n",
       "2.099609      916502\n",
       "2.000000      905461\n",
       "1.400391      900630\n",
       "1.500000      879667\n",
       "3.800781      806165\n",
       "2.400391      599894\n",
       "2.500000      364220\n",
       "2.800781      137217\n",
       "97.750000      22556\n",
       "Name: police_per_1000, dtype: int64"
      ]
     },
     "execution_count": 8,
     "metadata": {},
     "output_type": "execute_result"
    }
   ],
   "source": [
    "crime_police['police_per_1000'].value_counts(dropna = False)"
   ]
  },
  {
   "cell_type": "markdown",
   "id": "57bda542",
   "metadata": {},
   "source": [
    "City of London is an outlier, due to the relatively low number of residents. "
   ]
  },
  {
   "cell_type": "code",
   "execution_count": 11,
   "id": "2bfc43f9",
   "metadata": {},
   "outputs": [
    {
     "data": {
      "text/plain": [
       "Staff_area_name                   0\n",
       "crime_area                        0\n",
       "Geo_boundries_Data_match          0\n",
       "number_residents                  0\n",
       "number_police                     0\n",
       "year                              0\n",
       "police_per_1000                   0\n",
       "number_spc                    22556\n",
       "id                                0\n",
       "date                              0\n",
       "reported                          0\n",
       "Longitude                    373411\n",
       "Latitude                     373411\n",
       "lsoa_code                         0\n",
       "lsoa_name                         0\n",
       "crime_type                        0\n",
       "outcome_cat                 4340696\n",
       "month                             0\n",
       "number_crimes                     0\n",
       "crime_per_officer                 0\n",
       "crime_per_residents               0\n",
       "dtype: int64"
      ]
     },
     "execution_count": 11,
     "metadata": {},
     "output_type": "execute_result"
    }
   ],
   "source": [
    "#Check for missing values\n",
    "crime_police.isnull().sum()"
   ]
  },
  {
   "cell_type": "markdown",
   "id": "79ba83d9",
   "metadata": {},
   "source": [
    "# 13. Descriptive statistics"
   ]
  },
  {
   "cell_type": "code",
   "execution_count": 14,
   "id": "420db0a5",
   "metadata": {},
   "outputs": [],
   "source": [
    "#remove scientific notation of desc output\n",
    "pd.options.display.float_format = '{:.2f}'.format"
   ]
  },
  {
   "cell_type": "code",
   "execution_count": 15,
   "id": "d9f81349",
   "metadata": {},
   "outputs": [
    {
     "data": {
      "text/html": [
       "<div>\n",
       "<style scoped>\n",
       "    .dataframe tbody tr th:only-of-type {\n",
       "        vertical-align: middle;\n",
       "    }\n",
       "\n",
       "    .dataframe tbody tr th {\n",
       "        vertical-align: top;\n",
       "    }\n",
       "\n",
       "    .dataframe thead th {\n",
       "        text-align: right;\n",
       "    }\n",
       "</style>\n",
       "<table border=\"1\" class=\"dataframe\">\n",
       "  <thead>\n",
       "    <tr style=\"text-align: right;\">\n",
       "      <th></th>\n",
       "      <th>number_residents</th>\n",
       "      <th>number_police</th>\n",
       "      <th>police_per_1000</th>\n",
       "      <th>number_spc</th>\n",
       "      <th>number_crimes</th>\n",
       "      <th>crime_per_officer</th>\n",
       "      <th>crime_per_residents</th>\n",
       "    </tr>\n",
       "  </thead>\n",
       "  <tbody>\n",
       "    <tr>\n",
       "      <th>count</th>\n",
       "      <td>18362528.00</td>\n",
       "      <td>18362528.00</td>\n",
       "      <td>18362528.00</td>\n",
       "      <td>18339972.00</td>\n",
       "      <td>18362528.00</td>\n",
       "      <td>18362528.00</td>\n",
       "      <td>18362528.00</td>\n",
       "    </tr>\n",
       "    <tr>\n",
       "      <th>mean</th>\n",
       "      <td>2644639.25</td>\n",
       "      <td>NaN</td>\n",
       "      <td>NaN</td>\n",
       "      <td>NaN</td>\n",
       "      <td>28503.77</td>\n",
       "      <td>4.47</td>\n",
       "      <td>9.70</td>\n",
       "    </tr>\n",
       "    <tr>\n",
       "      <th>std</th>\n",
       "      <td>2888569.25</td>\n",
       "      <td>NaN</td>\n",
       "      <td>0.00</td>\n",
       "      <td>NaN</td>\n",
       "      <td>31957.19</td>\n",
       "      <td>1.12</td>\n",
       "      <td>3.39</td>\n",
       "    </tr>\n",
       "    <tr>\n",
       "      <th>min</th>\n",
       "      <td>8000.00</td>\n",
       "      <td>782.00</td>\n",
       "      <td>1.40</td>\n",
       "      <td>40.00</td>\n",
       "      <td>226.00</td>\n",
       "      <td>0.29</td>\n",
       "      <td>3.89</td>\n",
       "    </tr>\n",
       "    <tr>\n",
       "      <th>25%</th>\n",
       "      <td>1100300.00</td>\n",
       "      <td>1928.00</td>\n",
       "      <td>1.70</td>\n",
       "      <td>152.00</td>\n",
       "      <td>8697.00</td>\n",
       "      <td>3.67</td>\n",
       "      <td>7.95</td>\n",
       "    </tr>\n",
       "    <tr>\n",
       "      <th>50%</th>\n",
       "      <td>1712100.00</td>\n",
       "      <td>3000.00</td>\n",
       "      <td>2.00</td>\n",
       "      <td>240.00</td>\n",
       "      <td>14994.00</td>\n",
       "      <td>4.47</td>\n",
       "      <td>9.39</td>\n",
       "    </tr>\n",
       "    <tr>\n",
       "      <th>75%</th>\n",
       "      <td>2420000.00</td>\n",
       "      <td>5580.00</td>\n",
       "      <td>2.30</td>\n",
       "      <td>358.00</td>\n",
       "      <td>27015.00</td>\n",
       "      <td>5.32</td>\n",
       "      <td>10.66</td>\n",
       "    </tr>\n",
       "    <tr>\n",
       "      <th>max</th>\n",
       "      <td>8962000.00</td>\n",
       "      <td>33792.00</td>\n",
       "      <td>97.75</td>\n",
       "      <td>2140.00</td>\n",
       "      <td>114008.00</td>\n",
       "      <td>8.55</td>\n",
       "      <td>116.62</td>\n",
       "    </tr>\n",
       "  </tbody>\n",
       "</table>\n",
       "</div>"
      ],
      "text/plain": [
       "       number_residents  number_police  police_per_1000  number_spc  \\\n",
       "count       18362528.00    18362528.00      18362528.00 18339972.00   \n",
       "mean         2644639.25            NaN              NaN         NaN   \n",
       "std          2888569.25            NaN             0.00         NaN   \n",
       "min             8000.00         782.00             1.40       40.00   \n",
       "25%          1100300.00        1928.00             1.70      152.00   \n",
       "50%          1712100.00        3000.00             2.00      240.00   \n",
       "75%          2420000.00        5580.00             2.30      358.00   \n",
       "max          8962000.00       33792.00            97.75     2140.00   \n",
       "\n",
       "       number_crimes  crime_per_officer  crime_per_residents  \n",
       "count    18362528.00        18362528.00          18362528.00  \n",
       "mean        28503.77               4.47                 9.70  \n",
       "std         31957.19               1.12                 3.39  \n",
       "min           226.00               0.29                 3.89  \n",
       "25%          8697.00               3.67                 7.95  \n",
       "50%         14994.00               4.47                 9.39  \n",
       "75%         27015.00               5.32                10.66  \n",
       "max        114008.00               8.55               116.62  "
      ]
     },
     "execution_count": 15,
     "metadata": {},
     "output_type": "execute_result"
    }
   ],
   "source": [
    "#Descriptive stats on all continuous variables\n",
    "crime_police[['number_residents','number_police','police_per_1000','number_spc','number_crimes','crime_per_officer','crime_per_residents']].describe()"
   ]
  },
  {
   "cell_type": "code",
   "execution_count": 13,
   "id": "a7523eef",
   "metadata": {},
   "outputs": [
    {
     "data": {
      "text/plain": [
       "count                18362528\n",
       "unique                     43\n",
       "top       Metropolitan Police\n",
       "freq                  3371292\n",
       "Name: Staff_area_name, dtype: object"
      ]
     },
     "execution_count": 13,
     "metadata": {},
     "output_type": "execute_result"
    }
   ],
   "source": [
    "crime_police['Staff_area_name'].describe()"
   ]
  },
  {
   "cell_type": "markdown",
   "id": "4ccc8764",
   "metadata": {},
   "source": [
    "# 14. Export final data"
   ]
  },
  {
   "cell_type": "code",
   "execution_count": 12,
   "id": "53e5c85f",
   "metadata": {},
   "outputs": [],
   "source": [
    "#Export data to pkl\n",
    "crime_police.to_pickle(os.path.join(path, 'Data','Prepared Data', 'crime_police_cleaned.pkl'))"
   ]
  },
  {
   "cell_type": "code",
   "execution_count": 3,
   "id": "2ba33941",
   "metadata": {},
   "outputs": [],
   "source": [
    "crime_police = pd.read_pickle(os.path.join(path, 'Data','Prepared Data', 'crime_police_cleaned.pkl'))"
   ]
  },
  {
   "cell_type": "code",
   "execution_count": null,
   "id": "4dec1e49",
   "metadata": {},
   "outputs": [],
   "source": []
  }
 ],
 "metadata": {
  "kernelspec": {
   "display_name": "Python 3 (ipykernel)",
   "language": "python",
   "name": "python3"
  },
  "language_info": {
   "codemirror_mode": {
    "name": "ipython",
    "version": 3
   },
   "file_extension": ".py",
   "mimetype": "text/x-python",
   "name": "python",
   "nbconvert_exporter": "python",
   "pygments_lexer": "ipython3",
   "version": "3.9.12"
  }
 },
 "nbformat": 4,
 "nbformat_minor": 5
}
