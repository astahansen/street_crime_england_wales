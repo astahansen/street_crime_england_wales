{
 "cells": [
  {
   "cell_type": "markdown",
   "id": "890a00e4",
   "metadata": {},
   "source": [
    "# 01. Import libraries & data"
   ]
  },
  {
   "cell_type": "code",
   "execution_count": 1,
   "id": "431002c2",
   "metadata": {},
   "outputs": [],
   "source": [
    "import pandas as pd\n",
    "import numpy as np\n",
    "import seaborn as sns\n",
    "import matplotlib\n",
    "import matplotlib.pyplot as plt\n",
    "import os\n",
    "import sklearn\n",
    "from sklearn.model_selection import train_test_split \n",
    "from sklearn.linear_model import LinearRegression\n",
    "from sklearn.metrics import mean_squared_error, r2_score"
   ]
  },
  {
   "cell_type": "code",
   "execution_count": 2,
   "id": "ca020d5f",
   "metadata": {},
   "outputs": [],
   "source": [
    "%matplotlib inline"
   ]
  },
  {
   "cell_type": "code",
   "execution_count": 3,
   "id": "4f690e7c",
   "metadata": {},
   "outputs": [],
   "source": [
    "#Define path\n",
    "path = r'C:\\Users\\astat\\Documents\\Final project'"
   ]
  },
  {
   "cell_type": "code",
   "execution_count": 4,
   "id": "7f18a14e",
   "metadata": {},
   "outputs": [],
   "source": [
    "#Import data\n",
    "crime_police = pd.read_pickle(os.path.join(path, 'Data', 'Prepared Data', 'crime_police_cleaned3.pkl'))"
   ]
  },
  {
   "cell_type": "code",
   "execution_count": 5,
   "id": "c1a330d2",
   "metadata": {},
   "outputs": [
    {
     "data": {
      "text/html": [
       "<div>\n",
       "<style scoped>\n",
       "    .dataframe tbody tr th:only-of-type {\n",
       "        vertical-align: middle;\n",
       "    }\n",
       "\n",
       "    .dataframe tbody tr th {\n",
       "        vertical-align: top;\n",
       "    }\n",
       "\n",
       "    .dataframe thead th {\n",
       "        text-align: right;\n",
       "    }\n",
       "</style>\n",
       "<table border=\"1\" class=\"dataframe\">\n",
       "  <thead>\n",
       "    <tr style=\"text-align: right;\">\n",
       "      <th></th>\n",
       "      <th>Staff_area_name</th>\n",
       "      <th>crime_area</th>\n",
       "      <th>Geo_boundries_Data_match</th>\n",
       "      <th>number_residents</th>\n",
       "      <th>number_police</th>\n",
       "      <th>year</th>\n",
       "      <th>police_per_1000</th>\n",
       "      <th>number_spc</th>\n",
       "      <th>id</th>\n",
       "      <th>date</th>\n",
       "      <th>...</th>\n",
       "      <th>crime_type</th>\n",
       "      <th>outcome_cat</th>\n",
       "      <th>month</th>\n",
       "      <th>number_crimes</th>\n",
       "      <th>crime_per_officer</th>\n",
       "      <th>crime_per_residents</th>\n",
       "      <th>crime</th>\n",
       "      <th>area_size</th>\n",
       "      <th>pop_density</th>\n",
       "      <th>urban</th>\n",
       "    </tr>\n",
       "  </thead>\n",
       "  <tbody>\n",
       "    <tr>\n",
       "      <th>0</th>\n",
       "      <td>West Yorkshire</td>\n",
       "      <td>37</td>\n",
       "      <td>E23000010</td>\n",
       "      <td>2332500.0</td>\n",
       "      <td>5344.0</td>\n",
       "      <td>2020</td>\n",
       "      <td>2.300781</td>\n",
       "      <td>271.0</td>\n",
       "      <td>0</td>\n",
       "      <td>2020-01</td>\n",
       "      <td>...</td>\n",
       "      <td>14</td>\n",
       "      <td>24.0</td>\n",
       "      <td>1</td>\n",
       "      <td>27252</td>\n",
       "      <td>5.099551</td>\n",
       "      <td>11.683601</td>\n",
       "      <td>Violence &amp; damage</td>\n",
       "      <td>2029.0</td>\n",
       "      <td>1149.581074</td>\n",
       "      <td>0</td>\n",
       "    </tr>\n",
       "    <tr>\n",
       "      <th>1</th>\n",
       "      <td>West Yorkshire</td>\n",
       "      <td>37</td>\n",
       "      <td>E23000010</td>\n",
       "      <td>2332500.0</td>\n",
       "      <td>5344.0</td>\n",
       "      <td>2020</td>\n",
       "      <td>2.300781</td>\n",
       "      <td>271.0</td>\n",
       "      <td>1</td>\n",
       "      <td>2020-01</td>\n",
       "      <td>...</td>\n",
       "      <td>8</td>\n",
       "      <td>10.0</td>\n",
       "      <td>1</td>\n",
       "      <td>27252</td>\n",
       "      <td>5.099551</td>\n",
       "      <td>11.683601</td>\n",
       "      <td>Weapons &amp; Drugs</td>\n",
       "      <td>2029.0</td>\n",
       "      <td>1149.581074</td>\n",
       "      <td>0</td>\n",
       "    </tr>\n",
       "    <tr>\n",
       "      <th>2</th>\n",
       "      <td>West Yorkshire</td>\n",
       "      <td>37</td>\n",
       "      <td>E23000010</td>\n",
       "      <td>2332500.0</td>\n",
       "      <td>5344.0</td>\n",
       "      <td>2020</td>\n",
       "      <td>2.300781</td>\n",
       "      <td>271.0</td>\n",
       "      <td>2</td>\n",
       "      <td>2020-01</td>\n",
       "      <td>...</td>\n",
       "      <td>2</td>\n",
       "      <td>10.0</td>\n",
       "      <td>1</td>\n",
       "      <td>27252</td>\n",
       "      <td>5.099551</td>\n",
       "      <td>11.683601</td>\n",
       "      <td>Theft</td>\n",
       "      <td>2029.0</td>\n",
       "      <td>1149.581074</td>\n",
       "      <td>0</td>\n",
       "    </tr>\n",
       "    <tr>\n",
       "      <th>3</th>\n",
       "      <td>West Yorkshire</td>\n",
       "      <td>37</td>\n",
       "      <td>E23000010</td>\n",
       "      <td>2332500.0</td>\n",
       "      <td>5344.0</td>\n",
       "      <td>2020</td>\n",
       "      <td>2.300781</td>\n",
       "      <td>271.0</td>\n",
       "      <td>3</td>\n",
       "      <td>2020-01</td>\n",
       "      <td>...</td>\n",
       "      <td>3</td>\n",
       "      <td>10.0</td>\n",
       "      <td>1</td>\n",
       "      <td>27252</td>\n",
       "      <td>5.099551</td>\n",
       "      <td>11.683601</td>\n",
       "      <td>Theft</td>\n",
       "      <td>2029.0</td>\n",
       "      <td>1149.581074</td>\n",
       "      <td>0</td>\n",
       "    </tr>\n",
       "    <tr>\n",
       "      <th>4</th>\n",
       "      <td>West Yorkshire</td>\n",
       "      <td>37</td>\n",
       "      <td>E23000010</td>\n",
       "      <td>2332500.0</td>\n",
       "      <td>5344.0</td>\n",
       "      <td>2020</td>\n",
       "      <td>2.300781</td>\n",
       "      <td>271.0</td>\n",
       "      <td>4</td>\n",
       "      <td>2020-01</td>\n",
       "      <td>...</td>\n",
       "      <td>4</td>\n",
       "      <td>10.0</td>\n",
       "      <td>1</td>\n",
       "      <td>27252</td>\n",
       "      <td>5.099551</td>\n",
       "      <td>11.683601</td>\n",
       "      <td>Violence &amp; damage</td>\n",
       "      <td>2029.0</td>\n",
       "      <td>1149.581074</td>\n",
       "      <td>0</td>\n",
       "    </tr>\n",
       "  </tbody>\n",
       "</table>\n",
       "<p>5 rows × 23 columns</p>\n",
       "</div>"
      ],
      "text/plain": [
       "  Staff_area_name  crime_area Geo_boundries_Data_match  number_residents  \\\n",
       "0  West Yorkshire          37                E23000010         2332500.0   \n",
       "1  West Yorkshire          37                E23000010         2332500.0   \n",
       "2  West Yorkshire          37                E23000010         2332500.0   \n",
       "3  West Yorkshire          37                E23000010         2332500.0   \n",
       "4  West Yorkshire          37                E23000010         2332500.0   \n",
       "\n",
       "   number_police  year  police_per_1000  number_spc  id     date  ...  \\\n",
       "0         5344.0  2020         2.300781       271.0   0  2020-01  ...   \n",
       "1         5344.0  2020         2.300781       271.0   1  2020-01  ...   \n",
       "2         5344.0  2020         2.300781       271.0   2  2020-01  ...   \n",
       "3         5344.0  2020         2.300781       271.0   3  2020-01  ...   \n",
       "4         5344.0  2020         2.300781       271.0   4  2020-01  ...   \n",
       "\n",
       "   crime_type outcome_cat month  number_crimes  crime_per_officer  \\\n",
       "0          14        24.0     1          27252           5.099551   \n",
       "1           8        10.0     1          27252           5.099551   \n",
       "2           2        10.0     1          27252           5.099551   \n",
       "3           3        10.0     1          27252           5.099551   \n",
       "4           4        10.0     1          27252           5.099551   \n",
       "\n",
       "   crime_per_residents              crime  area_size  pop_density urban  \n",
       "0            11.683601  Violence & damage     2029.0  1149.581074     0  \n",
       "1            11.683601    Weapons & Drugs     2029.0  1149.581074     0  \n",
       "2            11.683601              Theft     2029.0  1149.581074     0  \n",
       "3            11.683601              Theft     2029.0  1149.581074     0  \n",
       "4            11.683601  Violence & damage     2029.0  1149.581074     0  \n",
       "\n",
       "[5 rows x 23 columns]"
      ]
     },
     "execution_count": 5,
     "metadata": {},
     "output_type": "execute_result"
    }
   ],
   "source": [
    "crime_police.head()"
   ]
  },
  {
   "cell_type": "code",
   "execution_count": 6,
   "id": "53a47878",
   "metadata": {},
   "outputs": [
    {
     "name": "stdout",
     "output_type": "stream",
     "text": [
      "<class 'pandas.core.frame.DataFrame'>\n",
      "Int64Index: 18362528 entries, 0 to 7893406\n",
      "Data columns (total 23 columns):\n",
      " #   Column                    Dtype  \n",
      "---  ------                    -----  \n",
      " 0   Staff_area_name           object \n",
      " 1   crime_area                int8   \n",
      " 2   Geo_boundries_Data_match  object \n",
      " 3   number_residents          float32\n",
      " 4   number_police             float16\n",
      " 5   year                      int16  \n",
      " 6   police_per_1000           float16\n",
      " 7   number_spc                float16\n",
      " 8   id                        int32  \n",
      " 9   date                      object \n",
      " 10  reported                  int8   \n",
      " 11  lsoa_code                 object \n",
      " 12  lsoa_name                 object \n",
      " 13  crime_type                int8   \n",
      " 14  outcome_cat               float16\n",
      " 15  month                     int8   \n",
      " 16  number_crimes             int32  \n",
      " 17  crime_per_officer         float32\n",
      " 18  crime_per_residents       float32\n",
      " 19  crime                     object \n",
      " 20  area_size                 float64\n",
      " 21  pop_density               float64\n",
      " 22  urban                     object \n",
      "dtypes: float16(4), float32(3), float64(2), int16(1), int32(2), int8(4), object(7)\n",
      "memory usage: 1.9+ GB\n"
     ]
    }
   ],
   "source": [
    "crime_police.info()"
   ]
  },
  {
   "cell_type": "markdown",
   "id": "a00db6f6",
   "metadata": {},
   "source": [
    "# 02. Clean data"
   ]
  },
  {
   "cell_type": "code",
   "execution_count": 7,
   "id": "ddac7c17",
   "metadata": {},
   "outputs": [
    {
     "data": {
      "text/plain": [
       "Staff_area_name                   0\n",
       "crime_area                        0\n",
       "Geo_boundries_Data_match          0\n",
       "number_residents                  0\n",
       "number_police                     0\n",
       "year                              0\n",
       "police_per_1000                   0\n",
       "number_spc                    22556\n",
       "id                                0\n",
       "date                              0\n",
       "reported                          0\n",
       "lsoa_code                         0\n",
       "lsoa_name                         0\n",
       "crime_type                        0\n",
       "outcome_cat                 4340696\n",
       "month                             0\n",
       "number_crimes                     0\n",
       "crime_per_officer                 0\n",
       "crime_per_residents               0\n",
       "crime                             0\n",
       "area_size                         0\n",
       "pop_density                       0\n",
       "urban                             0\n",
       "dtype: int64"
      ]
     },
     "execution_count": 7,
     "metadata": {},
     "output_type": "execute_result"
    }
   ],
   "source": [
    "#Check for missing values\n",
    "crime_police.isnull().sum()"
   ]
  },
  {
   "cell_type": "code",
   "execution_count": 8,
   "id": "186ef74b",
   "metadata": {},
   "outputs": [],
   "source": [
    "#Check for duplicates\n",
    "dups = crime_police.duplicated()"
   ]
  },
  {
   "cell_type": "code",
   "execution_count": 9,
   "id": "9a07dc63",
   "metadata": {},
   "outputs": [
    {
     "data": {
      "text/plain": [
       "(18362528,)"
      ]
     },
     "execution_count": 9,
     "metadata": {},
     "output_type": "execute_result"
    }
   ],
   "source": [
    "dups.shape # No dups"
   ]
  },
  {
   "cell_type": "markdown",
   "id": "7d7787c5",
   "metadata": {},
   "source": [
    "# 03. Data prep"
   ]
  },
  {
   "cell_type": "markdown",
   "id": "47fac42a",
   "metadata": {},
   "source": [
    "#### Hypothesis: Areas with a high population density report more crimes."
   ]
  },
  {
   "cell_type": "code",
   "execution_count": 10,
   "id": "8e57f58c",
   "metadata": {},
   "outputs": [
    {
     "data": {
      "text/plain": [
       "<seaborn.axisgrid.FacetGrid at 0x2f14331e280>"
      ]
     },
     "execution_count": 10,
     "metadata": {},
     "output_type": "execute_result"
    },
    {
     "data": {
      "image/png": "[encoded data removed]",
      "text/plain": [
       "<Figure size 360x360 with 1 Axes>"
      ]
     },
     "metadata": {
      "needs_background": "light"
     },
     "output_type": "display_data"
    }
   ],
   "source": [
    "#Scatterplot for the \"pop_density\" and \"number_crimes\" \n",
    "sns.lmplot(x = 'pop_density', y = 'number_crimes', data = crime_police)"
   ]
  },
  {
   "cell_type": "code",
   "execution_count": 11,
   "id": "3520b89d",
   "metadata": {},
   "outputs": [],
   "source": [
    "#Reshape the variables into NumPy arrays\n",
    "X = crime_police['pop_density'].values.reshape(-1,1)\n",
    "y = crime_police['number_crimes'].values.reshape(-1,1)"
   ]
  },
  {
   "cell_type": "code",
   "execution_count": 12,
   "id": "77876020",
   "metadata": {},
   "outputs": [],
   "source": [
    "#Split data into training and test set\n",
    "X_train, X_test, y_train, y_test = train_test_split(X, y, test_size=0.3, random_state=0)"
   ]
  },
  {
   "cell_type": "markdown",
   "id": "128f133a",
   "metadata": {},
   "source": [
    "# 04. Regression"
   ]
  },
  {
   "cell_type": "code",
   "execution_count": 13,
   "id": "bf2eda61",
   "metadata": {},
   "outputs": [],
   "source": [
    "#Creating a regression object\n",
    "regression = LinearRegression() "
   ]
  },
  {
   "cell_type": "code",
   "execution_count": 14,
   "id": "055bb75c",
   "metadata": {},
   "outputs": [
    {
     "data": {
      "text/plain": [
       "LinearRegression()"
      ]
     },
     "execution_count": 14,
     "metadata": {},
     "output_type": "execute_result"
    }
   ],
   "source": [
    "#Fitting the regression object onto the training set\n",
    "regression.fit(X_train, y_train)"
   ]
  },
  {
   "cell_type": "code",
   "execution_count": 15,
   "id": "55d15ead",
   "metadata": {},
   "outputs": [],
   "source": [
    "#Predicting the values of y\n",
    "y_predicted = regression.predict(X_test)"
   ]
  },
  {
   "cell_type": "code",
   "execution_count": 20,
   "id": "04127936",
   "metadata": {},
   "outputs": [
    {
     "data": {
      "image/png": "[encoded data removed]",
      "text/plain": [
       "<Figure size 432x288 with 1 Axes>"
      ]
     },
     "metadata": {
      "needs_background": "light"
     },
     "output_type": "display_data"
    }
   ],
   "source": [
    "#Creating a plot of the regression line on the test set\n",
    "plot_test = plt\n",
    "plot_test.scatter(X_test, y_test, color='gray', s = 15)\n",
    "plot_test.plot(X_test, y_predicted, color='red', linewidth =3)\n",
    "plot_test.title('Area population density vs Number of crimes (Test set)')\n",
    "plot_test.xlabel('Area population density')\n",
    "plot_test.ylabel('Number of crimes')\n",
    "plot_test.savefig(os.path.join(path, 'Analysis','Visualisations', 'regression.png'))\n",
    "plot_test.show()"
   ]
  },
  {
   "cell_type": "markdown",
   "id": "0c005da4",
   "metadata": {},
   "source": [
    "The regression matches the data points fairly well, although an exponential line of best fit might be more suitable. This might in large part be due to the outlier (London). There are a few areas with a relatively high density by comparatively low crime rate. This could match the areas around Liverpool and Birmingham, as they did not show as high a crime rate as the level of their population density would make one suspect based on the previous map analysis."
   ]
  },
  {
   "cell_type": "markdown",
   "id": "bf1aec6f",
   "metadata": {},
   "source": [
    "# 05. Performance stats"
   ]
  },
  {
   "cell_type": "code",
   "execution_count": 22,
   "id": "0ee6affd",
   "metadata": {},
   "outputs": [],
   "source": [
    "#Creating objects that contain the model summary statistics\n",
    "rmse = mean_squared_error(y_test, y_predicted)\n",
    "r2 = r2_score(y_test, y_predicted) "
   ]
  },
  {
   "cell_type": "code",
   "execution_count": 23,
   "id": "1eeaafdb",
   "metadata": {},
   "outputs": [
    {
     "name": "stdout",
     "output_type": "stream",
     "text": [
      "Slope: [[15.02685344]]\n",
      "Mean squared error:  80307364.1671547\n",
      "R2 score:  0.9213868774720104\n"
     ]
    }
   ],
   "source": [
    "#Model summary statistics\n",
    "print('Slope:' ,regression.coef_)\n",
    "print('Mean squared error: ', rmse)\n",
    "print('R2 score: ', r2)"
   ]
  },
  {
   "cell_type": "code",
   "execution_count": 24,
   "id": "c1ccc21b",
   "metadata": {},
   "outputs": [
    {
     "data": {
      "text/html": [
       "<div>\n",
       "<style scoped>\n",
       "    .dataframe tbody tr th:only-of-type {\n",
       "        vertical-align: middle;\n",
       "    }\n",
       "\n",
       "    .dataframe tbody tr th {\n",
       "        vertical-align: top;\n",
       "    }\n",
       "\n",
       "    .dataframe thead th {\n",
       "        text-align: right;\n",
       "    }\n",
       "</style>\n",
       "<table border=\"1\" class=\"dataframe\">\n",
       "  <thead>\n",
       "    <tr style=\"text-align: right;\">\n",
       "      <th></th>\n",
       "      <th>Actual</th>\n",
       "      <th>Predicted</th>\n",
       "    </tr>\n",
       "  </thead>\n",
       "  <tbody>\n",
       "    <tr>\n",
       "      <th>0</th>\n",
       "      <td>8965</td>\n",
       "      <td>14899.398252</td>\n",
       "    </tr>\n",
       "    <tr>\n",
       "      <th>1</th>\n",
       "      <td>11892</td>\n",
       "      <td>12097.878445</td>\n",
       "    </tr>\n",
       "    <tr>\n",
       "      <th>2</th>\n",
       "      <td>9004</td>\n",
       "      <td>18344.842489</td>\n",
       "    </tr>\n",
       "    <tr>\n",
       "      <th>3</th>\n",
       "      <td>11892</td>\n",
       "      <td>12097.878445</td>\n",
       "    </tr>\n",
       "    <tr>\n",
       "      <th>4</th>\n",
       "      <td>14475</td>\n",
       "      <td>17662.540591</td>\n",
       "    </tr>\n",
       "    <tr>\n",
       "      <th>5</th>\n",
       "      <td>99633</td>\n",
       "      <td>89362.872946</td>\n",
       "    </tr>\n",
       "    <tr>\n",
       "      <th>6</th>\n",
       "      <td>12346</td>\n",
       "      <td>6613.734692</td>\n",
       "    </tr>\n",
       "    <tr>\n",
       "      <th>7</th>\n",
       "      <td>4948</td>\n",
       "      <td>7134.278747</td>\n",
       "    </tr>\n",
       "    <tr>\n",
       "      <th>8</th>\n",
       "      <td>17761</td>\n",
       "      <td>11393.913799</td>\n",
       "    </tr>\n",
       "    <tr>\n",
       "      <th>9</th>\n",
       "      <td>8485</td>\n",
       "      <td>8005.761939</td>\n",
       "    </tr>\n",
       "    <tr>\n",
       "      <th>10</th>\n",
       "      <td>11787</td>\n",
       "      <td>13724.669235</td>\n",
       "    </tr>\n",
       "    <tr>\n",
       "      <th>11</th>\n",
       "      <td>17135</td>\n",
       "      <td>11393.913799</td>\n",
       "    </tr>\n",
       "    <tr>\n",
       "      <th>12</th>\n",
       "      <td>16291</td>\n",
       "      <td>11501.900554</td>\n",
       "    </tr>\n",
       "    <tr>\n",
       "      <th>13</th>\n",
       "      <td>17019</td>\n",
       "      <td>10353.405655</td>\n",
       "    </tr>\n",
       "    <tr>\n",
       "      <th>14</th>\n",
       "      <td>19907</td>\n",
       "      <td>11393.913799</td>\n",
       "    </tr>\n",
       "    <tr>\n",
       "      <th>15</th>\n",
       "      <td>5655</td>\n",
       "      <td>5952.091769</td>\n",
       "    </tr>\n",
       "    <tr>\n",
       "      <th>16</th>\n",
       "      <td>16284</td>\n",
       "      <td>7981.677225</td>\n",
       "    </tr>\n",
       "    <tr>\n",
       "      <th>17</th>\n",
       "      <td>15516</td>\n",
       "      <td>37333.268777</td>\n",
       "    </tr>\n",
       "    <tr>\n",
       "      <th>18</th>\n",
       "      <td>6244</td>\n",
       "      <td>5518.775320</td>\n",
       "    </tr>\n",
       "    <tr>\n",
       "      <th>19</th>\n",
       "      <td>13991</td>\n",
       "      <td>17662.540591</td>\n",
       "    </tr>\n",
       "    <tr>\n",
       "      <th>20</th>\n",
       "      <td>8822</td>\n",
       "      <td>8005.761939</td>\n",
       "    </tr>\n",
       "    <tr>\n",
       "      <th>21</th>\n",
       "      <td>15256</td>\n",
       "      <td>10821.062085</td>\n",
       "    </tr>\n",
       "    <tr>\n",
       "      <th>22</th>\n",
       "      <td>103657</td>\n",
       "      <td>89362.872946</td>\n",
       "    </tr>\n",
       "    <tr>\n",
       "      <th>23</th>\n",
       "      <td>96143</td>\n",
       "      <td>89362.872946</td>\n",
       "    </tr>\n",
       "    <tr>\n",
       "      <th>24</th>\n",
       "      <td>16065</td>\n",
       "      <td>11581.581526</td>\n",
       "    </tr>\n",
       "    <tr>\n",
       "      <th>25</th>\n",
       "      <td>8967</td>\n",
       "      <td>14899.398252</td>\n",
       "    </tr>\n",
       "    <tr>\n",
       "      <th>26</th>\n",
       "      <td>14898</td>\n",
       "      <td>17662.540591</td>\n",
       "    </tr>\n",
       "    <tr>\n",
       "      <th>27</th>\n",
       "      <td>15259</td>\n",
       "      <td>17662.540591</td>\n",
       "    </tr>\n",
       "    <tr>\n",
       "      <th>28</th>\n",
       "      <td>8971</td>\n",
       "      <td>8005.761939</td>\n",
       "    </tr>\n",
       "    <tr>\n",
       "      <th>29</th>\n",
       "      <td>5023</td>\n",
       "      <td>9762.343126</td>\n",
       "    </tr>\n",
       "  </tbody>\n",
       "</table>\n",
       "</div>"
      ],
      "text/plain": [
       "    Actual     Predicted\n",
       "0     8965  14899.398252\n",
       "1    11892  12097.878445\n",
       "2     9004  18344.842489\n",
       "3    11892  12097.878445\n",
       "4    14475  17662.540591\n",
       "5    99633  89362.872946\n",
       "6    12346   6613.734692\n",
       "7     4948   7134.278747\n",
       "8    17761  11393.913799\n",
       "9     8485   8005.761939\n",
       "10   11787  13724.669235\n",
       "11   17135  11393.913799\n",
       "12   16291  11501.900554\n",
       "13   17019  10353.405655\n",
       "14   19907  11393.913799\n",
       "15    5655   5952.091769\n",
       "16   16284   7981.677225\n",
       "17   15516  37333.268777\n",
       "18    6244   5518.775320\n",
       "19   13991  17662.540591\n",
       "20    8822   8005.761939\n",
       "21   15256  10821.062085\n",
       "22  103657  89362.872946\n",
       "23   96143  89362.872946\n",
       "24   16065  11581.581526\n",
       "25    8967  14899.398252\n",
       "26   14898  17662.540591\n",
       "27   15259  17662.540591\n",
       "28    8971   8005.761939\n",
       "29    5023   9762.343126"
      ]
     },
     "execution_count": 24,
     "metadata": {},
     "output_type": "execute_result"
    }
   ],
   "source": [
    "#Comparing the actual and predicted values of y\n",
    "data = pd.DataFrame({'Actual': y_test.flatten(), 'Predicted': y_predicted.flatten()})\n",
    "data.head(30)"
   ]
  },
  {
   "cell_type": "markdown",
   "id": "2bf051dd",
   "metadata": {},
   "source": [
    "R2 value for the is pretty high at 0.92, which would indicate a good fit of the model. The MSE value with about 80m shows that the model might not be best suited to make accurate predictions. Althoug population density can be used an indicator for crime levels, it alone does not determine its level, therefore introducing further control variables into the model could improve it's predictions. Furthermore, employing an exponential regression might further reduce the MSE value."
   ]
  },
  {
   "cell_type": "code",
   "execution_count": null,
   "id": "5cd1e9dd",
   "metadata": {},
   "outputs": [],
   "source": []
  }
 ],
 "metadata": {
  "kernelspec": {
   "display_name": "Python 3 (ipykernel)",
   "language": "python",
   "name": "python3"
  },
  "language_info": {
   "codemirror_mode": {
    "name": "ipython",
    "version": 3
   },
   "file_extension": ".py",
   "mimetype": "text/x-python",
   "name": "python",
   "nbconvert_exporter": "python",
   "pygments_lexer": "ipython3",
   "version": "3.9.12"
  }
 },
 "nbformat": 4,
 "nbformat_minor": 5
}
